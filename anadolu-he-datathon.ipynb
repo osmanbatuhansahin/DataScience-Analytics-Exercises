{
 "cells": [
  {
   "cell_type": "code",
   "execution_count": 1,
   "id": "0c6462d7",
   "metadata": {
    "_cell_guid": "b1076dfc-b9ad-4769-8c92-a6c4dae69d19",
    "_uuid": "8f2839f25d086af736a60e9eeb907d3b93b6e0e5",
    "execution": {
     "iopub.execute_input": "2022-05-22T12:59:53.710532Z",
     "iopub.status.busy": "2022-05-22T12:59:53.710042Z",
     "iopub.status.idle": "2022-05-22T12:59:53.733681Z",
     "shell.execute_reply": "2022-05-22T12:59:53.729210Z"
    },
    "papermill": {
     "duration": 0.117529,
     "end_time": "2022-05-22T12:59:53.736856",
     "exception": false,
     "start_time": "2022-05-22T12:59:53.619327",
     "status": "completed"
    },
    "tags": []
   },
   "outputs": [
    {
     "name": "stdout",
     "output_type": "stream",
     "text": [
      "/kaggle/input/anadolu-hayat-emeklilik-datathon-coderspace/samplesubmission.csv\n",
      "/kaggle/input/anadolu-hayat-emeklilik-datathon-coderspace/train.csv\n",
      "/kaggle/input/anadolu-hayat-emeklilik-datathon-coderspace/test.csv\n"
     ]
    }
   ],
   "source": [
    "# This Python 3 environment comes with many helpful analytics libraries installed\n",
    "# It is defined by the kaggle/python Docker image: https://github.com/kaggle/docker-python\n",
    "# For example, here's several helpful packages to load\n",
    "\n",
    "import numpy as np # linear algebra\n",
    "import pandas as pd # data processing, CSV file I/O (e.g. pd.read_csv)\n",
    "\n",
    "# Input data files are available in the read-only \"../input/\" directory\n",
    "# For example, running this (by clicking run or pressing Shift+Enter) will list all files under the input directory\n",
    "\n",
    "import os\n",
    "for dirname, _, filenames in os.walk('/kaggle/input'):\n",
    "    for filename in filenames:\n",
    "        print(os.path.join(dirname, filename))\n",
    "\n",
    "# You can write up to 20GB to the current directory (/kaggle/working/) that gets preserved as output when you create a version using \"Save & Run All\" \n",
    "# You can also write temporary files to /kaggle/temp/, but they won't be saved outside of the current session"
   ]
  },
  {
   "cell_type": "code",
   "execution_count": 2,
   "id": "ede1b5b5",
   "metadata": {
    "execution": {
     "iopub.execute_input": "2022-05-22T12:59:53.907471Z",
     "iopub.status.busy": "2022-05-22T12:59:53.906958Z",
     "iopub.status.idle": "2022-05-22T12:59:54.942955Z",
     "shell.execute_reply": "2022-05-22T12:59:54.942168Z"
    },
    "papermill": {
     "duration": 1.119454,
     "end_time": "2022-05-22T12:59:54.945295",
     "exception": false,
     "start_time": "2022-05-22T12:59:53.825841",
     "status": "completed"
    },
    "tags": []
   },
   "outputs": [],
   "source": [
    "import numpy as np\n",
    "import pandas as pd\n",
    "import matplotlib.pyplot as plt\n",
    "import seaborn as sns\n",
    "\n",
    "#close warnings\n",
    "import warnings\n",
    "warnings.filterwarnings(\"ignore\")\n"
   ]
  },
  {
   "cell_type": "code",
   "execution_count": 3,
   "id": "96fda879",
   "metadata": {
    "execution": {
     "iopub.execute_input": "2022-05-22T12:59:55.107681Z",
     "iopub.status.busy": "2022-05-22T12:59:55.107210Z",
     "iopub.status.idle": "2022-05-22T13:00:03.642904Z",
     "shell.execute_reply": "2022-05-22T13:00:03.642211Z"
    },
    "papermill": {
     "duration": 8.620244,
     "end_time": "2022-05-22T13:00:03.645219",
     "exception": false,
     "start_time": "2022-05-22T12:59:55.024975",
     "status": "completed"
    },
    "tags": []
   },
   "outputs": [],
   "source": [
    "#read data\n",
    "train = pd.read_csv(\"../input/anadolu-hayat-emeklilik-datathon-coderspace/train.csv\",decimal=',')\n",
    "test = pd.read_csv(\"../input/anadolu-hayat-emeklilik-datathon-coderspace/test.csv\",decimal=',')"
   ]
  },
  {
   "cell_type": "code",
   "execution_count": 4,
   "id": "7e4da07c",
   "metadata": {
    "execution": {
     "iopub.execute_input": "2022-05-22T13:00:03.805871Z",
     "iopub.status.busy": "2022-05-22T13:00:03.805587Z",
     "iopub.status.idle": "2022-05-22T13:00:05.782601Z",
     "shell.execute_reply": "2022-05-22T13:00:05.781614Z"
    },
    "papermill": {
     "duration": 2.059385,
     "end_time": "2022-05-22T13:00:05.785583",
     "exception": false,
     "start_time": "2022-05-22T13:00:03.726198",
     "status": "completed"
    },
    "tags": []
   },
   "outputs": [
    {
     "name": "stdout",
     "output_type": "stream",
     "text": [
      "<class 'pandas.core.frame.DataFrame'>\n",
      "RangeIndex: 634112 entries, 0 to 634111\n",
      "Data columns (total 49 columns):\n",
      " #   Column                  Non-Null Count   Dtype \n",
      "---  ------                  --------------   ----- \n",
      " 0   POLICY_ID               634112 non-null  int64 \n",
      " 1   OFFICE_ID               634112 non-null  int64 \n",
      " 2   SIGORTA_TIP             634112 non-null  int64 \n",
      " 3   SOZLESME_KOKENI         634112 non-null  object\n",
      " 4   SOZLESME_KOKENI_DETAY   627896 non-null  object\n",
      " 5   BASLANGIC_TARIHI        634112 non-null  object\n",
      " 6   KAPSAM_TIPI             634112 non-null  object\n",
      " 7   KAPSAM_GRUBU            634112 non-null  object\n",
      " 8   DAGITIM_KANALI          634106 non-null  object\n",
      " 9   POLICE_SEHIR            632176 non-null  object\n",
      " 10  DOGUM_TARIHI            634112 non-null  int64 \n",
      " 11  CINSIYET                634112 non-null  int64 \n",
      " 12  UYRUK                   634001 non-null  object\n",
      " 13  MEMLEKET                634112 non-null  int64 \n",
      " 14  MESLEK                  567252 non-null  object\n",
      " 15  MESLEK_KIRILIM          564974 non-null  object\n",
      " 16  MUSTERI_SEGMENTI        634109 non-null  object\n",
      " 17  YATIRIM_KARAKTERI       75859 non-null   object\n",
      " 18  MEDENI_HAL              630913 non-null  object\n",
      " 19  EGITIM_DURUM            484317 non-null  object\n",
      " 20  GELIR                   556468 non-null  object\n",
      " 21  COCUK_SAYISI            516004 non-null  object\n",
      " 22  OCAK_ODENEN_TUTAR       634112 non-null  int64 \n",
      " 23  OCAK_VADE_TUTARI        634112 non-null  object\n",
      " 24  SUBAT_ODENEN_TU         634112 non-null  int64 \n",
      " 25  SUBAT_VADE_TUTARI       634112 non-null  object\n",
      " 26  MART_ODENEN_TUTAR       634112 non-null  int64 \n",
      " 27  MART_VADE_TUTARI        634112 non-null  object\n",
      " 28  NISAN_ODENEN_TUTAR      634112 non-null  int64 \n",
      " 29  NISAN_VADE_TUTARI       634112 non-null  object\n",
      " 30  MAYIS_ODENEN_TUTAR      634112 non-null  int64 \n",
      " 31  MAYIS_VADE_TUTARI       634112 non-null  object\n",
      " 32  HAZIRAN_ODENEN_TUTAR    634112 non-null  int64 \n",
      " 33  HAZIRAN_VADE_TUTARI     634112 non-null  object\n",
      " 34  TEMMUZ_ODENEN_TUTAR     634112 non-null  int64 \n",
      " 35  TEMMUZ_VADE_TUTARI      634112 non-null  object\n",
      " 36  AGUSTOS_ODENEN_TUTAR    634112 non-null  int64 \n",
      " 37  AGUSTOS_VADE_TUTARI     634112 non-null  object\n",
      " 38  EYLUL_ODENEN_TUTAR      634112 non-null  int64 \n",
      " 39  EYLUL_VADE_TUTARI       634112 non-null  object\n",
      " 40  EKIM_ODENEN_TUTAR       634112 non-null  int64 \n",
      " 41  EKIM_VADE_TUTARI        634112 non-null  object\n",
      " 42  KASIM_ODENEN_TUTAR      634112 non-null  int64 \n",
      " 43  KASIM_VADE_TUTARI       634112 non-null  object\n",
      " 44  ARALIK_ODENEN_TUTAR     634112 non-null  int64 \n",
      " 45  ARALIK_VADE_TUTARI      634112 non-null  object\n",
      " 46  SENE_BASI_HESAP_DEGERI  634112 non-null  object\n",
      " 47  SENE_SONU_HESAP_DEGERI  634112 non-null  object\n",
      " 48  ARTIS_DURUMU            634112 non-null  int64 \n",
      "dtypes: int64(19), object(30)\n",
      "memory usage: 237.1+ MB\n"
     ]
    }
   ],
   "source": [
    "#data types\n",
    "train.info()"
   ]
  },
  {
   "cell_type": "code",
   "execution_count": 5,
   "id": "b42ed5a9",
   "metadata": {
    "execution": {
     "iopub.execute_input": "2022-05-22T13:00:05.945819Z",
     "iopub.status.busy": "2022-05-22T13:00:05.944954Z",
     "iopub.status.idle": "2022-05-22T13:00:05.959670Z",
     "shell.execute_reply": "2022-05-22T13:00:05.959114Z"
    },
    "papermill": {
     "duration": 0.09644,
     "end_time": "2022-05-22T13:00:05.961269",
     "exception": false,
     "start_time": "2022-05-22T13:00:05.864829",
     "status": "completed"
    },
    "tags": []
   },
   "outputs": [
    {
     "data": {
      "text/plain": [
       "10006    168542\n",
       "10017     27783\n",
       "10023     11483\n",
       "10091      8646\n",
       "10029      8335\n",
       "          ...  \n",
       "11600         1\n",
       "11719         1\n",
       "11741         1\n",
       "11707         1\n",
       "11624         1\n",
       "Name: OFFICE_ID, Length: 1749, dtype: int64"
      ]
     },
     "execution_count": 5,
     "metadata": {},
     "output_type": "execute_result"
    }
   ],
   "source": [
    "train['OFFICE_ID'].value_counts()"
   ]
  },
  {
   "cell_type": "code",
   "execution_count": 6,
   "id": "5209e60d",
   "metadata": {
    "execution": {
     "iopub.execute_input": "2022-05-22T13:00:06.121939Z",
     "iopub.status.busy": "2022-05-22T13:00:06.121476Z",
     "iopub.status.idle": "2022-05-22T13:00:06.446070Z",
     "shell.execute_reply": "2022-05-22T13:00:06.445212Z"
    },
    "papermill": {
     "duration": 0.407895,
     "end_time": "2022-05-22T13:00:06.448374",
     "exception": false,
     "start_time": "2022-05-22T13:00:06.040479",
     "status": "completed"
    },
    "tags": []
   },
   "outputs": [],
   "source": [
    "#YATIRIM_KARAKTERI has a lot of NaN values so drop\n",
    "#'OFFICE_ID','POLICY_ID' does not effect model\n",
    "train.drop(['YATIRIM_KARAKTERI','POLICY_ID'],axis=1,inplace=True)\n",
    "test.drop(['YATIRIM_KARAKTERI','POLICY_ID'],axis=1,inplace=True)"
   ]
  },
  {
   "cell_type": "code",
   "execution_count": 7,
   "id": "5e1f2140",
   "metadata": {
    "execution": {
     "iopub.execute_input": "2022-05-22T13:00:06.607602Z",
     "iopub.status.busy": "2022-05-22T13:00:06.607346Z",
     "iopub.status.idle": "2022-05-22T13:00:09.261379Z",
     "shell.execute_reply": "2022-05-22T13:00:09.260646Z"
    },
    "papermill": {
     "duration": 2.736364,
     "end_time": "2022-05-22T13:00:09.264083",
     "exception": false,
     "start_time": "2022-05-22T13:00:06.527719",
     "status": "completed"
    },
    "tags": []
   },
   "outputs": [
    {
     "name": "stdout",
     "output_type": "stream",
     "text": [
      "Train Missing values:\n",
      " EGITIM_DURUM              149795\n",
      "COCUK_SAYISI              118108\n",
      "GELIR                      77644\n",
      "MESLEK_KIRILIM             69138\n",
      "MESLEK                     66860\n",
      "SOZLESME_KOKENI_DETAY       6216\n",
      "MEDENI_HAL                  3199\n",
      "POLICE_SEHIR                1936\n",
      "UYRUK                        111\n",
      "DAGITIM_KANALI                 6\n",
      "MUSTERI_SEGMENTI               3\n",
      "TEMMUZ_ODENEN_TUTAR            0\n",
      "TEMMUZ_VADE_TUTARI             0\n",
      "AGUSTOS_ODENEN_TUTAR           0\n",
      "EYLUL_ODENEN_TUTAR             0\n",
      "EYLUL_VADE_TUTARI              0\n",
      "EKIM_ODENEN_TUTAR              0\n",
      "HAZIRAN_VADE_TUTARI            0\n",
      "AGUSTOS_VADE_TUTARI            0\n",
      "OFFICE_ID                      0\n",
      "MAYIS_VADE_TUTARI              0\n",
      "EKIM_VADE_TUTARI               0\n",
      "KASIM_ODENEN_TUTAR             0\n",
      "KASIM_VADE_TUTARI              0\n",
      "ARALIK_ODENEN_TUTAR            0\n",
      "ARALIK_VADE_TUTARI             0\n",
      "SENE_BASI_HESAP_DEGERI         0\n",
      "SENE_SONU_HESAP_DEGERI         0\n",
      "HAZIRAN_ODENEN_TUTAR           0\n",
      "SUBAT_VADE_TUTARI              0\n",
      "MAYIS_ODENEN_TUTAR             0\n",
      "MEMLEKET                       0\n",
      "SOZLESME_KOKENI                0\n",
      "BASLANGIC_TARIHI               0\n",
      "KAPSAM_TIPI                    0\n",
      "KAPSAM_GRUBU                   0\n",
      "DOGUM_TARIHI                   0\n",
      "CINSIYET                       0\n",
      "OCAK_ODENEN_TUTAR              0\n",
      "NISAN_VADE_TUTARI              0\n",
      "OCAK_VADE_TUTARI               0\n",
      "SUBAT_ODENEN_TU                0\n",
      "SIGORTA_TIP                    0\n",
      "MART_ODENEN_TUTAR              0\n",
      "MART_VADE_TUTARI               0\n",
      "NISAN_ODENEN_TUTAR             0\n",
      "ARTIS_DURUMU                   0\n",
      "dtype: int64 \n",
      "\n",
      "Test Missing values:\n",
      " EGITIM_DURUM              57237\n",
      "COCUK_SAYISI              45634\n",
      "GELIR                     29721\n",
      "MESLEK_KIRILIM            27294\n",
      "MESLEK                    26389\n",
      "SOZLESME_KOKENI_DETAY      2240\n",
      "MEDENI_HAL                 1280\n",
      "POLICE_SEHIR                572\n",
      "UYRUK                        21\n",
      "DAGITIM_KANALI                2\n",
      "MUSTERI_SEGMENTI              2\n",
      "TEMMUZ_ODENEN_TUTAR           0\n",
      "TEMMUZ_VADE_TUTARI            0\n",
      "AGUSTOS_ODENEN_TUTAR          0\n",
      "EYLUL_ODENEN_TUTAR            0\n",
      "EYLUL_VADE_TUTARI             0\n",
      "HAZIRAN_VADE_TUTARI           0\n",
      "AGUSTOS_VADE_TUTARI           0\n",
      "OFFICE_ID                     0\n",
      "MAYIS_VADE_TUTARI             0\n",
      "EKIM_ODENEN_TUTAR             0\n",
      "EKIM_VADE_TUTARI              0\n",
      "KASIM_ODENEN_TUTAR            0\n",
      "KASIM_VADE_TUTARI             0\n",
      "ARALIK_ODENEN_TUTAR           0\n",
      "ARALIK_VADE_TUTARI            0\n",
      "SENE_BASI_HESAP_DEGERI        0\n",
      "HAZIRAN_ODENEN_TUTAR          0\n",
      "SUBAT_VADE_TUTARI             0\n",
      "MAYIS_ODENEN_TUTAR            0\n",
      "MEMLEKET                      0\n",
      "SOZLESME_KOKENI               0\n",
      "BASLANGIC_TARIHI              0\n",
      "KAPSAM_TIPI                   0\n",
      "KAPSAM_GRUBU                  0\n",
      "DOGUM_TARIHI                  0\n",
      "CINSIYET                      0\n",
      "OCAK_ODENEN_TUTAR             0\n",
      "NISAN_VADE_TUTARI             0\n",
      "OCAK_VADE_TUTARI              0\n",
      "SUBAT_ODENEN_TU               0\n",
      "SIGORTA_TIP                   0\n",
      "MART_ODENEN_TUTAR             0\n",
      "MART_VADE_TUTARI              0\n",
      "NISAN_ODENEN_TUTAR            0\n",
      "SENE_SONU_HESAP_DEGERI        0\n",
      "dtype: int64 \n",
      "\n"
     ]
    }
   ],
   "source": [
    "print(\"Train Missing values:\\n\", train.isnull().sum().sort_values(ascending=False), \"\\n\")\n",
    "print(\"Test Missing values:\\n\", test.isnull().sum().sort_values(ascending=False), \"\\n\")"
   ]
  },
  {
   "cell_type": "code",
   "execution_count": 8,
   "id": "380f02a9",
   "metadata": {
    "execution": {
     "iopub.execute_input": "2022-05-22T13:00:09.427631Z",
     "iopub.status.busy": "2022-05-22T13:00:09.426850Z",
     "iopub.status.idle": "2022-05-22T13:00:15.232778Z",
     "shell.execute_reply": "2022-05-22T13:00:15.231954Z"
    },
    "papermill": {
     "duration": 5.889288,
     "end_time": "2022-05-22T13:00:15.234742",
     "exception": false,
     "start_time": "2022-05-22T13:00:09.345454",
     "status": "completed"
    },
    "tags": []
   },
   "outputs": [
    {
     "data": {
      "text/html": [
       "<div>\n",
       "<style scoped>\n",
       "    .dataframe tbody tr th:only-of-type {\n",
       "        vertical-align: middle;\n",
       "    }\n",
       "\n",
       "    .dataframe tbody tr th {\n",
       "        vertical-align: top;\n",
       "    }\n",
       "\n",
       "    .dataframe thead th {\n",
       "        text-align: right;\n",
       "    }\n",
       "</style>\n",
       "<table border=\"1\" class=\"dataframe\">\n",
       "  <thead>\n",
       "    <tr style=\"text-align: right;\">\n",
       "      <th></th>\n",
       "      <th>SOZLESME_KOKENI</th>\n",
       "      <th>SOZLESME_KOKENI_DETAY</th>\n",
       "      <th>BASLANGIC_TARIHI</th>\n",
       "      <th>KAPSAM_TIPI</th>\n",
       "      <th>KAPSAM_GRUBU</th>\n",
       "      <th>DAGITIM_KANALI</th>\n",
       "      <th>POLICE_SEHIR</th>\n",
       "      <th>UYRUK</th>\n",
       "      <th>MESLEK</th>\n",
       "      <th>MESLEK_KIRILIM</th>\n",
       "      <th>...</th>\n",
       "      <th>MAYIS_VADE_TUTARI</th>\n",
       "      <th>HAZIRAN_VADE_TUTARI</th>\n",
       "      <th>TEMMUZ_VADE_TUTARI</th>\n",
       "      <th>AGUSTOS_VADE_TUTARI</th>\n",
       "      <th>EYLUL_VADE_TUTARI</th>\n",
       "      <th>EKIM_VADE_TUTARI</th>\n",
       "      <th>KASIM_VADE_TUTARI</th>\n",
       "      <th>ARALIK_VADE_TUTARI</th>\n",
       "      <th>SENE_BASI_HESAP_DEGERI</th>\n",
       "      <th>SENE_SONU_HESAP_DEGERI</th>\n",
       "    </tr>\n",
       "  </thead>\n",
       "  <tbody>\n",
       "    <tr>\n",
       "      <th>count</th>\n",
       "      <td>634112</td>\n",
       "      <td>627896</td>\n",
       "      <td>634112</td>\n",
       "      <td>634112</td>\n",
       "      <td>634112</td>\n",
       "      <td>634106</td>\n",
       "      <td>632176</td>\n",
       "      <td>634001</td>\n",
       "      <td>567252</td>\n",
       "      <td>564974</td>\n",
       "      <td>...</td>\n",
       "      <td>634112</td>\n",
       "      <td>634112</td>\n",
       "      <td>634112</td>\n",
       "      <td>634112</td>\n",
       "      <td>634112</td>\n",
       "      <td>634112</td>\n",
       "      <td>634112</td>\n",
       "      <td>634112</td>\n",
       "      <td>634112</td>\n",
       "      <td>634112</td>\n",
       "    </tr>\n",
       "    <tr>\n",
       "      <th>unique</th>\n",
       "      <td>5</td>\n",
       "      <td>10</td>\n",
       "      <td>195</td>\n",
       "      <td>239</td>\n",
       "      <td>10</td>\n",
       "      <td>20</td>\n",
       "      <td>603</td>\n",
       "      <td>80</td>\n",
       "      <td>32</td>\n",
       "      <td>87</td>\n",
       "      <td>...</td>\n",
       "      <td>4615</td>\n",
       "      <td>4648</td>\n",
       "      <td>4666</td>\n",
       "      <td>4661</td>\n",
       "      <td>4692</td>\n",
       "      <td>4695</td>\n",
       "      <td>4714</td>\n",
       "      <td>4671</td>\n",
       "      <td>462844</td>\n",
       "      <td>490898</td>\n",
       "    </tr>\n",
       "    <tr>\n",
       "      <th>top</th>\n",
       "      <td>NEW</td>\n",
       "      <td>NEW</td>\n",
       "      <td>2019-12</td>\n",
       "      <td>PENSION247</td>\n",
       "      <td>GRUPLANMAMI?</td>\n",
       "      <td>Kanal4 + Kanal2</td>\n",
       "      <td>?STANBUL</td>\n",
       "      <td>TR</td>\n",
       "      <td>SEKT032</td>\n",
       "      <td>OCCU074</td>\n",
       "      <td>...</td>\n",
       "      <td>340.0</td>\n",
       "      <td>340.0</td>\n",
       "      <td>340.0</td>\n",
       "      <td>340.0</td>\n",
       "      <td>340.0</td>\n",
       "      <td>340.0</td>\n",
       "      <td>340.0</td>\n",
       "      <td>340.0</td>\n",
       "      <td>0.0</td>\n",
       "      <td>0.0</td>\n",
       "    </tr>\n",
       "    <tr>\n",
       "      <th>freq</th>\n",
       "      <td>620214</td>\n",
       "      <td>612898</td>\n",
       "      <td>11509</td>\n",
       "      <td>66416</td>\n",
       "      <td>359968</td>\n",
       "      <td>456132</td>\n",
       "      <td>144353</td>\n",
       "      <td>630849</td>\n",
       "      <td>309717</td>\n",
       "      <td>113354</td>\n",
       "      <td>...</td>\n",
       "      <td>54750</td>\n",
       "      <td>54605</td>\n",
       "      <td>54445</td>\n",
       "      <td>54230</td>\n",
       "      <td>54085</td>\n",
       "      <td>53984</td>\n",
       "      <td>53858</td>\n",
       "      <td>53790</td>\n",
       "      <td>28708</td>\n",
       "      <td>31040</td>\n",
       "    </tr>\n",
       "  </tbody>\n",
       "</table>\n",
       "<p>4 rows × 29 columns</p>\n",
       "</div>"
      ],
      "text/plain": [
       "       SOZLESME_KOKENI SOZLESME_KOKENI_DETAY BASLANGIC_TARIHI KAPSAM_TIPI  \\\n",
       "count           634112                627896           634112      634112   \n",
       "unique               5                    10              195         239   \n",
       "top                NEW                   NEW          2019-12  PENSION247   \n",
       "freq            620214                612898            11509       66416   \n",
       "\n",
       "        KAPSAM_GRUBU   DAGITIM_KANALI POLICE_SEHIR   UYRUK   MESLEK  \\\n",
       "count         634112           634106       632176  634001   567252   \n",
       "unique            10               20          603      80       32   \n",
       "top     GRUPLANMAMI?  Kanal4 + Kanal2     ?STANBUL      TR  SEKT032   \n",
       "freq          359968           456132       144353  630849   309717   \n",
       "\n",
       "       MESLEK_KIRILIM  ... MAYIS_VADE_TUTARI HAZIRAN_VADE_TUTARI  \\\n",
       "count          564974  ...            634112              634112   \n",
       "unique             87  ...              4615                4648   \n",
       "top           OCCU074  ...             340.0               340.0   \n",
       "freq           113354  ...             54750               54605   \n",
       "\n",
       "       TEMMUZ_VADE_TUTARI AGUSTOS_VADE_TUTARI EYLUL_VADE_TUTARI  \\\n",
       "count              634112              634112            634112   \n",
       "unique               4666                4661              4692   \n",
       "top                 340.0               340.0             340.0   \n",
       "freq                54445               54230             54085   \n",
       "\n",
       "       EKIM_VADE_TUTARI KASIM_VADE_TUTARI ARALIK_VADE_TUTARI  \\\n",
       "count            634112            634112             634112   \n",
       "unique             4695              4714               4671   \n",
       "top               340.0             340.0              340.0   \n",
       "freq              53984             53858              53790   \n",
       "\n",
       "       SENE_BASI_HESAP_DEGERI SENE_SONU_HESAP_DEGERI  \n",
       "count                  634112                 634112  \n",
       "unique                 462844                 490898  \n",
       "top                       0.0                    0.0  \n",
       "freq                    28708                  31040  \n",
       "\n",
       "[4 rows x 29 columns]"
      ]
     },
     "execution_count": 8,
     "metadata": {},
     "output_type": "execute_result"
    }
   ],
   "source": [
    "#handling object datatype\n",
    "train.describe(include = \"object_\")"
   ]
  },
  {
   "cell_type": "code",
   "execution_count": 9,
   "id": "a8d33fdb",
   "metadata": {
    "execution": {
     "iopub.execute_input": "2022-05-22T13:00:15.401816Z",
     "iopub.status.busy": "2022-05-22T13:00:15.401324Z",
     "iopub.status.idle": "2022-05-22T13:00:15.574851Z",
     "shell.execute_reply": "2022-05-22T13:00:15.574187Z"
    },
    "papermill": {
     "duration": 0.259351,
     "end_time": "2022-05-22T13:00:15.577638",
     "exception": false,
     "start_time": "2022-05-22T13:00:15.318287",
     "status": "completed"
    },
    "tags": []
   },
   "outputs": [
    {
     "data": {
      "text/html": [
       "<div>\n",
       "<style scoped>\n",
       "    .dataframe tbody tr th:only-of-type {\n",
       "        vertical-align: middle;\n",
       "    }\n",
       "\n",
       "    .dataframe tbody tr th {\n",
       "        vertical-align: top;\n",
       "    }\n",
       "\n",
       "    .dataframe thead th {\n",
       "        text-align: right;\n",
       "    }\n",
       "</style>\n",
       "<table border=\"1\" class=\"dataframe\">\n",
       "  <thead>\n",
       "    <tr style=\"text-align: right;\">\n",
       "      <th></th>\n",
       "      <th>SOZLESME_KOKENI</th>\n",
       "      <th>SOZLESME_KOKENI_DETAY</th>\n",
       "      <th>BASLANGIC_TARIHI</th>\n",
       "      <th>KAPSAM_TIPI</th>\n",
       "      <th>KAPSAM_GRUBU</th>\n",
       "      <th>DAGITIM_KANALI</th>\n",
       "      <th>POLICE_SEHIR</th>\n",
       "      <th>UYRUK</th>\n",
       "      <th>MESLEK</th>\n",
       "      <th>MESLEK_KIRILIM</th>\n",
       "      <th>...</th>\n",
       "      <th>MAYIS_VADE_TUTARI</th>\n",
       "      <th>HAZIRAN_VADE_TUTARI</th>\n",
       "      <th>TEMMUZ_VADE_TUTARI</th>\n",
       "      <th>AGUSTOS_VADE_TUTARI</th>\n",
       "      <th>EYLUL_VADE_TUTARI</th>\n",
       "      <th>EKIM_VADE_TUTARI</th>\n",
       "      <th>KASIM_VADE_TUTARI</th>\n",
       "      <th>ARALIK_VADE_TUTARI</th>\n",
       "      <th>SENE_BASI_HESAP_DEGERI</th>\n",
       "      <th>SENE_SONU_HESAP_DEGERI</th>\n",
       "    </tr>\n",
       "  </thead>\n",
       "  <tbody>\n",
       "    <tr>\n",
       "      <th>0</th>\n",
       "      <td>NEW</td>\n",
       "      <td>NEW</td>\n",
       "      <td>2014-04</td>\n",
       "      <td>PENSION318</td>\n",
       "      <td>STD B?REYSEL</td>\n",
       "      <td>Kanal7</td>\n",
       "      <td>ESK??EH?R</td>\n",
       "      <td>TR</td>\n",
       "      <td>SEKT032</td>\n",
       "      <td>OCCU011</td>\n",
       "      <td>...</td>\n",
       "      <td>220.0</td>\n",
       "      <td>220.0</td>\n",
       "      <td>220.0</td>\n",
       "      <td>220.0</td>\n",
       "      <td>220.0</td>\n",
       "      <td>220.0</td>\n",
       "      <td>220.0</td>\n",
       "      <td>220.0</td>\n",
       "      <td>15248.75</td>\n",
       "      <td>25684.25</td>\n",
       "    </tr>\n",
       "    <tr>\n",
       "      <th>1</th>\n",
       "      <td>NEW</td>\n",
       "      <td>NEW</td>\n",
       "      <td>2016-09</td>\n",
       "      <td>PENSION419</td>\n",
       "      <td>KATILIM STD B?REYSEL</td>\n",
       "      <td>Kanal4 + Kanal2</td>\n",
       "      <td>BALIKES?R</td>\n",
       "      <td>TR</td>\n",
       "      <td>NaN</td>\n",
       "      <td>NaN</td>\n",
       "      <td>...</td>\n",
       "      <td>160.0</td>\n",
       "      <td>160.0</td>\n",
       "      <td>160.0</td>\n",
       "      <td>160.0</td>\n",
       "      <td>160.0</td>\n",
       "      <td>160.0</td>\n",
       "      <td>160.0</td>\n",
       "      <td>160.0</td>\n",
       "      <td>5842.71</td>\n",
       "      <td>10104.56</td>\n",
       "    </tr>\n",
       "    <tr>\n",
       "      <th>2</th>\n",
       "      <td>NEW</td>\n",
       "      <td>NEW</td>\n",
       "      <td>2016-07</td>\n",
       "      <td>PENSION250</td>\n",
       "      <td>EV HANIMI</td>\n",
       "      <td>Kanal4 + Kanal2</td>\n",
       "      <td>BALIKES?R</td>\n",
       "      <td>TR</td>\n",
       "      <td>NaN</td>\n",
       "      <td>NaN</td>\n",
       "      <td>...</td>\n",
       "      <td>256.0</td>\n",
       "      <td>256.0</td>\n",
       "      <td>256.0</td>\n",
       "      <td>256.0</td>\n",
       "      <td>256.0</td>\n",
       "      <td>256.0</td>\n",
       "      <td>256.0</td>\n",
       "      <td>256.0</td>\n",
       "      <td>3782.86</td>\n",
       "      <td>7060.94</td>\n",
       "    </tr>\n",
       "    <tr>\n",
       "      <th>3</th>\n",
       "      <td>NEW</td>\n",
       "      <td>NEW</td>\n",
       "      <td>2014-09</td>\n",
       "      <td>PENSION434</td>\n",
       "      <td>KATILIM GRUP</td>\n",
       "      <td>Kanal4 + Kanal2</td>\n",
       "      <td>SAMSUN</td>\n",
       "      <td>TR</td>\n",
       "      <td>SEKT032</td>\n",
       "      <td>OCCU039</td>\n",
       "      <td>...</td>\n",
       "      <td>150.0</td>\n",
       "      <td>150.0</td>\n",
       "      <td>150.0</td>\n",
       "      <td>150.0</td>\n",
       "      <td>150.0</td>\n",
       "      <td>150.0</td>\n",
       "      <td>150.0</td>\n",
       "      <td>150.0</td>\n",
       "      <td>6855.03</td>\n",
       "      <td>12645.25</td>\n",
       "    </tr>\n",
       "    <tr>\n",
       "      <th>4</th>\n",
       "      <td>NEW</td>\n",
       "      <td>NEW</td>\n",
       "      <td>2008-04</td>\n",
       "      <td>PENSION100</td>\n",
       "      <td>STD GRUP</td>\n",
       "      <td>Kanal4 + Kanal2</td>\n",
       "      <td>?STANBUL</td>\n",
       "      <td>TR</td>\n",
       "      <td>SEKT010</td>\n",
       "      <td>OCCU059</td>\n",
       "      <td>...</td>\n",
       "      <td>100.0</td>\n",
       "      <td>100.0</td>\n",
       "      <td>100.0</td>\n",
       "      <td>100.0</td>\n",
       "      <td>100.0</td>\n",
       "      <td>100.0</td>\n",
       "      <td>100.0</td>\n",
       "      <td>100.0</td>\n",
       "      <td>27837.75</td>\n",
       "      <td>31613.07</td>\n",
       "    </tr>\n",
       "  </tbody>\n",
       "</table>\n",
       "<p>5 rows × 29 columns</p>\n",
       "</div>"
      ],
      "text/plain": [
       "  SOZLESME_KOKENI SOZLESME_KOKENI_DETAY BASLANGIC_TARIHI KAPSAM_TIPI  \\\n",
       "0             NEW                   NEW          2014-04  PENSION318   \n",
       "1             NEW                   NEW          2016-09  PENSION419   \n",
       "2             NEW                   NEW          2016-07  PENSION250   \n",
       "3             NEW                   NEW          2014-09  PENSION434   \n",
       "4             NEW                   NEW          2008-04  PENSION100   \n",
       "\n",
       "           KAPSAM_GRUBU   DAGITIM_KANALI POLICE_SEHIR UYRUK   MESLEK  \\\n",
       "0          STD B?REYSEL           Kanal7    ESK??EH?R    TR  SEKT032   \n",
       "1  KATILIM STD B?REYSEL  Kanal4 + Kanal2    BALIKES?R    TR      NaN   \n",
       "2             EV HANIMI  Kanal4 + Kanal2    BALIKES?R    TR      NaN   \n",
       "3          KATILIM GRUP  Kanal4 + Kanal2       SAMSUN    TR  SEKT032   \n",
       "4              STD GRUP  Kanal4 + Kanal2     ?STANBUL    TR  SEKT010   \n",
       "\n",
       "  MESLEK_KIRILIM  ... MAYIS_VADE_TUTARI HAZIRAN_VADE_TUTARI  \\\n",
       "0        OCCU011  ...             220.0               220.0   \n",
       "1            NaN  ...             160.0               160.0   \n",
       "2            NaN  ...             256.0               256.0   \n",
       "3        OCCU039  ...             150.0               150.0   \n",
       "4        OCCU059  ...             100.0               100.0   \n",
       "\n",
       "  TEMMUZ_VADE_TUTARI AGUSTOS_VADE_TUTARI EYLUL_VADE_TUTARI EKIM_VADE_TUTARI  \\\n",
       "0              220.0               220.0             220.0            220.0   \n",
       "1              160.0               160.0             160.0            160.0   \n",
       "2              256.0               256.0             256.0            256.0   \n",
       "3              150.0               150.0             150.0            150.0   \n",
       "4              100.0               100.0             100.0            100.0   \n",
       "\n",
       "  KASIM_VADE_TUTARI ARALIK_VADE_TUTARI SENE_BASI_HESAP_DEGERI  \\\n",
       "0             220.0              220.0               15248.75   \n",
       "1             160.0              160.0                5842.71   \n",
       "2             256.0              256.0                3782.86   \n",
       "3             150.0              150.0                6855.03   \n",
       "4             100.0              100.0               27837.75   \n",
       "\n",
       "  SENE_SONU_HESAP_DEGERI  \n",
       "0               25684.25  \n",
       "1               10104.56  \n",
       "2                7060.94  \n",
       "3               12645.25  \n",
       "4               31613.07  \n",
       "\n",
       "[5 rows x 29 columns]"
      ]
     },
     "execution_count": 9,
     "metadata": {},
     "output_type": "execute_result"
    }
   ],
   "source": [
    "train.select_dtypes(include=[\"object_\"]).head()"
   ]
  },
  {
   "cell_type": "code",
   "execution_count": 10,
   "id": "e0942472",
   "metadata": {
    "execution": {
     "iopub.execute_input": "2022-05-22T13:00:15.763550Z",
     "iopub.status.busy": "2022-05-22T13:00:15.762865Z",
     "iopub.status.idle": "2022-05-22T13:00:25.271935Z",
     "shell.execute_reply": "2022-05-22T13:00:25.270466Z"
    },
    "papermill": {
     "duration": 9.614834,
     "end_time": "2022-05-22T13:00:25.274299",
     "exception": false,
     "start_time": "2022-05-22T13:00:15.659465",
     "status": "completed"
    },
    "tags": []
   },
   "outputs": [
    {
     "name": "stdout",
     "output_type": "stream",
     "text": [
      "NEW         620214\n",
      "TRANS_C      12373\n",
      "TRANS_L        808\n",
      "TRANS_TF       716\n",
      "TRANS            1\n",
      "Name: SOZLESME_KOKENI, dtype: int64 \n",
      "\n",
      "NEW          612898\n",
      "TRANS         10740\n",
      "TRANS_TR       2253\n",
      "NEW_MRG        1625\n",
      "INV_PROC        299\n",
      "TRANS_MRG        48\n",
      "NEW_TR           17\n",
      "TRANS_T2         10\n",
      "TR_T2_TR          5\n",
      "TRANS_C           1\n",
      "Name: SOZLESME_KOKENI_DETAY, dtype: int64 \n",
      "\n",
      "2019-12    11509\n",
      "2015-12     9840\n",
      "2015-07     8017\n",
      "2015-06     7656\n",
      "2016-01     7619\n",
      "           ...  \n",
      "2004-01      205\n",
      "2004-04      203\n",
      "2004-02      173\n",
      "2003-11       87\n",
      "2003-10       14\n",
      "Name: BASLANGIC_TARIHI, Length: 195, dtype: int64 \n",
      "\n",
      "PENSION247    66416\n",
      "PENSION215    57983\n",
      "PENSION251    52236\n",
      "PENSION001    46419\n",
      "PENSION059    45527\n",
      "              ...  \n",
      "PENSION014        1\n",
      "PENSION156        1\n",
      "PENSION009        1\n",
      "PENSION192        1\n",
      "PENSION363        1\n",
      "Name: KAPSAM_TIPI, Length: 239, dtype: int64 \n",
      "\n",
      "GRUPLANMAMI?            359968\n",
      "STD GRUP                 82156\n",
      "STD B?REYSEL             67948\n",
      "EV HANIMI                65287\n",
      "GENÇ                     51138\n",
      "KATILIM STD B?REYSEL      2647\n",
      "GRUP                      2221\n",
      "?GES STD GRUP             1499\n",
      "OKS                        873\n",
      "KATILIM GRUP               375\n",
      "Name: KAPSAM_GRUBU, dtype: int64 \n",
      "\n",
      "Kanal4 + Kanal2    456132\n",
      "Tele Kanal          44665\n",
      "Kanal1 + Kanal2     39041\n",
      "Kanal6              30970\n",
      "Kanal1              28272\n",
      "Kanal3               8934\n",
      "Kanal7               8086\n",
      "Kanal2               7498\n",
      "Kanal4               3715\n",
      "Kanal3 + Kanal1      2849\n",
      "Kanal1 + Kanal6      2159\n",
      "Kanal4 + Kanal6       927\n",
      "Kanal3 + Kanal4       254\n",
      "Kanal5                166\n",
      "Online Kanal          136\n",
      "Kanal3 + Kanal6        70\n",
      "Kanal7 + Kanal2        62\n",
      "Kanal3 + Kanal7        59\n",
      "Kanal4 + Kanal7        59\n",
      "Kanal4 + Kanal1        52\n",
      "Name: DAGITIM_KANALI, dtype: int64 \n",
      "\n",
      "?STANBUL                           144353\n",
      "ANKARA                              56158\n",
      "?ZM?R                               51172\n",
      "ANTALYA                             27031\n",
      "BURSA                               23073\n",
      "                                    ...  \n",
      "ZALTBOMMEL                              1\n",
      "SCHWERTE                                1\n",
      "AAEHEN                                  1\n",
      "Thessaly and Continental Greece         1\n",
      "MÜNSTER                                 1\n",
      "Name: POLICE_SEHIR, Length: 603, dtype: int64 \n",
      "\n",
      "TR    630849\n",
      "DE      1486\n",
      "OT       491\n",
      "IR       162\n",
      "AT       147\n",
      "       ...  \n",
      "SA         1\n",
      "CU         1\n",
      "BR         1\n",
      "FI         1\n",
      "TZ         1\n",
      "Name: UYRUK, Length: 80, dtype: int64 \n",
      "\n",
      "SEKT032    309717\n",
      "SEKT010     64151\n",
      "SEKT019     33306\n",
      "SEKT004     29732\n",
      "SEKT013     18002\n",
      "SEKT021     10940\n",
      "SEKT007     10877\n",
      "SEKT008     10847\n",
      "SEKT009      9597\n",
      "SEKT011      6813\n",
      "SEKT003      6750\n",
      "SEKT006      6260\n",
      "SEKT012      5660\n",
      "SEKT005      4697\n",
      "SEKT017      4380\n",
      "SEKT025      4283\n",
      "SEKT001      3919\n",
      "SEKT014      3353\n",
      "SEKT020      3223\n",
      "SEKT024      3056\n",
      "SEKT018      2458\n",
      "SEKT016      2455\n",
      "SEKT015      2423\n",
      "SEKT022      2422\n",
      "SEKT028      2085\n",
      "SEKT027      1735\n",
      "SEKT023      1575\n",
      "SEKT002       997\n",
      "SEKT026       641\n",
      "SEKT031       628\n",
      "SEKT029       174\n",
      "SEKT030        96\n",
      "Name: MESLEK, dtype: int64 \n",
      "\n",
      "OCCU074    113354\n",
      "OCCU037     95572\n",
      "OCCU006     91405\n",
      "OCCU065     38986\n",
      "OCCU025     33766\n",
      "            ...  \n",
      "OCCU045        19\n",
      "OCCU005        17\n",
      "OCCU046        11\n",
      "OCCU020         9\n",
      "OCCU062         6\n",
      "Name: MESLEK_KIRILIM, Length: 87, dtype: int64 \n",
      "\n",
      "106.0    228320\n",
      "105.0    106226\n",
      "103.0    106033\n",
      "102.0    104744\n",
      "104.0     87072\n",
      "101.0      1714\n",
      "Name: MUSTERI_SEGMENTI, dtype: int64 \n",
      "\n",
      "Married               457834\n",
      "Single                158413\n",
      "Divorced               11822\n",
      "Widowed                 2830\n",
      "Marriage Cancelled         7\n",
      "Other                      7\n",
      "Name: MEDENI_HAL, dtype: int64 \n",
      "\n",
      "Lise             180144\n",
      "Lisans           171856\n",
      "?lkö?retim        55698\n",
      "(Di?er)           42506\n",
      "Yüksek Lisans     18050\n",
      "Önlisans          12958\n",
      "Doktora            3105\n",
      "Name: EGITIM_DURUM, dtype: int64 \n",
      "\n",
      "0          110175\n",
      "2000        71966\n",
      "3000        57058\n",
      "1000        48490\n",
      "5000        41195\n",
      "            ...  \n",
      "1657            1\n",
      "3803            1\n",
      "8000000         1\n",
      "8509            1\n",
      "2696            1\n",
      "Name: GELIR, Length: 2209, dtype: int64 \n",
      "\n",
      "0.0     486617\n",
      "2.0      12923\n",
      "1.0      11824\n",
      "3.0       3318\n",
      "4.0        886\n",
      "5.0        277\n",
      "6.0         88\n",
      "7.0         41\n",
      "8.0         15\n",
      "10.0         6\n",
      "9.0          4\n",
      "11.0         2\n",
      "20.0         1\n",
      "12.0         1\n",
      "15.0         1\n",
      "Name: COCUK_SAYISI, dtype: int64 \n",
      "\n",
      "340.0     55799\n",
      "170.0     47804\n",
      "200.0     47679\n",
      "220.0     37055\n",
      "150.0     28602\n",
      "          ...  \n",
      "149.2         1\n",
      "165.45        1\n",
      "1749.0        1\n",
      "328.35        1\n",
      "845.06        1\n",
      "Name: OCAK_VADE_TUTARI, Length: 4589, dtype: int64 \n",
      "\n",
      "340.0     55297\n",
      "200.0     48433\n",
      "170.0     47410\n",
      "220.0     36871\n",
      "150.0     28799\n",
      "          ...  \n",
      "926.7         1\n",
      "359.5         1\n",
      "368.5         1\n",
      "964.95        1\n",
      "845.06        1\n",
      "Name: SUBAT_VADE_TUTARI, Length: 4626, dtype: int64 \n",
      "\n",
      "340.0     55042\n",
      "200.0     48828\n",
      "170.0     47167\n",
      "220.0     36736\n",
      "150.0     28797\n",
      "          ...  \n",
      "328.35        1\n",
      "2925.0        1\n",
      "1022.0        1\n",
      "117.8         1\n",
      "929.56        1\n",
      "Name: MART_VADE_TUTARI, Length: 4590, dtype: int64 \n",
      "\n",
      "340.0     54890\n",
      "200.0     49095\n",
      "170.0     47006\n",
      "220.0     36650\n",
      "150.0     28855\n",
      "          ...  \n",
      "165.45        1\n",
      "1749.0        1\n",
      "164.45        1\n",
      "328.35        1\n",
      "929.56        1\n",
      "Name: NISAN_VADE_TUTARI, Length: 4590, dtype: int64 \n",
      "\n",
      "340.0      54750\n",
      "200.0      49309\n",
      "170.0      46887\n",
      "220.0      36555\n",
      "150.0      28849\n",
      "           ...  \n",
      "438.11         1\n",
      "1406.49        1\n",
      "193.05         1\n",
      "447.45         1\n",
      "929.56         1\n",
      "Name: MAYIS_VADE_TUTARI, Length: 4615, dtype: int64 \n",
      "\n",
      "340.0     54605\n",
      "200.0     49505\n",
      "170.0     46763\n",
      "220.0     36467\n",
      "150.0     28858\n",
      "          ...  \n",
      "395.46        1\n",
      "1095.0        1\n",
      "149.2         1\n",
      "165.45        1\n",
      "929.56        1\n",
      "Name: HAZIRAN_VADE_TUTARI, Length: 4648, dtype: int64 \n",
      "\n",
      "340.0     54445\n",
      "200.0     49652\n",
      "170.0     46622\n",
      "220.0     36362\n",
      "150.0     28820\n",
      "          ...  \n",
      "395.46        1\n",
      "368.5         1\n",
      "1095.0        1\n",
      "149.2         1\n",
      "929.56        1\n",
      "Name: TEMMUZ_VADE_TUTARI, Length: 4666, dtype: int64 \n",
      "\n",
      "340.0     54230\n",
      "200.0     49797\n",
      "170.0     46387\n",
      "220.0     36271\n",
      "150.0     28657\n",
      "          ...  \n",
      "149.2         1\n",
      "94.13         1\n",
      "165.45        1\n",
      "1749.0        1\n",
      "929.56        1\n",
      "Name: AGUSTOS_VADE_TUTARI, Length: 4661, dtype: int64 \n",
      "\n",
      "340.0     54085\n",
      "200.0     49956\n",
      "170.0     46176\n",
      "220.0     36189\n",
      "150.0     28504\n",
      "          ...  \n",
      "729.83        1\n",
      "304.2         1\n",
      "395.46        1\n",
      "414.5         1\n",
      "929.56        1\n",
      "Name: EYLUL_VADE_TUTARI, Length: 4692, dtype: int64 \n",
      "\n",
      "340.0     53984\n",
      "200.0     50021\n",
      "170.0     46009\n",
      "220.0     36140\n",
      "150.0     28329\n",
      "          ...  \n",
      "378.76        1\n",
      "600.73        1\n",
      "348.18        1\n",
      "4390.0        1\n",
      "929.56        1\n",
      "Name: EKIM_VADE_TUTARI, Length: 4695, dtype: int64 \n",
      "\n",
      "340.0     53858\n",
      "200.0     50079\n",
      "170.0     45904\n",
      "220.0     36064\n",
      "150.0     28295\n",
      "          ...  \n",
      "395.46        1\n",
      "1625.0        1\n",
      "7350.0        1\n",
      "414.5         1\n",
      "929.56        1\n",
      "Name: KASIM_VADE_TUTARI, Length: 4714, dtype: int64 \n",
      "\n",
      "340.0      53790\n",
      "200.0      50122\n",
      "170.0      45813\n",
      "220.0      36015\n",
      "150.0      28256\n",
      "           ...  \n",
      "1386.35        1\n",
      "283.85         1\n",
      "114.15         1\n",
      "264.02         1\n",
      "929.56         1\n",
      "Name: ARALIK_VADE_TUTARI, Length: 4671, dtype: int64 \n",
      "\n",
      "0.0         28708\n",
      "0.01          514\n",
      "2570.98       158\n",
      "0.02          132\n",
      "2618.94       110\n",
      "            ...  \n",
      "44979.82        1\n",
      "33492.87        1\n",
      "4535.79         1\n",
      "33007.68        1\n",
      "20958.77        1\n",
      "Name: SENE_BASI_HESAP_DEGERI, Length: 462844, dtype: int64 \n",
      "\n",
      "0.0          31040\n",
      "0.01           557\n",
      "3751.24        156\n",
      "0.02           138\n",
      "3889.66        110\n",
      "             ...  \n",
      "3228.39          1\n",
      "15967.98         1\n",
      "112740.53        1\n",
      "69238.37         1\n",
      "23038.39         1\n",
      "Name: SENE_SONU_HESAP_DEGERI, Length: 490898, dtype: int64 \n",
      "\n"
     ]
    }
   ],
   "source": [
    "for col in train.select_dtypes(include=[\"object_\"]):\n",
    "    print(train.select_dtypes(include=[\"object_\"])[col].value_counts(), '\\n')"
   ]
  },
  {
   "cell_type": "code",
   "execution_count": 11,
   "id": "fe60a95a",
   "metadata": {
    "execution": {
     "iopub.execute_input": "2022-05-22T13:00:25.458970Z",
     "iopub.status.busy": "2022-05-22T13:00:25.458717Z",
     "iopub.status.idle": "2022-05-22T13:00:25.736177Z",
     "shell.execute_reply": "2022-05-22T13:00:25.735261Z"
    },
    "papermill": {
     "duration": 0.372309,
     "end_time": "2022-05-22T13:00:25.738583",
     "exception": false,
     "start_time": "2022-05-22T13:00:25.366274",
     "status": "completed"
    },
    "tags": []
   },
   "outputs": [],
   "source": [
    "#drop columns which has dominant values\n",
    "train.drop(['UYRUK','SOZLESME_KOKENI','SOZLESME_KOKENI_DETAY','MEMLEKET'],axis=1,inplace=True)\n",
    "test.drop(['UYRUK','SOZLESME_KOKENI','SOZLESME_KOKENI_DETAY','MEMLEKET'],axis=1,inplace=True)\n"
   ]
  },
  {
   "cell_type": "code",
   "execution_count": 12,
   "id": "9eaebcfb",
   "metadata": {
    "execution": {
     "iopub.execute_input": "2022-05-22T13:00:25.925039Z",
     "iopub.status.busy": "2022-05-22T13:00:25.924395Z",
     "iopub.status.idle": "2022-05-22T13:00:30.149568Z",
     "shell.execute_reply": "2022-05-22T13:00:30.148646Z"
    },
    "papermill": {
     "duration": 4.319606,
     "end_time": "2022-05-22T13:00:30.151526",
     "exception": false,
     "start_time": "2022-05-22T13:00:25.831920",
     "status": "completed"
    },
    "tags": []
   },
   "outputs": [
    {
     "data": {
      "text/html": [
       "<div>\n",
       "<style scoped>\n",
       "    .dataframe tbody tr th:only-of-type {\n",
       "        vertical-align: middle;\n",
       "    }\n",
       "\n",
       "    .dataframe tbody tr th {\n",
       "        vertical-align: top;\n",
       "    }\n",
       "\n",
       "    .dataframe thead th {\n",
       "        text-align: right;\n",
       "    }\n",
       "</style>\n",
       "<table border=\"1\" class=\"dataframe\">\n",
       "  <thead>\n",
       "    <tr style=\"text-align: right;\">\n",
       "      <th></th>\n",
       "      <th>OFFICE_ID</th>\n",
       "      <th>SIGORTA_TIP</th>\n",
       "      <th>KAPSAM_TIPI</th>\n",
       "      <th>KAPSAM_GRUBU</th>\n",
       "      <th>DAGITIM_KANALI</th>\n",
       "      <th>POLICE_SEHIR</th>\n",
       "      <th>DOGUM_TARIHI</th>\n",
       "      <th>CINSIYET</th>\n",
       "      <th>MESLEK</th>\n",
       "      <th>MESLEK_KIRILIM</th>\n",
       "      <th>...</th>\n",
       "      <th>EKIM_VADE_TUTARI</th>\n",
       "      <th>KASIM_ODENEN_TUTAR</th>\n",
       "      <th>KASIM_VADE_TUTARI</th>\n",
       "      <th>ARALIK_ODENEN_TUTAR</th>\n",
       "      <th>ARALIK_VADE_TUTARI</th>\n",
       "      <th>SENE_BASI_HESAP_DEGERI</th>\n",
       "      <th>SENE_SONU_HESAP_DEGERI</th>\n",
       "      <th>ARTIS_DURUMU</th>\n",
       "      <th>BASLANGIC_TARIHI_yil</th>\n",
       "      <th>BASLANGIC_TARIHI_ay</th>\n",
       "    </tr>\n",
       "  </thead>\n",
       "  <tbody>\n",
       "    <tr>\n",
       "      <th>0</th>\n",
       "      <td>10099</td>\n",
       "      <td>7</td>\n",
       "      <td>PENSION318</td>\n",
       "      <td>STD B?REYSEL</td>\n",
       "      <td>Kanal7</td>\n",
       "      <td>ESK??EH?R</td>\n",
       "      <td>1964</td>\n",
       "      <td>2</td>\n",
       "      <td>SEKT032</td>\n",
       "      <td>OCCU011</td>\n",
       "      <td>...</td>\n",
       "      <td>220.0</td>\n",
       "      <td>220</td>\n",
       "      <td>220.0</td>\n",
       "      <td>220</td>\n",
       "      <td>220.0</td>\n",
       "      <td>15248.75</td>\n",
       "      <td>25684.25</td>\n",
       "      <td>0</td>\n",
       "      <td>2014</td>\n",
       "      <td>4</td>\n",
       "    </tr>\n",
       "    <tr>\n",
       "      <th>1</th>\n",
       "      <td>10100</td>\n",
       "      <td>7</td>\n",
       "      <td>PENSION419</td>\n",
       "      <td>KATILIM STD B?REYSEL</td>\n",
       "      <td>Kanal4 + Kanal2</td>\n",
       "      <td>BALIKES?R</td>\n",
       "      <td>1966</td>\n",
       "      <td>1</td>\n",
       "      <td>NaN</td>\n",
       "      <td>NaN</td>\n",
       "      <td>...</td>\n",
       "      <td>160.0</td>\n",
       "      <td>160</td>\n",
       "      <td>160.0</td>\n",
       "      <td>160</td>\n",
       "      <td>160.0</td>\n",
       "      <td>5842.71</td>\n",
       "      <td>10104.56</td>\n",
       "      <td>0</td>\n",
       "      <td>2016</td>\n",
       "      <td>9</td>\n",
       "    </tr>\n",
       "    <tr>\n",
       "      <th>2</th>\n",
       "      <td>10042</td>\n",
       "      <td>1</td>\n",
       "      <td>PENSION250</td>\n",
       "      <td>EV HANIMI</td>\n",
       "      <td>Kanal4 + Kanal2</td>\n",
       "      <td>BALIKES?R</td>\n",
       "      <td>1956</td>\n",
       "      <td>2</td>\n",
       "      <td>NaN</td>\n",
       "      <td>NaN</td>\n",
       "      <td>...</td>\n",
       "      <td>256.0</td>\n",
       "      <td>256</td>\n",
       "      <td>256.0</td>\n",
       "      <td>256</td>\n",
       "      <td>256.0</td>\n",
       "      <td>3782.86</td>\n",
       "      <td>7060.94</td>\n",
       "      <td>0</td>\n",
       "      <td>2016</td>\n",
       "      <td>7</td>\n",
       "    </tr>\n",
       "    <tr>\n",
       "      <th>3</th>\n",
       "      <td>10056</td>\n",
       "      <td>7</td>\n",
       "      <td>PENSION434</td>\n",
       "      <td>KATILIM GRUP</td>\n",
       "      <td>Kanal4 + Kanal2</td>\n",
       "      <td>SAMSUN</td>\n",
       "      <td>1977</td>\n",
       "      <td>2</td>\n",
       "      <td>SEKT032</td>\n",
       "      <td>OCCU039</td>\n",
       "      <td>...</td>\n",
       "      <td>150.0</td>\n",
       "      <td>150</td>\n",
       "      <td>150.0</td>\n",
       "      <td>150</td>\n",
       "      <td>150.0</td>\n",
       "      <td>6855.03</td>\n",
       "      <td>12645.25</td>\n",
       "      <td>0</td>\n",
       "      <td>2014</td>\n",
       "      <td>9</td>\n",
       "    </tr>\n",
       "    <tr>\n",
       "      <th>4</th>\n",
       "      <td>10068</td>\n",
       "      <td>7</td>\n",
       "      <td>PENSION100</td>\n",
       "      <td>STD GRUP</td>\n",
       "      <td>Kanal4 + Kanal2</td>\n",
       "      <td>?STANBUL</td>\n",
       "      <td>1962</td>\n",
       "      <td>2</td>\n",
       "      <td>SEKT010</td>\n",
       "      <td>OCCU059</td>\n",
       "      <td>...</td>\n",
       "      <td>100.0</td>\n",
       "      <td>100</td>\n",
       "      <td>100.0</td>\n",
       "      <td>100</td>\n",
       "      <td>100.0</td>\n",
       "      <td>27837.75</td>\n",
       "      <td>31613.07</td>\n",
       "      <td>0</td>\n",
       "      <td>2008</td>\n",
       "      <td>4</td>\n",
       "    </tr>\n",
       "  </tbody>\n",
       "</table>\n",
       "<p>5 rows × 44 columns</p>\n",
       "</div>"
      ],
      "text/plain": [
       "   OFFICE_ID  SIGORTA_TIP KAPSAM_TIPI          KAPSAM_GRUBU   DAGITIM_KANALI  \\\n",
       "0      10099            7  PENSION318          STD B?REYSEL           Kanal7   \n",
       "1      10100            7  PENSION419  KATILIM STD B?REYSEL  Kanal4 + Kanal2   \n",
       "2      10042            1  PENSION250             EV HANIMI  Kanal4 + Kanal2   \n",
       "3      10056            7  PENSION434          KATILIM GRUP  Kanal4 + Kanal2   \n",
       "4      10068            7  PENSION100              STD GRUP  Kanal4 + Kanal2   \n",
       "\n",
       "  POLICE_SEHIR  DOGUM_TARIHI  CINSIYET   MESLEK MESLEK_KIRILIM  ...  \\\n",
       "0    ESK??EH?R          1964         2  SEKT032        OCCU011  ...   \n",
       "1    BALIKES?R          1966         1      NaN            NaN  ...   \n",
       "2    BALIKES?R          1956         2      NaN            NaN  ...   \n",
       "3       SAMSUN          1977         2  SEKT032        OCCU039  ...   \n",
       "4     ?STANBUL          1962         2  SEKT010        OCCU059  ...   \n",
       "\n",
       "  EKIM_VADE_TUTARI KASIM_ODENEN_TUTAR KASIM_VADE_TUTARI ARALIK_ODENEN_TUTAR  \\\n",
       "0            220.0                220             220.0                 220   \n",
       "1            160.0                160             160.0                 160   \n",
       "2            256.0                256             256.0                 256   \n",
       "3            150.0                150             150.0                 150   \n",
       "4            100.0                100             100.0                 100   \n",
       "\n",
       "  ARALIK_VADE_TUTARI  SENE_BASI_HESAP_DEGERI SENE_SONU_HESAP_DEGERI  \\\n",
       "0              220.0                15248.75               25684.25   \n",
       "1              160.0                 5842.71               10104.56   \n",
       "2              256.0                 3782.86                7060.94   \n",
       "3              150.0                 6855.03               12645.25   \n",
       "4              100.0                27837.75               31613.07   \n",
       "\n",
       "   ARTIS_DURUMU BASLANGIC_TARIHI_yil  BASLANGIC_TARIHI_ay  \n",
       "0             0                 2014                    4  \n",
       "1             0                 2016                    9  \n",
       "2             0                 2016                    7  \n",
       "3             0                 2014                    9  \n",
       "4             0                 2008                    4  \n",
       "\n",
       "[5 rows x 44 columns]"
      ]
     },
     "execution_count": 12,
     "metadata": {},
     "output_type": "execute_result"
    }
   ],
   "source": [
    "#split date\n",
    "train[\"BASLANGIC_TARIHI_yil\"] = train[\"BASLANGIC_TARIHI\"].str[:4]\n",
    "train[\"BASLANGIC_TARIHI_ay\"] = train[\"BASLANGIC_TARIHI\"].str[-2:]\n",
    "test[\"BASLANGIC_TARIHI_yil\"] = train[\"BASLANGIC_TARIHI\"].str[:4]\n",
    "test[\"BASLANGIC_TARIHI_ay\"] = train[\"BASLANGIC_TARIHI\"].str[-2:]\n",
    "train.drop(['BASLANGIC_TARIHI'],axis=1,inplace=True)\n",
    "test.drop(['BASLANGIC_TARIHI'],axis=1,inplace=True)\n",
    "train[\"BASLANGIC_TARIHI_yil\"] = pd.to_numeric(train[\"BASLANGIC_TARIHI_yil\"])\n",
    "train[\"BASLANGIC_TARIHI_ay\"] = pd.to_numeric(train[\"BASLANGIC_TARIHI_ay\"])\n",
    "test[\"BASLANGIC_TARIHI_yil\"] = pd.to_numeric(test[\"BASLANGIC_TARIHI_yil\"])\n",
    "test[\"BASLANGIC_TARIHI_ay\"] = pd.to_numeric(test[\"BASLANGIC_TARIHI_ay\"])\n",
    "\n",
    "train.head()"
   ]
  },
  {
   "cell_type": "code",
   "execution_count": 13,
   "id": "cae1586c",
   "metadata": {
    "execution": {
     "iopub.execute_input": "2022-05-22T13:00:30.335412Z",
     "iopub.status.busy": "2022-05-22T13:00:30.335117Z",
     "iopub.status.idle": "2022-05-22T13:00:35.682430Z",
     "shell.execute_reply": "2022-05-22T13:00:35.681630Z"
    },
    "papermill": {
     "duration": 5.441592,
     "end_time": "2022-05-22T13:00:35.684497",
     "exception": false,
     "start_time": "2022-05-22T13:00:30.242905",
     "status": "completed"
    },
    "tags": []
   },
   "outputs": [
    {
     "data": {
      "text/plain": [
       "0         124\n",
       "1         124\n",
       "2         124\n",
       "3         124\n",
       "4         109\n",
       "         ... \n",
       "243132    109\n",
       "243133    124\n",
       "243134     40\n",
       "243135    128\n",
       "243136      0\n",
       "Name: KAPSAM_TIPI, Length: 243137, dtype: int64"
      ]
     },
     "execution_count": 13,
     "metadata": {},
     "output_type": "execute_result"
    }
   ],
   "source": [
    "#label encoding KAPSAM_TIPI\n",
    "from sklearn.preprocessing import LabelEncoder\n",
    "le = LabelEncoder()\n",
    "le.fit(train[\"KAPSAM_TIPI\"])\n",
    "test[\"KAPSAM_TIPI\"] = test[\"KAPSAM_TIPI\"].map(lambda s: '<unknown>' if s not in le.classes_ else s)\n",
    "le.classes_ = np.append(le.classes_, '<unknown>')\n",
    "train[\"KAPSAM_TIPI\"] = le.transform(train[\"KAPSAM_TIPI\"])\n",
    "test[\"KAPSAM_TIPI\"] = le.transform(test[\"KAPSAM_TIPI\"])\n",
    "test[\"KAPSAM_TIPI\"]"
   ]
  },
  {
   "cell_type": "code",
   "execution_count": 14,
   "id": "f68597e0",
   "metadata": {
    "execution": {
     "iopub.execute_input": "2022-05-22T13:00:35.871413Z",
     "iopub.status.busy": "2022-05-22T13:00:35.871108Z",
     "iopub.status.idle": "2022-05-22T13:00:35.876957Z",
     "shell.execute_reply": "2022-05-22T13:00:35.876138Z"
    },
    "papermill": {
     "duration": 0.101695,
     "end_time": "2022-05-22T13:00:35.878780",
     "exception": false,
     "start_time": "2022-05-22T13:00:35.777085",
     "status": "completed"
    },
    "tags": []
   },
   "outputs": [
    {
     "data": {
      "text/plain": [
       "\"\\n#scaling KAPSAM_TIPI\\nfrom sklearn.preprocessing import MinMaxScaler\\n\\nscaler = MinMaxScaler()\\nscaler.fit(train[['KAPSAM_TIPI']])\\ntrain['KAPSAM_TIPI']=scaler.transform(train[['KAPSAM_TIPI']])\\ntest['KAPSAM_TIPI']=scaler.transform(test[['KAPSAM_TIPI']])\\n\""
      ]
     },
     "execution_count": 14,
     "metadata": {},
     "output_type": "execute_result"
    }
   ],
   "source": [
    "\"\"\"\n",
    "#scaling KAPSAM_TIPI\n",
    "from sklearn.preprocessing import MinMaxScaler\n",
    "\n",
    "scaler = MinMaxScaler()\n",
    "scaler.fit(train[['KAPSAM_TIPI']])\n",
    "train['KAPSAM_TIPI']=scaler.transform(train[['KAPSAM_TIPI']])\n",
    "test['KAPSAM_TIPI']=scaler.transform(test[['KAPSAM_TIPI']])\n",
    "\"\"\""
   ]
  },
  {
   "cell_type": "code",
   "execution_count": 15,
   "id": "68a64b02",
   "metadata": {
    "execution": {
     "iopub.execute_input": "2022-05-22T13:00:36.065121Z",
     "iopub.status.busy": "2022-05-22T13:00:36.064632Z",
     "iopub.status.idle": "2022-05-22T13:00:36.571077Z",
     "shell.execute_reply": "2022-05-22T13:00:36.570291Z"
    },
    "papermill": {
     "duration": 0.602485,
     "end_time": "2022-05-22T13:00:36.573155",
     "exception": false,
     "start_time": "2022-05-22T13:00:35.970670",
     "status": "completed"
    },
    "tags": []
   },
   "outputs": [
    {
     "data": {
      "text/plain": [
       "0         4\n",
       "1         4\n",
       "2         4\n",
       "3         4\n",
       "4         4\n",
       "         ..\n",
       "243132    4\n",
       "243133    4\n",
       "243134    9\n",
       "243135    4\n",
       "243136    4\n",
       "Name: KAPSAM_GRUBU, Length: 243137, dtype: int64"
      ]
     },
     "execution_count": 15,
     "metadata": {},
     "output_type": "execute_result"
    }
   ],
   "source": [
    "le = LabelEncoder()\n",
    "le.fit(train[\"KAPSAM_GRUBU\"])\n",
    "train[\"KAPSAM_GRUBU\"]=le.transform(train[\"KAPSAM_GRUBU\"])\n",
    "test[\"KAPSAM_GRUBU\"]=le.transform(test[\"KAPSAM_GRUBU\"])\n",
    "test[\"KAPSAM_GRUBU\"]"
   ]
  },
  {
   "cell_type": "code",
   "execution_count": 16,
   "id": "48692e42",
   "metadata": {
    "execution": {
     "iopub.execute_input": "2022-05-22T13:00:36.763672Z",
     "iopub.status.busy": "2022-05-22T13:00:36.763347Z",
     "iopub.status.idle": "2022-05-22T13:00:37.363836Z",
     "shell.execute_reply": "2022-05-22T13:00:37.363027Z"
    },
    "papermill": {
     "duration": 0.698121,
     "end_time": "2022-05-22T13:00:37.365849",
     "exception": false,
     "start_time": "2022-05-22T13:00:36.667728",
     "status": "completed"
    },
    "tags": []
   },
   "outputs": [
    {
     "data": {
      "text/plain": [
       "0         11\n",
       "1         11\n",
       "2         11\n",
       "3         11\n",
       "4         11\n",
       "          ..\n",
       "243132    11\n",
       "243133    11\n",
       "243134    11\n",
       "243135    11\n",
       "243136    11\n",
       "Name: DAGITIM_KANALI, Length: 243137, dtype: int64"
      ]
     },
     "execution_count": 16,
     "metadata": {},
     "output_type": "execute_result"
    }
   ],
   "source": [
    "#DAGITIM_KANALI has only 6 NaN \n",
    "train.DAGITIM_KANALI = train.DAGITIM_KANALI.fillna('Kanal4 + Kanal2')\n",
    "test.DAGITIM_KANALI = test.DAGITIM_KANALI.fillna('Kanal4 + Kanal2')\n",
    "\n",
    "le = LabelEncoder()\n",
    "le.fit(train[\"DAGITIM_KANALI\"])\n",
    "train[\"DAGITIM_KANALI\"]=le.transform(train[\"DAGITIM_KANALI\"])\n",
    "test[\"DAGITIM_KANALI\"]=le.transform(test[\"DAGITIM_KANALI\"])\n",
    "test[\"DAGITIM_KANALI\"]"
   ]
  },
  {
   "cell_type": "code",
   "execution_count": 17,
   "id": "4f60db0d",
   "metadata": {
    "execution": {
     "iopub.execute_input": "2022-05-22T13:00:37.555721Z",
     "iopub.status.busy": "2022-05-22T13:00:37.555434Z",
     "iopub.status.idle": "2022-05-22T13:00:37.588217Z",
     "shell.execute_reply": "2022-05-22T13:00:37.587287Z"
    },
    "papermill": {
     "duration": 0.130753,
     "end_time": "2022-05-22T13:00:37.590445",
     "exception": false,
     "start_time": "2022-05-22T13:00:37.459692",
     "status": "completed"
    },
    "tags": []
   },
   "outputs": [
    {
     "name": "stdout",
     "output_type": "stream",
     "text": [
      "['SAMSUN' 'OSMAN?YE' '?STANBUL' 'ANKARA' 'DEN?ZL?' 'KAYSER?' 'ANTALYA'\n",
      " 'GAZ?ANTEP' 'D?YARBAKIR' 'AMASYA' '?ZM?R' 'MERS?N' 'ED?RNE' 'MU?LA'\n",
      " 'K.MARA?' 'SAKARYA' 'KIRIKKALE' 'MAN?SA' 'ADANA' 'KASTAMONU' 'AYDIN'\n",
      " 'G?RESUN' 'ESK??EH?R' '?ANLIURFA' 'BALIKES?R' 'ARDAHAN' 'BURSA'\n",
      " 'TEK?RDA?' 'KIRKLAREL?' 'MU?' 'TUNCEL?' 'S?NOP' 'ÇORUM' 'MALATYA'\n",
      " 'ELAZI?' 'S?VAS' 'KONYA' 'MARD?N' 'KOCAEL?' 'KARS' 'ISPARTA' 'N??DE'\n",
      " 'TOKAT' 'R?ZE' 'KR?ENS' 'KÜTAHYA' 'AKSARAY' 'VAN' 'HATAY' 'ÇANAKKALE'\n",
      " 'DÜZCE' nan 'BURDUR' 'TRABZON' 'ZONGULDAK' 'PARIS' 'AFYON' '?IRNAK'\n",
      " 'BARTIN' 'ADIYAMAN' 'YALOVA' 'KARABÜK' 'Baden-Wurttemberg' 'BERL?N'\n",
      " 'BATMAN' 'B?LEC?K' 'YOZGAT' 'BOLU' 'B?NGÖL' 'ORDU' 'NEV?EH?R' 'U?AK'\n",
      " 'LEFKO?A' 'S??RT' 'GÜZELYURT' 'B?TL?S' 'ARTV?N' 'ERZURUM' 'BAYBURT'\n",
      " 'N.Holland' 'GÜMÜ?HANE' 'KARAMAN' 'I?DIR' 'ERZ?NCAN' 'A?RI' 'ÇANKIRI'\n",
      " 'Canton of Vaud' 'Schleswig-Holstein' 'HAKKAR?' 'Hamburg' 'KIR?EH?R'\n",
      " 'Akitanya' 'Berlin' 'Stokholm' 'KUPPENHEM' 'Flemish Brabant' 'SEVRAN'\n",
      " 'Hesse' 'Capital Region' 'Girne ?lçesi' '0' 'K?L?S'\n",
      " 'Saint Petersburg Federal City' 'North Rhin' '?NG?LTERE' 'AMSTERDAM'\n",
      " 'SINGRIST' 'YURT DI?I' 'MÜN?H' 'Ile-de-France' 'LONDON' 'FRANKFURT'\n",
      " 'LONDRA' 'Ruggell' 'Lefko?a ?lçesi' 'LELYSTAD' 'Gazi Magosa ?lçesi'\n",
      " 'GAZ?MA?USA' 'Overyssel' 'Canton of Schaffhausen' 'Güney Hollanda'\n",
      " 'Canton of Lucerne' 'ING?LTERE' 'Bavyera' 'ANTWERPEN' 'BRÜKSEL'\n",
      " 'MARSE?LLE' 'HAMBURG' 'Masovian' 'Galler' 'Lower Saxony' 'Guelders'\n",
      " 'BRUSSEL' 'Rhineland-Palatinate' 'MELBOURNE' 'Georgia' 'Canton of Zurich'\n",
      " '?ngiltere' 'KAHRAMANMARA?' 'NÜRNBERG' 'Canton of Neuchatel' 'Baf ?lçesi'\n",
      " 'Utrecht' 'G?RNE' 'Uusimaa' 'Brandenburg' 'Antwerp' 'KARLSRUHE' 'Ontario'\n",
      " 'DU?SBURG' 'KÖLN' 'Champagne-Ardenne' 'Virjinya' 'LYSS' 'AUGSBURG'\n",
      " 'NEW YORK' 'Northern Ostrobothnia' 'EP?NAL' 'Kaliforniya' 'MONTREU?L'\n",
      " 'TOUL' 'V?RG?N?U' 'DORDRECHT' 'DÜSSELDORF' 'Limburg'\n",
      " 'Macedonia and Thrace' 'ESSEN' 'Upper Normandy' 'BERN' 'MORD?ERES'\n",
      " 'STOCKHOLM' 'CORAS' 'MA?USA' 'HERTEN' 'Drenthe' 'Breton' 'AFYONKARAH?SAR'\n",
      " 'Flevoland' 'Canton of Basel-Country' 'TRONDHEIM' 'LUZERN' 'New Jerset'\n",
      " 'ABU DHAB?' 'HETEREM' 'WISCONSIN' 'REMSCHE?D' 'Canton of Aargau'\n",
      " 'GUNKIRCHEN' 'Alsace' 'WG BREDA' 'Pays de la Loire' 'HAARLEM' 'Moskova'\n",
      " 'Türingiya' 'PAR?S' 'F?LDERSTAD' 'Styria' '?SERLOHN' 'WUPPERTAL'\n",
      " 'Canton of Berne' 'STADTALLEN' 'Vienna' 'NORTHL?NES' '?SKELE'\n",
      " 'Kuzey Brabant' 'Florida' 'North Rhine-Westphalia' 'Canton of Basel-City'\n",
      " 'MÜNCHEN' 'ZUR?H' 'Auvergne' 'A?a?? Normandiya' 'Canton of Fribourg'\n",
      " 'PÖLTEN' 'Chiba Prefecture' 'Ermenswil' 'ESPOO' 'HE?DELBERG'\n",
      " 'Rhone-Alpes' 'ENSCHEDE' 'Capital Region of Brussels' 'BAYERN' 'HANAU'\n",
      " 'W?NTERTHU' 'ZÜR?H' 'SINGEN' 'Centre' 'ALMANYA' 'Dubai' 'MAGOSA' 'Ohio'\n",
      " 'HOLLANDA' 'W?NTERTHUR' 'Beirut' 'NERNBERG' 'Veneto' 'PA?AKÖY' 'ZELE'\n",
      " 'ETTL?NGEN' 'Midi-Pyrenees' 'WETZ?KON' 'DÜREN' 'Skane' 'GÖNYEL?'\n",
      " 'GAZIMAGUSA' 'Ashmore and Cartier Islands' 'M?LANO' 'DEN HAAG' 'KIRCAAL?'\n",
      " 'LÜBECK' 'MANNHE?M' 'MA?NZ' 'MONTBEL?AR' 'DÜBENDORF' 'ROTERDAM'\n",
      " 'NEUFAHRN' 'GÜMÜLC?NE' 'PORT?AKAK?' 'Masqat' 'ST CHAMOND' 'CHICAGO'\n",
      " 'Vaslui' 'LEBLANC' 'Quebec' 'Madrid' 'PERP?GNAN' 'OOSTZAAN'\n",
      " 'British Columbia' 'Punjab' 'MANCHESTER' 'Mary' 'OOSTE?ND' 'GILDEBROST'\n",
      " 'Prague' 'EMDEN' 'Tyrol' 'ERB?L' 'Arima' 'East Flanders' 'G?LCH?NG'\n",
      " 'FOUNEX' 'SCHENEFELD' 'AABENRAA' 'GREVENBRO?' 'MORLA?X'\n",
      " 'St. Gallen Kantonu' 'SK?VE' 'Va?ington' 'BRE?DENBAC']\n"
     ]
    }
   ],
   "source": [
    "print(test['POLICE_SEHIR'].unique())"
   ]
  },
  {
   "cell_type": "code",
   "execution_count": 18,
   "id": "8ad9c24d",
   "metadata": {
    "execution": {
     "iopub.execute_input": "2022-05-22T13:00:37.807955Z",
     "iopub.status.busy": "2022-05-22T13:00:37.807710Z",
     "iopub.status.idle": "2022-05-22T13:00:41.003104Z",
     "shell.execute_reply": "2022-05-22T13:00:41.002508Z"
    },
    "papermill": {
     "duration": 3.308639,
     "end_time": "2022-05-22T13:00:41.004975",
     "exception": false,
     "start_time": "2022-05-22T13:00:37.696336",
     "status": "completed"
    },
    "tags": []
   },
   "outputs": [
    {
     "name": "stdout",
     "output_type": "stream",
     "text": [
      "['SAMSUN' 'OSMAN?YE' '?STANBUL' 'ANKARA' 'DEN?ZL?' 'KAYSER?' 'ANTALYA'\n",
      " 'GAZ?ANTEP' 'D?YARBAKIR' 'AMASYA' '?ZM?R' 'MERS?N' 'ED?RNE' 'MU?LA'\n",
      " 'yurtdisi' 'SAKARYA' 'KIRIKKALE' 'MAN?SA' 'ADANA' 'KASTAMONU' 'AYDIN'\n",
      " 'G?RESUN' 'ESK??EH?R' '?ANLIURFA' 'BALIKES?R' 'ARDAHAN' 'BURSA'\n",
      " 'TEK?RDA?' 'KIRKLAREL?' 'MU?' 'TUNCEL?' 'S?NOP' 'ÇORUM' 'MALATYA'\n",
      " 'ELAZI?' 'S?VAS' 'KONYA' 'MARD?N' 'KOCAEL?' 'KARS' 'ISPARTA' 'N??DE'\n",
      " 'TOKAT' 'R?ZE' 'AKSARAY' 'VAN' 'HATAY' 'unknown' 'BURDUR' 'TRABZON'\n",
      " 'ZONGULDAK' 'BARTIN' 'ADIYAMAN' 'YALOVA' 'BATMAN' 'B?LEC?K' 'YOZGAT'\n",
      " 'BOLU' 'ORDU' 'NEV?EH?R' 'U?AK' 'S??RT' 'B?TL?S' 'ARTV?N' 'ERZURUM'\n",
      " 'BAYBURT' 'KARAMAN' 'I?DIR' 'ERZ?NCAN' 'A?RI' 'HAKKAR?' 'KIR?EH?R'\n",
      " 'K?L?S' 'KAHRAMANMARA?' 'AFYONKARAH?SAR']\n"
     ]
    },
    {
     "data": {
      "text/plain": [
       "0         62\n",
       "1         56\n",
       "2          1\n",
       "3          9\n",
       "4         24\n",
       "          ..\n",
       "243132    75\n",
       "243133    13\n",
       "243134     9\n",
       "243135    16\n",
       "243136    22\n",
       "Name: POLICE_SEHIR, Length: 243137, dtype: int64"
      ]
     },
     "execution_count": 18,
     "metadata": {},
     "output_type": "execute_result"
    }
   ],
   "source": [
    "#set the foreign cities in column POLICE_SEHIR as a single value\n",
    "#fill NaNs as unknown\n",
    "CITY_NAMES = [\n",
    "\"?STANBUL\", \"ANKARA\", \"?ZM?R\", \"ADANA\", \"ADIYAMAN\", \"AFYONKARAH?SAR\", \"A?RI\", \"AKSARAY\", \"AMASYA\",\n",
    "\"ANTALYA\", \"ARDAHAN\", \"ARTV?N\", \"AYDIN\", \"BALIKES?R\", \"BARTIN\", \"BATMAN\", \"BAYBURT\", \"B?LEC?K\", \"B?NG?L\",\n",
    "\"B?TL?S\", \"BOLU\", \"BURDUR\", \"BURSA\", \"?ANAKKALE\", \"?ANKIRI\", \"ÇORUM\", \"DEN?ZL?\", \"D?YARBAKIR\", \"D?ZCE\", \"ED?RNE\",\n",
    "\"ELAZI?\", \"ERZ?NCAN\", \"ERZURUM\", \"ESK??EH?R\", \"GAZ?ANTEP\", \"G?RESUN\", \"G?M??HANE\", \"HAKKAR?\", \"HATAY\", \"I?DIR\",\n",
    "\"ISPARTA\", \"KAHRAMANMARA?\", \"KARAB?K\", \"KARAMAN\", \"KARS\", \"KASTAMONU\", \"KAYSER?\", \"KIRIKKALE\", \"KIRKLAREL?\",\n",
    "\"KIR?EH?R\", \"K?L?S\", \"KOCAEL?\", \"KONYA\", \"K?TAHYA\", \"MALATYA\", \"MAN?SA\", \"MARD?N\", \"MERS?N\", \"MU?LA\", \"MU?\",\n",
    "\"NEV?EH?R\", \"N??DE\", \"ORDU\", \"OSMAN?YE\", \"R?ZE\", \"SAKARYA\", \"SAMSUN\", \"S??RT\", \"S?NOP\", \"S?VAS\", \"??RNAK\",\n",
    "\"TEK?RDA?\", \"TOKAT\", \"TRABZON\", \"TUNCEL?\", \"?ANLIURFA\", \"U?AK\", \"VAN\", \"YALOVA\", \"YOZGAT\", \"ZONGULDAK\",'unknown']\n",
    "\n",
    "train.POLICE_SEHIR = train.POLICE_SEHIR.fillna('unknown')\n",
    "test.POLICE_SEHIR = test.POLICE_SEHIR.fillna('unknown')\n",
    "\n",
    "train.loc[~train[\"POLICE_SEHIR\"].isin(CITY_NAMES), \"POLICE_SEHIR\"] = \"yurtdisi\"\n",
    "test.loc[~test[\"POLICE_SEHIR\"].isin(CITY_NAMES), \"POLICE_SEHIR\"] = \"yurtdisi\"\n",
    "\n",
    "print(test['POLICE_SEHIR'].unique())\n",
    "\n",
    "le = LabelEncoder()\n",
    "le.fit(train[\"POLICE_SEHIR\"])\n",
    "test[\"POLICE_SEHIR\"] = test[\"POLICE_SEHIR\"].map(lambda s: 'unknown' if s not in le.classes_ else s)\n",
    "le.classes_ = np.append(le.classes_, 'unknown')\n",
    "train[\"POLICE_SEHIR\"] = le.transform(train[\"POLICE_SEHIR\"])\n",
    "test[\"POLICE_SEHIR\"] = le.transform(test[\"POLICE_SEHIR\"])\n",
    "test[\"POLICE_SEHIR\"]"
   ]
  },
  {
   "cell_type": "code",
   "execution_count": 19,
   "id": "3ffa97e5",
   "metadata": {
    "execution": {
     "iopub.execute_input": "2022-05-22T13:00:41.198359Z",
     "iopub.status.busy": "2022-05-22T13:00:41.198102Z",
     "iopub.status.idle": "2022-05-22T13:00:41.203269Z",
     "shell.execute_reply": "2022-05-22T13:00:41.202526Z"
    },
    "papermill": {
     "duration": 0.103554,
     "end_time": "2022-05-22T13:00:41.205599",
     "exception": false,
     "start_time": "2022-05-22T13:00:41.102045",
     "status": "completed"
    },
    "tags": []
   },
   "outputs": [
    {
     "data": {
      "text/plain": [
       "\"\\nfrom sklearn.preprocessing import MinMaxScaler\\n\\nscaler = MinMaxScaler()\\nscaler.fit(train[['POLICE_SEHIR']])\\ntrain['POLICE_SEHIR']=scaler.transform(train[['POLICE_SEHIR']])\\ntest['POLICE_SEHIR']=scaler.transform(test[['POLICE_SEHIR']])\\n\""
      ]
     },
     "execution_count": 19,
     "metadata": {},
     "output_type": "execute_result"
    }
   ],
   "source": [
    "\"\"\"\n",
    "from sklearn.preprocessing import MinMaxScaler\n",
    "\n",
    "scaler = MinMaxScaler()\n",
    "scaler.fit(train[['POLICE_SEHIR']])\n",
    "train['POLICE_SEHIR']=scaler.transform(train[['POLICE_SEHIR']])\n",
    "test['POLICE_SEHIR']=scaler.transform(test[['POLICE_SEHIR']])\n",
    "\"\"\""
   ]
  },
  {
   "cell_type": "code",
   "execution_count": 20,
   "id": "d0eadbfa",
   "metadata": {
    "execution": {
     "iopub.execute_input": "2022-05-22T13:00:41.398147Z",
     "iopub.status.busy": "2022-05-22T13:00:41.397510Z",
     "iopub.status.idle": "2022-05-22T13:00:41.404878Z",
     "shell.execute_reply": "2022-05-22T13:00:41.403785Z"
    },
    "papermill": {
     "duration": 0.106013,
     "end_time": "2022-05-22T13:00:41.407473",
     "exception": false,
     "start_time": "2022-05-22T13:00:41.301460",
     "status": "completed"
    },
    "tags": []
   },
   "outputs": [
    {
     "name": "stdout",
     "output_type": "stream",
     "text": [
      "[62 56  1  9 24 41 10 31 23  8  2 50 25 52 73 61 43 48  4 40 13 30 29  0\n",
      " 16 11 22 63 44 51 66 59 74 47 26 60 46 49 45 39 35 53 64 57  7 68 33 75\n",
      " 21 65 71 17  5 69 18 14 70 20 55 54 67 58 15 12 28 19 38 34 27  3 32 42\n",
      " 36 37  6]\n"
     ]
    }
   ],
   "source": [
    "print(test['POLICE_SEHIR'].unique())"
   ]
  },
  {
   "cell_type": "code",
   "execution_count": 21,
   "id": "2cb633e6",
   "metadata": {
    "execution": {
     "iopub.execute_input": "2022-05-22T13:00:41.601203Z",
     "iopub.status.busy": "2022-05-22T13:00:41.600910Z",
     "iopub.status.idle": "2022-05-22T13:00:42.191980Z",
     "shell.execute_reply": "2022-05-22T13:00:42.191185Z"
    },
    "papermill": {
     "duration": 0.69071,
     "end_time": "2022-05-22T13:00:42.194039",
     "exception": false,
     "start_time": "2022-05-22T13:00:41.503329",
     "status": "completed"
    },
    "tags": []
   },
   "outputs": [
    {
     "data": {
      "text/plain": [
       "\"\\nscaler = MinMaxScaler()\\nscaler.fit(train[['MESLEK']])\\ntrain['MESLEK']=scaler.transform(train[['MESLEK']])\\ntest['MESLEK']=scaler.transform(test[['MESLEK']])\\n\""
      ]
     },
     "execution_count": 21,
     "metadata": {},
     "output_type": "execute_result"
    }
   ],
   "source": [
    "train.MESLEK = train.MESLEK.fillna('unknown')\n",
    "test.MESLEK = test.MESLEK.fillna('unknown')\n",
    "\n",
    "le = LabelEncoder()\n",
    "le.fit(train[\"MESLEK\"])\n",
    "train[\"MESLEK\"]=le.transform(train[\"MESLEK\"])\n",
    "test[\"MESLEK\"]=le.transform(test[\"MESLEK\"])\n",
    "test[\"MESLEK\"]\n",
    "\"\"\"\n",
    "scaler = MinMaxScaler()\n",
    "scaler.fit(train[['MESLEK']])\n",
    "train['MESLEK']=scaler.transform(train[['MESLEK']])\n",
    "test['MESLEK']=scaler.transform(test[['MESLEK']])\n",
    "\"\"\""
   ]
  },
  {
   "cell_type": "code",
   "execution_count": 22,
   "id": "1bdf039f",
   "metadata": {
    "execution": {
     "iopub.execute_input": "2022-05-22T13:00:42.389268Z",
     "iopub.status.busy": "2022-05-22T13:00:42.388965Z",
     "iopub.status.idle": "2022-05-22T13:00:42.959827Z",
     "shell.execute_reply": "2022-05-22T13:00:42.959148Z"
    },
    "papermill": {
     "duration": 0.670687,
     "end_time": "2022-05-22T13:00:42.961643",
     "exception": false,
     "start_time": "2022-05-22T13:00:42.290956",
     "status": "completed"
    },
    "tags": []
   },
   "outputs": [
    {
     "data": {
      "text/plain": [
       "\"\\nscaler = MinMaxScaler()\\nscaler.fit(train[['MESLEK_KIRILIM']])\\ntrain['MESLEK_KIRILIM']=scaler.transform(train[['MESLEK_KIRILIM']])\\ntest['MESLEK_KIRILIM']=scaler.transform(test[['MESLEK_KIRILIM']])\\n\""
      ]
     },
     "execution_count": 22,
     "metadata": {},
     "output_type": "execute_result"
    }
   ],
   "source": [
    "#bilinmeyen meslek kırılım unknown\n",
    "train.MESLEK_KIRILIM = train.MESLEK_KIRILIM.fillna('unknown')\n",
    "test.MESLEK_KIRILIM = test.MESLEK_KIRILIM.fillna('unknown')\n",
    "\n",
    "le = LabelEncoder()\n",
    "le.fit(train[\"MESLEK_KIRILIM\"])\n",
    "train[\"MESLEK_KIRILIM\"]=le.transform(train[\"MESLEK_KIRILIM\"])\n",
    "test[\"MESLEK_KIRILIM\"]=le.transform(test[\"MESLEK_KIRILIM\"])\n",
    "test[\"MESLEK_KIRILIM\"]\n",
    "\"\"\"\n",
    "scaler = MinMaxScaler()\n",
    "scaler.fit(train[['MESLEK_KIRILIM']])\n",
    "train['MESLEK_KIRILIM']=scaler.transform(train[['MESLEK_KIRILIM']])\n",
    "test['MESLEK_KIRILIM']=scaler.transform(test[['MESLEK_KIRILIM']])\n",
    "\"\"\""
   ]
  },
  {
   "cell_type": "code",
   "execution_count": 23,
   "id": "9acd66e5",
   "metadata": {
    "execution": {
     "iopub.execute_input": "2022-05-22T13:00:43.160130Z",
     "iopub.status.busy": "2022-05-22T13:00:43.159622Z",
     "iopub.status.idle": "2022-05-22T13:00:44.408914Z",
     "shell.execute_reply": "2022-05-22T13:00:44.408144Z"
    },
    "papermill": {
     "duration": 1.350573,
     "end_time": "2022-05-22T13:00:44.410954",
     "exception": false,
     "start_time": "2022-05-22T13:00:43.060381",
     "status": "completed"
    },
    "tags": []
   },
   "outputs": [
    {
     "data": {
      "text/plain": [
       "0         3\n",
       "1         1\n",
       "2         1\n",
       "3         1\n",
       "4         1\n",
       "         ..\n",
       "243132    1\n",
       "243133    1\n",
       "243134    1\n",
       "243135    1\n",
       "243136    3\n",
       "Name: MEDENI_HAL, Length: 243137, dtype: int64"
      ]
     },
     "execution_count": 23,
     "metadata": {},
     "output_type": "execute_result"
    }
   ],
   "source": [
    "train.MEDENI_HAL = train.MEDENI_HAL.fillna('Other')\n",
    "test.MEDENI_HAL = test.MEDENI_HAL.fillna('Other')\n",
    "\n",
    "train['MEDENI_HAL'] = train['MEDENI_HAL'].str.replace('Marriage Cancelled','Other')\n",
    "test['MEDENI_HAL'] = test['MEDENI_HAL'].str.replace('Marriage Cancelled','Other')\n",
    "\n",
    "le = LabelEncoder()\n",
    "le.fit(train[\"MEDENI_HAL\"])\n",
    "train[\"MEDENI_HAL\"]=le.transform(train[\"MEDENI_HAL\"])\n",
    "test[\"MEDENI_HAL\"]=le.transform(test[\"MEDENI_HAL\"])\n",
    "test[\"MEDENI_HAL\"]"
   ]
  },
  {
   "cell_type": "code",
   "execution_count": 24,
   "id": "a637b27e",
   "metadata": {
    "execution": {
     "iopub.execute_input": "2022-05-22T13:00:44.607553Z",
     "iopub.status.busy": "2022-05-22T13:00:44.606899Z",
     "iopub.status.idle": "2022-05-22T13:00:45.619957Z",
     "shell.execute_reply": "2022-05-22T13:00:45.619112Z"
    },
    "papermill": {
     "duration": 1.11412,
     "end_time": "2022-05-22T13:00:45.622367",
     "exception": false,
     "start_time": "2022-05-22T13:00:44.508247",
     "status": "completed"
    },
    "tags": []
   },
   "outputs": [],
   "source": [
    "#EGITIM_DURUM contains nans fill them with \"(Di?er)\"\n",
    "#encoding with order\n",
    "train[\"EGITIM_DURUM\"].fillna(\"(Di?er)\", inplace=True)\n",
    "test[\"EGITIM_DURUM\"].fillna(\"(Di?er)\", inplace=True)\n",
    "\n",
    "train['EGITIM_DURUM'] = train['EGITIM_DURUM'].replace(\"?lkö?retim\",0)\n",
    "train['EGITIM_DURUM'] = train['EGITIM_DURUM'].replace(\"(Di?er)\",2)\n",
    "\n",
    "train['EGITIM_DURUM'] = train['EGITIM_DURUM'].replace(\"Lise\",1)\n",
    "train['EGITIM_DURUM'] = train['EGITIM_DURUM'].replace(\"Önlisans\",3)\n",
    "train['EGITIM_DURUM'] = train['EGITIM_DURUM'].replace(\"Lisans\",4)\n",
    "train['EGITIM_DURUM'] = train['EGITIM_DURUM'].replace(\"Yüksek Lisans\",5)\n",
    "train['EGITIM_DURUM'] = train['EGITIM_DURUM'].replace(\"Doktora\",6)\n",
    "\n",
    "test['EGITIM_DURUM'] = test['EGITIM_DURUM'].replace(\"?lkö?retim\",0)\n",
    "test['EGITIM_DURUM'] = test['EGITIM_DURUM'].replace(\"(Di?er)\",2)\n",
    "\n",
    "test['EGITIM_DURUM'] = test['EGITIM_DURUM'].replace(\"Lise\",1)\n",
    "test['EGITIM_DURUM'] = test['EGITIM_DURUM'].replace(\"Önlisans\",3)\n",
    "test['EGITIM_DURUM'] = test['EGITIM_DURUM'].replace(\"Lisans\",4)\n",
    "test['EGITIM_DURUM'] = test['EGITIM_DURUM'].replace(\"Yüksek Lisans\",5)\n",
    "test['EGITIM_DURUM'] = test['EGITIM_DURUM'].replace(\"Doktora\",6)\n"
   ]
  },
  {
   "cell_type": "code",
   "execution_count": 25,
   "id": "ee1f9964",
   "metadata": {
    "execution": {
     "iopub.execute_input": "2022-05-22T13:00:45.818366Z",
     "iopub.status.busy": "2022-05-22T13:00:45.818089Z",
     "iopub.status.idle": "2022-05-22T13:00:46.363742Z",
     "shell.execute_reply": "2022-05-22T13:00:46.362902Z"
    },
    "papermill": {
     "duration": 0.646522,
     "end_time": "2022-05-22T13:00:46.366147",
     "exception": false,
     "start_time": "2022-05-22T13:00:45.719625",
     "status": "completed"
    },
    "tags": []
   },
   "outputs": [],
   "source": [
    "#conver COCUK_SAYISI to numeric\n",
    "train[\"COCUK_SAYISI\"] = pd.to_numeric(train[\"COCUK_SAYISI\"])\n",
    "test[\"COCUK_SAYISI\"] = pd.to_numeric(test[\"COCUK_SAYISI\"])"
   ]
  },
  {
   "cell_type": "code",
   "execution_count": 26,
   "id": "d1b585fa",
   "metadata": {
    "execution": {
     "iopub.execute_input": "2022-05-22T13:00:46.563696Z",
     "iopub.status.busy": "2022-05-22T13:00:46.562893Z",
     "iopub.status.idle": "2022-05-22T13:00:48.293159Z",
     "shell.execute_reply": "2022-05-22T13:00:48.292371Z"
    },
    "papermill": {
     "duration": 1.831226,
     "end_time": "2022-05-22T13:00:48.295399",
     "exception": false,
     "start_time": "2022-05-22T13:00:46.464173",
     "status": "completed"
    },
    "tags": []
   },
   "outputs": [
    {
     "data": {
      "text/plain": [
       "<AxesSubplot:xlabel='GELIR'>"
      ]
     },
     "execution_count": 26,
     "metadata": {},
     "output_type": "execute_result"
    },
    {
     "data": {
      "image/png": "[encoded data removed]",
      "text/plain": [
       "<Figure size 432x288 with 1 Axes>"
      ]
     },
     "metadata": {
      "needs_background": "light"
     },
     "output_type": "display_data"
    }
   ],
   "source": [
    "#last object data type\n",
    "train['GELIR'] = train['GELIR'].str.replace(',','.')\n",
    "test['GELIR'] = test['GELIR'].str.replace(',','.')\n",
    "train[\"GELIR\"] = pd.to_numeric(train[\"GELIR\"])\n",
    "test[\"GELIR\"] = pd.to_numeric(test[\"GELIR\"])\n",
    "#train[\"GELIR\"]= train[\"GELIR\"].astype(str).str.replace(\",\", \".\").astype(float).astype(int)\n",
    "#test[\"GELIR\"]= test[\"GELIR\"].astype(str).str.replace(\",\", \".\").astype(float).astype(int)\n",
    "sns.boxplot(train[\"GELIR\"])"
   ]
  },
  {
   "cell_type": "code",
   "execution_count": 27,
   "id": "346aba43",
   "metadata": {
    "execution": {
     "iopub.execute_input": "2022-05-22T13:00:48.492327Z",
     "iopub.status.busy": "2022-05-22T13:00:48.491473Z",
     "iopub.status.idle": "2022-05-22T13:00:48.791619Z",
     "shell.execute_reply": "2022-05-22T13:00:48.790679Z"
    },
    "papermill": {
     "duration": 0.401004,
     "end_time": "2022-05-22T13:00:48.794087",
     "exception": false,
     "start_time": "2022-05-22T13:00:48.393083",
     "status": "completed"
    },
    "tags": []
   },
   "outputs": [],
   "source": [
    "#remove outliers in GELIR col\n",
    "train = train.drop(train[train.GELIR > 1000000].index)\n",
    "test[\"GELIR\"].where(test[\"GELIR\"] > 1000000, np.nan, inplace=True)"
   ]
  },
  {
   "cell_type": "code",
   "execution_count": 28,
   "id": "569dbf36",
   "metadata": {
    "execution": {
     "iopub.execute_input": "2022-05-22T13:00:48.996940Z",
     "iopub.status.busy": "2022-05-22T13:00:48.996106Z",
     "iopub.status.idle": "2022-05-22T13:00:49.005965Z",
     "shell.execute_reply": "2022-05-22T13:00:49.005277Z"
    },
    "papermill": {
     "duration": 0.111909,
     "end_time": "2022-05-22T13:00:49.007763",
     "exception": false,
     "start_time": "2022-05-22T13:00:48.895854",
     "status": "completed"
    },
    "tags": []
   },
   "outputs": [
    {
     "data": {
      "text/plain": [
       "1000000.0"
      ]
     },
     "execution_count": 28,
     "metadata": {},
     "output_type": "execute_result"
    }
   ],
   "source": [
    "train[\"GELIR\"].max()"
   ]
  },
  {
   "cell_type": "code",
   "execution_count": 29,
   "id": "7a6e2caf",
   "metadata": {
    "execution": {
     "iopub.execute_input": "2022-05-22T13:00:49.206355Z",
     "iopub.status.busy": "2022-05-22T13:00:49.205720Z",
     "iopub.status.idle": "2022-05-22T13:00:49.265043Z",
     "shell.execute_reply": "2022-05-22T13:00:49.264495Z"
    },
    "papermill": {
     "duration": 0.160406,
     "end_time": "2022-05-22T13:00:49.266894",
     "exception": false,
     "start_time": "2022-05-22T13:00:49.106488",
     "status": "completed"
    },
    "tags": []
   },
   "outputs": [
    {
     "data": {
      "text/plain": [
       "609483    1000000.0\n",
       "186317    1000000.0\n",
       "609522    1000000.0\n",
       "463559    1000000.0\n",
       "251547    1000000.0\n",
       "            ...    \n",
       "634090          NaN\n",
       "634097          NaN\n",
       "634099          NaN\n",
       "634102          NaN\n",
       "634104          NaN\n",
       "Name: GELIR, Length: 634032, dtype: float64"
      ]
     },
     "execution_count": 29,
     "metadata": {},
     "output_type": "execute_result"
    }
   ],
   "source": [
    "train[\"GELIR\"].sort_values(ascending=False)"
   ]
  },
  {
   "cell_type": "code",
   "execution_count": 30,
   "id": "2c49704f",
   "metadata": {
    "execution": {
     "iopub.execute_input": "2022-05-22T13:00:49.466649Z",
     "iopub.status.busy": "2022-05-22T13:00:49.465922Z",
     "iopub.status.idle": "2022-05-22T13:00:49.475729Z",
     "shell.execute_reply": "2022-05-22T13:00:49.475169Z"
    },
    "papermill": {
     "duration": 0.11106,
     "end_time": "2022-05-22T13:00:49.477443",
     "exception": false,
     "start_time": "2022-05-22T13:00:49.366383",
     "status": "completed"
    },
    "tags": []
   },
   "outputs": [
    {
     "data": {
      "text/plain": [
       "57278     1.000000e+10\n",
       "184277    1.000000e+08\n",
       "204378    5.000000e+07\n",
       "150516    2.000200e+07\n",
       "226354    2.000200e+07\n",
       "              ...     \n",
       "243132             NaN\n",
       "243133             NaN\n",
       "243134             NaN\n",
       "243135             NaN\n",
       "243136             NaN\n",
       "Name: GELIR, Length: 243137, dtype: float64"
      ]
     },
     "execution_count": 30,
     "metadata": {},
     "output_type": "execute_result"
    }
   ],
   "source": [
    "test[\"GELIR\"].sort_values(ascending=False)"
   ]
  },
  {
   "cell_type": "code",
   "execution_count": 31,
   "id": "1916874d",
   "metadata": {
    "execution": {
     "iopub.execute_input": "2022-05-22T13:00:49.676522Z",
     "iopub.status.busy": "2022-05-22T13:00:49.675997Z",
     "iopub.status.idle": "2022-05-22T13:00:49.831647Z",
     "shell.execute_reply": "2022-05-22T13:00:49.831097Z"
    },
    "papermill": {
     "duration": 0.257159,
     "end_time": "2022-05-22T13:00:49.833421",
     "exception": false,
     "start_time": "2022-05-22T13:00:49.576262",
     "status": "completed"
    },
    "tags": []
   },
   "outputs": [
    {
     "data": {
      "text/plain": [
       "<AxesSubplot:xlabel='GELIR'>"
      ]
     },
     "execution_count": 31,
     "metadata": {},
     "output_type": "execute_result"
    },
    {
     "data": {
      "image/png": "[encoded data removed]",
      "text/plain": [
       "<Figure size 432x288 with 1 Axes>"
      ]
     },
     "metadata": {
      "needs_background": "light"
     },
     "output_type": "display_data"
    }
   ],
   "source": [
    "sns.boxplot(test[\"GELIR\"])"
   ]
  },
  {
   "cell_type": "code",
   "execution_count": 32,
   "id": "83ab1e55",
   "metadata": {
    "execution": {
     "iopub.execute_input": "2022-05-22T13:00:50.039102Z",
     "iopub.status.busy": "2022-05-22T13:00:50.038601Z",
     "iopub.status.idle": "2022-05-22T13:00:55.795113Z",
     "shell.execute_reply": "2022-05-22T13:00:55.794344Z"
    },
    "papermill": {
     "duration": 5.861859,
     "end_time": "2022-05-22T13:00:55.797376",
     "exception": false,
     "start_time": "2022-05-22T13:00:49.935517",
     "status": "completed"
    },
    "tags": []
   },
   "outputs": [
    {
     "data": {
      "text/html": [
       "<div>\n",
       "<style scoped>\n",
       "    .dataframe tbody tr th:only-of-type {\n",
       "        vertical-align: middle;\n",
       "    }\n",
       "\n",
       "    .dataframe tbody tr th {\n",
       "        vertical-align: top;\n",
       "    }\n",
       "\n",
       "    .dataframe thead th {\n",
       "        text-align: right;\n",
       "    }\n",
       "</style>\n",
       "<table border=\"1\" class=\"dataframe\">\n",
       "  <thead>\n",
       "    <tr style=\"text-align: right;\">\n",
       "      <th>ARTIS_DURUMU</th>\n",
       "      <th>0</th>\n",
       "      <th>1</th>\n",
       "    </tr>\n",
       "    <tr>\n",
       "      <th>MUSTERI_SEGMENTI</th>\n",
       "      <th></th>\n",
       "      <th></th>\n",
       "    </tr>\n",
       "  </thead>\n",
       "  <tbody>\n",
       "    <tr>\n",
       "      <th>1</th>\n",
       "      <td>77.654609</td>\n",
       "      <td>22.345391</td>\n",
       "    </tr>\n",
       "    <tr>\n",
       "      <th>2</th>\n",
       "      <td>84.563162</td>\n",
       "      <td>15.436838</td>\n",
       "    </tr>\n",
       "    <tr>\n",
       "      <th>3</th>\n",
       "      <td>86.047126</td>\n",
       "      <td>13.952874</td>\n",
       "    </tr>\n",
       "    <tr>\n",
       "      <th>4</th>\n",
       "      <td>86.274825</td>\n",
       "      <td>13.725175</td>\n",
       "    </tr>\n",
       "    <tr>\n",
       "      <th>5</th>\n",
       "      <td>91.724177</td>\n",
       "      <td>8.275823</td>\n",
       "    </tr>\n",
       "    <tr>\n",
       "      <th>6</th>\n",
       "      <td>98.666678</td>\n",
       "      <td>1.333322</td>\n",
       "    </tr>\n",
       "  </tbody>\n",
       "</table>\n",
       "</div>"
      ],
      "text/plain": [
       "ARTIS_DURUMU              0          1\n",
       "MUSTERI_SEGMENTI                      \n",
       "1                 77.654609  22.345391\n",
       "2                 84.563162  15.436838\n",
       "3                 86.047126  13.952874\n",
       "4                 86.274825  13.725175\n",
       "5                 91.724177   8.275823\n",
       "6                 98.666678   1.333322"
      ]
     },
     "execution_count": 32,
     "metadata": {},
     "output_type": "execute_result"
    },
    {
     "data": {
      "image/png": "[encoded data removed]",
      "text/plain": [
       "<Figure size 432x288 with 1 Axes>"
      ]
     },
     "metadata": {
      "needs_background": "light"
     },
     "output_type": "display_data"
    }
   ],
   "source": [
    "#MUSTERI_SEGMENTI has ony 3 NaNs\n",
    "train[\"MUSTERI_SEGMENTI\"].fillna(\"106.0\", inplace=True)\n",
    "test[\"MUSTERI_SEGMENTI\"].fillna(\"106.0\", inplace=True)\n",
    "\n",
    "#encoding MUSTERI_SEGMENTI with order\n",
    "train['MUSTERI_SEGMENTI'] = train['MUSTERI_SEGMENTI'].str.replace('106.0',\"6\")\n",
    "test['MUSTERI_SEGMENTI'] = test['MUSTERI_SEGMENTI'].str.replace('106.0',\"6\")\n",
    "train['MUSTERI_SEGMENTI'] = train['MUSTERI_SEGMENTI'].str.replace('105.0',\"5\")\n",
    "test['MUSTERI_SEGMENTI'] = test['MUSTERI_SEGMENTI'].str.replace('105.0',\"5\")\n",
    "train['MUSTERI_SEGMENTI'] = train['MUSTERI_SEGMENTI'].str.replace('104.0',\"4\")\n",
    "test['MUSTERI_SEGMENTI'] = test['MUSTERI_SEGMENTI'].str.replace('104.0',\"4\")\n",
    "train['MUSTERI_SEGMENTI'] = train['MUSTERI_SEGMENTI'].str.replace('103.0',\"3\")\n",
    "test['MUSTERI_SEGMENTI'] = test['MUSTERI_SEGMENTI'].str.replace('103.0',\"3\")\n",
    "train['MUSTERI_SEGMENTI'] = train['MUSTERI_SEGMENTI'].str.replace('102.0',\"2\")\n",
    "test['MUSTERI_SEGMENTI'] = test['MUSTERI_SEGMENTI'].str.replace('102.0',\"2\")\n",
    "train['MUSTERI_SEGMENTI'] = train['MUSTERI_SEGMENTI'].str.replace('101.0',\"1\")\n",
    "test['MUSTERI_SEGMENTI'] = test['MUSTERI_SEGMENTI'].str.replace('101.0',\"1\")\n",
    "\n",
    "train[\"MUSTERI_SEGMENTI\"] = pd.to_numeric(train[\"MUSTERI_SEGMENTI\"])\n",
    "test[\"MUSTERI_SEGMENTI\"] = pd.to_numeric(test[\"MUSTERI_SEGMENTI\"])\n",
    "\n",
    "\n",
    "sns.countplot(x=\"MUSTERI_SEGMENTI\", hue=\"ARTIS_DURUMU\", data=train)\n",
    "\n",
    "df = train.groupby('MUSTERI_SEGMENTI').ARTIS_DURUMU.value_counts(normalize=True).unstack(fill_value=0).mul(100)\n",
    "df\n"
   ]
  },
  {
   "cell_type": "code",
   "execution_count": 33,
   "id": "31e92034",
   "metadata": {
    "execution": {
     "iopub.execute_input": "2022-05-22T13:00:56.001701Z",
     "iopub.status.busy": "2022-05-22T13:00:56.001406Z",
     "iopub.status.idle": "2022-05-22T13:00:56.361083Z",
     "shell.execute_reply": "2022-05-22T13:00:56.360337Z"
    },
    "papermill": {
     "duration": 0.464212,
     "end_time": "2022-05-22T13:00:56.363025",
     "exception": false,
     "start_time": "2022-05-22T13:00:55.898813",
     "status": "completed"
    },
    "tags": []
   },
   "outputs": [
    {
     "data": {
      "text/html": [
       "<div>\n",
       "<style scoped>\n",
       "    .dataframe tbody tr th:only-of-type {\n",
       "        vertical-align: middle;\n",
       "    }\n",
       "\n",
       "    .dataframe tbody tr th {\n",
       "        vertical-align: top;\n",
       "    }\n",
       "\n",
       "    .dataframe thead th {\n",
       "        text-align: right;\n",
       "    }\n",
       "</style>\n",
       "<table border=\"1\" class=\"dataframe\">\n",
       "  <thead>\n",
       "    <tr style=\"text-align: right;\">\n",
       "      <th>ARTIS_DURUMU</th>\n",
       "      <th>0</th>\n",
       "      <th>1</th>\n",
       "    </tr>\n",
       "    <tr>\n",
       "      <th>SIGORTA_TIP</th>\n",
       "      <th></th>\n",
       "      <th></th>\n",
       "    </tr>\n",
       "  </thead>\n",
       "  <tbody>\n",
       "    <tr>\n",
       "      <th>1</th>\n",
       "      <td>93.358531</td>\n",
       "      <td>6.641469</td>\n",
       "    </tr>\n",
       "    <tr>\n",
       "      <th>4</th>\n",
       "      <td>91.432396</td>\n",
       "      <td>8.567604</td>\n",
       "    </tr>\n",
       "    <tr>\n",
       "      <th>6</th>\n",
       "      <td>56.183034</td>\n",
       "      <td>43.816966</td>\n",
       "    </tr>\n",
       "    <tr>\n",
       "      <th>7</th>\n",
       "      <td>87.835640</td>\n",
       "      <td>12.164360</td>\n",
       "    </tr>\n",
       "    <tr>\n",
       "      <th>8</th>\n",
       "      <td>85.681558</td>\n",
       "      <td>14.318442</td>\n",
       "    </tr>\n",
       "  </tbody>\n",
       "</table>\n",
       "</div>"
      ],
      "text/plain": [
       "ARTIS_DURUMU          0          1\n",
       "SIGORTA_TIP                       \n",
       "1             93.358531   6.641469\n",
       "4             91.432396   8.567604\n",
       "6             56.183034  43.816966\n",
       "7             87.835640  12.164360\n",
       "8             85.681558  14.318442"
      ]
     },
     "execution_count": 33,
     "metadata": {},
     "output_type": "execute_result"
    },
    {
     "data": {
      "image/png": "[encoded data removed]",
      "text/plain": [
       "<Figure size 432x288 with 1 Axes>"
      ]
     },
     "metadata": {
      "needs_background": "light"
     },
     "output_type": "display_data"
    }
   ],
   "source": [
    "sns.countplot(x=\"SIGORTA_TIP\", hue=\"ARTIS_DURUMU\", data=train)\n",
    "\n",
    "df = train.groupby('SIGORTA_TIP').ARTIS_DURUMU.value_counts(normalize=True).unstack(fill_value=0).mul(100)\n",
    "df\n"
   ]
  },
  {
   "cell_type": "code",
   "execution_count": 34,
   "id": "74a626f0",
   "metadata": {
    "execution": {
     "iopub.execute_input": "2022-05-22T13:00:56.568869Z",
     "iopub.status.busy": "2022-05-22T13:00:56.568596Z",
     "iopub.status.idle": "2022-05-22T13:00:56.901881Z",
     "shell.execute_reply": "2022-05-22T13:00:56.901326Z"
    },
    "papermill": {
     "duration": 0.438799,
     "end_time": "2022-05-22T13:00:56.903690",
     "exception": false,
     "start_time": "2022-05-22T13:00:56.464891",
     "status": "completed"
    },
    "tags": []
   },
   "outputs": [
    {
     "data": {
      "text/html": [
       "<div>\n",
       "<style scoped>\n",
       "    .dataframe tbody tr th:only-of-type {\n",
       "        vertical-align: middle;\n",
       "    }\n",
       "\n",
       "    .dataframe tbody tr th {\n",
       "        vertical-align: top;\n",
       "    }\n",
       "\n",
       "    .dataframe thead th {\n",
       "        text-align: right;\n",
       "    }\n",
       "</style>\n",
       "<table border=\"1\" class=\"dataframe\">\n",
       "  <thead>\n",
       "    <tr style=\"text-align: right;\">\n",
       "      <th>ARTIS_DURUMU</th>\n",
       "      <th>0</th>\n",
       "      <th>1</th>\n",
       "    </tr>\n",
       "    <tr>\n",
       "      <th>CINSIYET</th>\n",
       "      <th></th>\n",
       "      <th></th>\n",
       "    </tr>\n",
       "  </thead>\n",
       "  <tbody>\n",
       "    <tr>\n",
       "      <th>1</th>\n",
       "      <td>91.003522</td>\n",
       "      <td>8.996478</td>\n",
       "    </tr>\n",
       "    <tr>\n",
       "      <th>2</th>\n",
       "      <td>91.592741</td>\n",
       "      <td>8.407259</td>\n",
       "    </tr>\n",
       "  </tbody>\n",
       "</table>\n",
       "</div>"
      ],
      "text/plain": [
       "ARTIS_DURUMU          0         1\n",
       "CINSIYET                         \n",
       "1             91.003522  8.996478\n",
       "2             91.592741  8.407259"
      ]
     },
     "execution_count": 34,
     "metadata": {},
     "output_type": "execute_result"
    },
    {
     "data": {
      "image/png": "[encoded data removed]",
      "text/plain": [
       "<Figure size 432x288 with 1 Axes>"
      ]
     },
     "metadata": {
      "needs_background": "light"
     },
     "output_type": "display_data"
    }
   ],
   "source": [
    "#CINSIYET does not effect ARTIS_DURUMU\n",
    "sns.countplot(x=\"CINSIYET\", hue=\"ARTIS_DURUMU\", data=train)\n",
    "\n",
    "df = train.groupby('CINSIYET').ARTIS_DURUMU.value_counts(normalize=True).unstack(fill_value=0).mul(100)\n",
    "df\n"
   ]
  },
  {
   "cell_type": "code",
   "execution_count": 35,
   "id": "f7c0e4c7",
   "metadata": {
    "execution": {
     "iopub.execute_input": "2022-05-22T13:00:57.114737Z",
     "iopub.status.busy": "2022-05-22T13:00:57.113965Z",
     "iopub.status.idle": "2022-05-22T13:00:57.454273Z",
     "shell.execute_reply": "2022-05-22T13:00:57.453602Z"
    },
    "papermill": {
     "duration": 0.447986,
     "end_time": "2022-05-22T13:00:57.456347",
     "exception": false,
     "start_time": "2022-05-22T13:00:57.008361",
     "status": "completed"
    },
    "tags": []
   },
   "outputs": [],
   "source": [
    "train.drop(['CINSIYET'],axis=1,inplace=True)\n",
    "test.drop(['CINSIYET'],axis=1,inplace=True)"
   ]
  },
  {
   "cell_type": "code",
   "execution_count": 36,
   "id": "d29ca268",
   "metadata": {
    "execution": {
     "iopub.execute_input": "2022-05-22T13:00:57.663191Z",
     "iopub.status.busy": "2022-05-22T13:00:57.662666Z",
     "iopub.status.idle": "2022-05-22T13:00:57.684710Z",
     "shell.execute_reply": "2022-05-22T13:00:57.684132Z"
    },
    "papermill": {
     "duration": 0.127697,
     "end_time": "2022-05-22T13:00:57.686824",
     "exception": false,
     "start_time": "2022-05-22T13:00:57.559127",
     "status": "completed"
    },
    "tags": []
   },
   "outputs": [],
   "source": [
    "#encodin SIGORTA_TIP with order \n",
    "train['SIGORTA_TIP'] = train['SIGORTA_TIP'].replace(4,2)\n",
    "train['SIGORTA_TIP'] = train['SIGORTA_TIP'].replace(7,3)\n",
    "train['SIGORTA_TIP'] = train['SIGORTA_TIP'].replace(8,4)\n",
    "\n",
    "test['SIGORTA_TIP'] = test['SIGORTA_TIP'].replace(4,2)\n",
    "test['SIGORTA_TIP'] = test['SIGORTA_TIP'].replace(7,3)\n",
    "test['SIGORTA_TIP'] = test['SIGORTA_TIP'].replace(8,4)"
   ]
  },
  {
   "cell_type": "code",
   "execution_count": 37,
   "id": "177fded0",
   "metadata": {
    "execution": {
     "iopub.execute_input": "2022-05-22T13:00:57.897106Z",
     "iopub.status.busy": "2022-05-22T13:00:57.896817Z",
     "iopub.status.idle": "2022-05-22T13:00:58.303296Z",
     "shell.execute_reply": "2022-05-22T13:00:58.302400Z"
    },
    "papermill": {
     "duration": 0.514494,
     "end_time": "2022-05-22T13:00:58.305423",
     "exception": false,
     "start_time": "2022-05-22T13:00:57.790929",
     "status": "completed"
    },
    "tags": []
   },
   "outputs": [
    {
     "data": {
      "text/html": [
       "<div>\n",
       "<style scoped>\n",
       "    .dataframe tbody tr th:only-of-type {\n",
       "        vertical-align: middle;\n",
       "    }\n",
       "\n",
       "    .dataframe tbody tr th {\n",
       "        vertical-align: top;\n",
       "    }\n",
       "\n",
       "    .dataframe thead th {\n",
       "        text-align: right;\n",
       "    }\n",
       "</style>\n",
       "<table border=\"1\" class=\"dataframe\">\n",
       "  <thead>\n",
       "    <tr style=\"text-align: right;\">\n",
       "      <th>ARTIS_DURUMU</th>\n",
       "      <th>0</th>\n",
       "      <th>1</th>\n",
       "    </tr>\n",
       "    <tr>\n",
       "      <th>EGITIM_DURUM</th>\n",
       "      <th></th>\n",
       "      <th></th>\n",
       "    </tr>\n",
       "  </thead>\n",
       "  <tbody>\n",
       "    <tr>\n",
       "      <th>0</th>\n",
       "      <td>95.024777</td>\n",
       "      <td>4.975223</td>\n",
       "    </tr>\n",
       "    <tr>\n",
       "      <th>1</th>\n",
       "      <td>93.636227</td>\n",
       "      <td>6.363773</td>\n",
       "    </tr>\n",
       "    <tr>\n",
       "      <th>2</th>\n",
       "      <td>94.292416</td>\n",
       "      <td>5.707584</td>\n",
       "    </tr>\n",
       "    <tr>\n",
       "      <th>3</th>\n",
       "      <td>83.117184</td>\n",
       "      <td>16.882816</td>\n",
       "    </tr>\n",
       "    <tr>\n",
       "      <th>4</th>\n",
       "      <td>86.294800</td>\n",
       "      <td>13.705200</td>\n",
       "    </tr>\n",
       "    <tr>\n",
       "      <th>5</th>\n",
       "      <td>80.104190</td>\n",
       "      <td>19.895810</td>\n",
       "    </tr>\n",
       "    <tr>\n",
       "      <th>6</th>\n",
       "      <td>80.953916</td>\n",
       "      <td>19.046084</td>\n",
       "    </tr>\n",
       "  </tbody>\n",
       "</table>\n",
       "</div>"
      ],
      "text/plain": [
       "ARTIS_DURUMU          0          1\n",
       "EGITIM_DURUM                      \n",
       "0             95.024777   4.975223\n",
       "1             93.636227   6.363773\n",
       "2             94.292416   5.707584\n",
       "3             83.117184  16.882816\n",
       "4             86.294800  13.705200\n",
       "5             80.104190  19.895810\n",
       "6             80.953916  19.046084"
      ]
     },
     "execution_count": 37,
     "metadata": {},
     "output_type": "execute_result"
    },
    {
     "data": {
      "image/png": "[encoded data removed]",
      "text/plain": [
       "<Figure size 432x288 with 1 Axes>"
      ]
     },
     "metadata": {
      "needs_background": "light"
     },
     "output_type": "display_data"
    }
   ],
   "source": [
    "sns.countplot(x=\"EGITIM_DURUM\", hue=\"ARTIS_DURUMU\", data=train)\n",
    "\n",
    "df = train.groupby('EGITIM_DURUM').ARTIS_DURUMU.value_counts(normalize=True).unstack(fill_value=0).mul(100)\n",
    "df"
   ]
  },
  {
   "cell_type": "code",
   "execution_count": 38,
   "id": "e5891da7",
   "metadata": {
    "execution": {
     "iopub.execute_input": "2022-05-22T13:00:58.515586Z",
     "iopub.status.busy": "2022-05-22T13:00:58.514974Z",
     "iopub.status.idle": "2022-05-22T13:00:59.626801Z",
     "shell.execute_reply": "2022-05-22T13:00:59.626183Z"
    },
    "papermill": {
     "duration": 1.2184,
     "end_time": "2022-05-22T13:00:59.628971",
     "exception": false,
     "start_time": "2022-05-22T13:00:58.410571",
     "status": "completed"
    },
    "tags": []
   },
   "outputs": [],
   "source": [
    "#converting data types to numeric changing , to .\n",
    "train['SENE_BASI_HESAP_DEGERI'] = train['SENE_BASI_HESAP_DEGERI'].str.replace(',','.')\n",
    "test['SENE_BASI_HESAP_DEGERI'] = test['SENE_BASI_HESAP_DEGERI'].str.replace(',','.')\n",
    "train[\"SENE_BASI_HESAP_DEGERI\"] = pd.to_numeric(train[\"SENE_BASI_HESAP_DEGERI\"])\n",
    "test[\"SENE_BASI_HESAP_DEGERI\"] = pd.to_numeric(test[\"SENE_BASI_HESAP_DEGERI\"])"
   ]
  },
  {
   "cell_type": "code",
   "execution_count": 39,
   "id": "057510be",
   "metadata": {
    "execution": {
     "iopub.execute_input": "2022-05-22T13:00:59.868594Z",
     "iopub.status.busy": "2022-05-22T13:00:59.868322Z",
     "iopub.status.idle": "2022-05-22T13:01:00.954141Z",
     "shell.execute_reply": "2022-05-22T13:01:00.953552Z"
    },
    "papermill": {
     "duration": 1.195327,
     "end_time": "2022-05-22T13:01:00.956347",
     "exception": false,
     "start_time": "2022-05-22T13:00:59.761020",
     "status": "completed"
    },
    "tags": []
   },
   "outputs": [],
   "source": [
    "train['SENE_SONU_HESAP_DEGERI'] = train['SENE_SONU_HESAP_DEGERI'].str.replace(',','.')\n",
    "test['SENE_SONU_HESAP_DEGERI'] = test['SENE_SONU_HESAP_DEGERI'].str.replace(',','.')\n",
    "train[\"SENE_SONU_HESAP_DEGERI\"] = pd.to_numeric(train[\"SENE_SONU_HESAP_DEGERI\"])\n",
    "test[\"SENE_SONU_HESAP_DEGERI\"] = pd.to_numeric(test[\"SENE_SONU_HESAP_DEGERI\"])"
   ]
  },
  {
   "cell_type": "code",
   "execution_count": 40,
   "id": "a0d5e5cf",
   "metadata": {
    "execution": {
     "iopub.execute_input": "2022-05-22T13:01:01.170880Z",
     "iopub.status.busy": "2022-05-22T13:01:01.170462Z",
     "iopub.status.idle": "2022-05-22T13:01:02.189724Z",
     "shell.execute_reply": "2022-05-22T13:01:02.189070Z"
    },
    "papermill": {
     "duration": 1.130487,
     "end_time": "2022-05-22T13:01:02.191943",
     "exception": false,
     "start_time": "2022-05-22T13:01:01.061456",
     "status": "completed"
    },
    "tags": []
   },
   "outputs": [],
   "source": [
    "train['OCAK_VADE_TUTARI'] = train['OCAK_VADE_TUTARI'].str.replace(',','.')\n",
    "test['OCAK_VADE_TUTARI'] = test['OCAK_VADE_TUTARI'].str.replace(',','.')\n",
    "train[\"OCAK_VADE_TUTARI\"] = pd.to_numeric(train[\"OCAK_VADE_TUTARI\"])\n",
    "test[\"OCAK_VADE_TUTARI\"] = pd.to_numeric(test[\"OCAK_VADE_TUTARI\"])"
   ]
  },
  {
   "cell_type": "code",
   "execution_count": 41,
   "id": "fe71da56",
   "metadata": {
    "execution": {
     "iopub.execute_input": "2022-05-22T13:01:02.405201Z",
     "iopub.status.busy": "2022-05-22T13:01:02.404932Z",
     "iopub.status.idle": "2022-05-22T13:01:03.414116Z",
     "shell.execute_reply": "2022-05-22T13:01:03.413406Z"
    },
    "papermill": {
     "duration": 1.120519,
     "end_time": "2022-05-22T13:01:03.416313",
     "exception": false,
     "start_time": "2022-05-22T13:01:02.295794",
     "status": "completed"
    },
    "tags": []
   },
   "outputs": [],
   "source": [
    "train['SUBAT_VADE_TUTARI'] = train['SUBAT_VADE_TUTARI'].str.replace(',','.')\n",
    "test['SUBAT_VADE_TUTARI'] = test['SUBAT_VADE_TUTARI'].str.replace(',','.')\n",
    "train[\"SUBAT_VADE_TUTARI\"] = pd.to_numeric(train[\"SUBAT_VADE_TUTARI\"])\n",
    "test[\"SUBAT_VADE_TUTARI\"] = pd.to_numeric(test[\"SUBAT_VADE_TUTARI\"])"
   ]
  },
  {
   "cell_type": "code",
   "execution_count": 42,
   "id": "95b71fae",
   "metadata": {
    "execution": {
     "iopub.execute_input": "2022-05-22T13:01:03.626521Z",
     "iopub.status.busy": "2022-05-22T13:01:03.625880Z",
     "iopub.status.idle": "2022-05-22T13:01:04.633767Z",
     "shell.execute_reply": "2022-05-22T13:01:04.633137Z"
    },
    "papermill": {
     "duration": 1.115906,
     "end_time": "2022-05-22T13:01:04.635884",
     "exception": false,
     "start_time": "2022-05-22T13:01:03.519978",
     "status": "completed"
    },
    "tags": []
   },
   "outputs": [],
   "source": [
    "train['MART_VADE_TUTARI'] = train['MART_VADE_TUTARI'].str.replace(',','.')\n",
    "test['MART_VADE_TUTARI'] = test['MART_VADE_TUTARI'].str.replace(',','.')\n",
    "train[\"MART_VADE_TUTARI\"] = pd.to_numeric(train[\"MART_VADE_TUTARI\"])\n",
    "test[\"MART_VADE_TUTARI\"] = pd.to_numeric(test[\"MART_VADE_TUTARI\"])"
   ]
  },
  {
   "cell_type": "code",
   "execution_count": 43,
   "id": "08e822ce",
   "metadata": {
    "execution": {
     "iopub.execute_input": "2022-05-22T13:01:04.847149Z",
     "iopub.status.busy": "2022-05-22T13:01:04.846448Z",
     "iopub.status.idle": "2022-05-22T13:01:05.851349Z",
     "shell.execute_reply": "2022-05-22T13:01:05.850605Z"
    },
    "papermill": {
     "duration": 1.113148,
     "end_time": "2022-05-22T13:01:05.853512",
     "exception": false,
     "start_time": "2022-05-22T13:01:04.740364",
     "status": "completed"
    },
    "tags": []
   },
   "outputs": [],
   "source": [
    "train['NISAN_VADE_TUTARI'] = train['NISAN_VADE_TUTARI'].str.replace(',','.')\n",
    "test['NISAN_VADE_TUTARI'] = test['NISAN_VADE_TUTARI'].str.replace(',','.')\n",
    "train[\"NISAN_VADE_TUTARI\"] = pd.to_numeric(train[\"NISAN_VADE_TUTARI\"])\n",
    "test[\"NISAN_VADE_TUTARI\"] = pd.to_numeric(test[\"NISAN_VADE_TUTARI\"])"
   ]
  },
  {
   "cell_type": "code",
   "execution_count": 44,
   "id": "371e2851",
   "metadata": {
    "execution": {
     "iopub.execute_input": "2022-05-22T13:01:06.065594Z",
     "iopub.status.busy": "2022-05-22T13:01:06.065022Z",
     "iopub.status.idle": "2022-05-22T13:01:07.061283Z",
     "shell.execute_reply": "2022-05-22T13:01:07.060555Z"
    },
    "papermill": {
     "duration": 1.105207,
     "end_time": "2022-05-22T13:01:07.063595",
     "exception": false,
     "start_time": "2022-05-22T13:01:05.958388",
     "status": "completed"
    },
    "tags": []
   },
   "outputs": [],
   "source": [
    "train['MAYIS_VADE_TUTARI'] = train['MAYIS_VADE_TUTARI'].str.replace(',','.')\n",
    "test['MAYIS_VADE_TUTARI'] = test['MAYIS_VADE_TUTARI'].str.replace(',','.')\n",
    "train[\"MAYIS_VADE_TUTARI\"] = pd.to_numeric(train[\"MAYIS_VADE_TUTARI\"])\n",
    "test[\"MAYIS_VADE_TUTARI\"] = pd.to_numeric(test[\"MAYIS_VADE_TUTARI\"])"
   ]
  },
  {
   "cell_type": "code",
   "execution_count": 45,
   "id": "735507a6",
   "metadata": {
    "execution": {
     "iopub.execute_input": "2022-05-22T13:01:07.274866Z",
     "iopub.status.busy": "2022-05-22T13:01:07.274378Z",
     "iopub.status.idle": "2022-05-22T13:01:08.251036Z",
     "shell.execute_reply": "2022-05-22T13:01:08.250203Z"
    },
    "papermill": {
     "duration": 1.084872,
     "end_time": "2022-05-22T13:01:08.253412",
     "exception": false,
     "start_time": "2022-05-22T13:01:07.168540",
     "status": "completed"
    },
    "tags": []
   },
   "outputs": [],
   "source": [
    "train['HAZIRAN_VADE_TUTARI'] = train['HAZIRAN_VADE_TUTARI'].str.replace(',','.')\n",
    "test['HAZIRAN_VADE_TUTARI'] = test['HAZIRAN_VADE_TUTARI'].str.replace(',','.')\n",
    "train[\"HAZIRAN_VADE_TUTARI\"] = pd.to_numeric(train[\"HAZIRAN_VADE_TUTARI\"])\n",
    "test[\"HAZIRAN_VADE_TUTARI\"] = pd.to_numeric(test[\"HAZIRAN_VADE_TUTARI\"])"
   ]
  },
  {
   "cell_type": "code",
   "execution_count": 46,
   "id": "3b8b3a01",
   "metadata": {
    "execution": {
     "iopub.execute_input": "2022-05-22T13:01:08.463593Z",
     "iopub.status.busy": "2022-05-22T13:01:08.463104Z",
     "iopub.status.idle": "2022-05-22T13:01:09.425194Z",
     "shell.execute_reply": "2022-05-22T13:01:09.424531Z"
    },
    "papermill": {
     "duration": 1.070194,
     "end_time": "2022-05-22T13:01:09.427387",
     "exception": false,
     "start_time": "2022-05-22T13:01:08.357193",
     "status": "completed"
    },
    "tags": []
   },
   "outputs": [],
   "source": [
    "train['TEMMUZ_VADE_TUTARI'] = train['TEMMUZ_VADE_TUTARI'].str.replace(',','.')\n",
    "test['TEMMUZ_VADE_TUTARI'] = test['TEMMUZ_VADE_TUTARI'].str.replace(',','.')\n",
    "train[\"TEMMUZ_VADE_TUTARI\"] = pd.to_numeric(train[\"TEMMUZ_VADE_TUTARI\"])\n",
    "test[\"TEMMUZ_VADE_TUTARI\"] = pd.to_numeric(test[\"TEMMUZ_VADE_TUTARI\"])"
   ]
  },
  {
   "cell_type": "code",
   "execution_count": 47,
   "id": "64af3e90",
   "metadata": {
    "execution": {
     "iopub.execute_input": "2022-05-22T13:01:09.637381Z",
     "iopub.status.busy": "2022-05-22T13:01:09.636870Z",
     "iopub.status.idle": "2022-05-22T13:01:10.776240Z",
     "shell.execute_reply": "2022-05-22T13:01:10.775371Z"
    },
    "papermill": {
     "duration": 1.246844,
     "end_time": "2022-05-22T13:01:10.778746",
     "exception": false,
     "start_time": "2022-05-22T13:01:09.531902",
     "status": "completed"
    },
    "tags": []
   },
   "outputs": [],
   "source": [
    "train['AGUSTOS_VADE_TUTARI'] = train['AGUSTOS_VADE_TUTARI'].str.replace(',','.')\n",
    "test['AGUSTOS_VADE_TUTARI'] = test['AGUSTOS_VADE_TUTARI'].str.replace(',','.')\n",
    "train[\"AGUSTOS_VADE_TUTARI\"] = pd.to_numeric(train[\"AGUSTOS_VADE_TUTARI\"])\n",
    "test[\"AGUSTOS_VADE_TUTARI\"] = pd.to_numeric(test[\"AGUSTOS_VADE_TUTARI\"])"
   ]
  },
  {
   "cell_type": "code",
   "execution_count": 48,
   "id": "8ce9b4f6",
   "metadata": {
    "execution": {
     "iopub.execute_input": "2022-05-22T13:01:11.006716Z",
     "iopub.status.busy": "2022-05-22T13:01:11.006399Z",
     "iopub.status.idle": "2022-05-22T13:01:11.979075Z",
     "shell.execute_reply": "2022-05-22T13:01:11.978145Z"
    },
    "papermill": {
     "duration": 1.089388,
     "end_time": "2022-05-22T13:01:11.981578",
     "exception": false,
     "start_time": "2022-05-22T13:01:10.892190",
     "status": "completed"
    },
    "tags": []
   },
   "outputs": [],
   "source": [
    "train['EYLUL_VADE_TUTARI'] = train['EYLUL_VADE_TUTARI'].str.replace(',','.')\n",
    "test['EYLUL_VADE_TUTARI'] = test['EYLUL_VADE_TUTARI'].str.replace(',','.')\n",
    "train[\"EYLUL_VADE_TUTARI\"] = pd.to_numeric(train[\"EYLUL_VADE_TUTARI\"])\n",
    "test[\"EYLUL_VADE_TUTARI\"] = pd.to_numeric(test[\"EYLUL_VADE_TUTARI\"])"
   ]
  },
  {
   "cell_type": "code",
   "execution_count": 49,
   "id": "e414feec",
   "metadata": {
    "execution": {
     "iopub.execute_input": "2022-05-22T13:01:12.211975Z",
     "iopub.status.busy": "2022-05-22T13:01:12.211438Z",
     "iopub.status.idle": "2022-05-22T13:01:13.182898Z",
     "shell.execute_reply": "2022-05-22T13:01:13.182116Z"
    },
    "papermill": {
     "duration": 1.091088,
     "end_time": "2022-05-22T13:01:13.185322",
     "exception": false,
     "start_time": "2022-05-22T13:01:12.094234",
     "status": "completed"
    },
    "tags": []
   },
   "outputs": [],
   "source": [
    "train['EKIM_VADE_TUTARI'] = train['EKIM_VADE_TUTARI'].str.replace(',','.')\n",
    "test['EKIM_VADE_TUTARI'] = test['EKIM_VADE_TUTARI'].str.replace(',','.')\n",
    "train[\"EKIM_VADE_TUTARI\"] = pd.to_numeric(train[\"EKIM_VADE_TUTARI\"])\n",
    "test[\"EKIM_VADE_TUTARI\"] = pd.to_numeric(test[\"EKIM_VADE_TUTARI\"])"
   ]
  },
  {
   "cell_type": "code",
   "execution_count": 50,
   "id": "8759a5fb",
   "metadata": {
    "execution": {
     "iopub.execute_input": "2022-05-22T13:01:13.404572Z",
     "iopub.status.busy": "2022-05-22T13:01:13.404316Z",
     "iopub.status.idle": "2022-05-22T13:01:14.345493Z",
     "shell.execute_reply": "2022-05-22T13:01:14.344713Z"
    },
    "papermill": {
     "duration": 1.052532,
     "end_time": "2022-05-22T13:01:14.348029",
     "exception": false,
     "start_time": "2022-05-22T13:01:13.295497",
     "status": "completed"
    },
    "tags": []
   },
   "outputs": [],
   "source": [
    "train['KASIM_VADE_TUTARI'] = train['KASIM_VADE_TUTARI'].str.replace(',','.')\n",
    "test['KASIM_VADE_TUTARI'] = test['KASIM_VADE_TUTARI'].str.replace(',','.')\n",
    "train[\"KASIM_VADE_TUTARI\"] = pd.to_numeric(train[\"KASIM_VADE_TUTARI\"])\n",
    "test[\"KASIM_VADE_TUTARI\"] = pd.to_numeric(test[\"KASIM_VADE_TUTARI\"])"
   ]
  },
  {
   "cell_type": "code",
   "execution_count": 51,
   "id": "6f71a733",
   "metadata": {
    "execution": {
     "iopub.execute_input": "2022-05-22T13:01:14.561187Z",
     "iopub.status.busy": "2022-05-22T13:01:14.560676Z",
     "iopub.status.idle": "2022-05-22T13:01:15.500418Z",
     "shell.execute_reply": "2022-05-22T13:01:15.499565Z"
    },
    "papermill": {
     "duration": 1.047574,
     "end_time": "2022-05-22T13:01:15.502849",
     "exception": false,
     "start_time": "2022-05-22T13:01:14.455275",
     "status": "completed"
    },
    "tags": []
   },
   "outputs": [],
   "source": [
    "train['ARALIK_VADE_TUTARI'] = train['ARALIK_VADE_TUTARI'].str.replace(',','.')\n",
    "test['ARALIK_VADE_TUTARI'] = test['ARALIK_VADE_TUTARI'].str.replace(',','.')\n",
    "train[\"ARALIK_VADE_TUTARI\"] = pd.to_numeric(train[\"ARALIK_VADE_TUTARI\"])\n",
    "test[\"ARALIK_VADE_TUTARI\"] = pd.to_numeric(test[\"ARALIK_VADE_TUTARI\"])"
   ]
  },
  {
   "cell_type": "code",
   "execution_count": 52,
   "id": "8a68454d",
   "metadata": {
    "execution": {
     "iopub.execute_input": "2022-05-22T13:01:15.715114Z",
     "iopub.status.busy": "2022-05-22T13:01:15.714849Z",
     "iopub.status.idle": "2022-05-22T13:01:15.787224Z",
     "shell.execute_reply": "2022-05-22T13:01:15.785774Z"
    },
    "papermill": {
     "duration": 0.180787,
     "end_time": "2022-05-22T13:01:15.789441",
     "exception": false,
     "start_time": "2022-05-22T13:01:15.608654",
     "status": "completed"
    },
    "tags": []
   },
   "outputs": [
    {
     "name": "stdout",
     "output_type": "stream",
     "text": [
      "Train Missing values:\n",
      " COCUK_SAYISI              118099\n",
      "GELIR                      77644\n",
      "OFFICE_ID                      0\n",
      "MAYIS_VADE_TUTARI              0\n",
      "HAZIRAN_VADE_TUTARI            0\n",
      "TEMMUZ_ODENEN_TUTAR            0\n",
      "TEMMUZ_VADE_TUTARI             0\n",
      "AGUSTOS_ODENEN_TUTAR           0\n",
      "AGUSTOS_VADE_TUTARI            0\n",
      "EYLUL_ODENEN_TUTAR             0\n",
      "EYLUL_VADE_TUTARI              0\n",
      "EKIM_ODENEN_TUTAR              0\n",
      "EKIM_VADE_TUTARI               0\n",
      "KASIM_ODENEN_TUTAR             0\n",
      "KASIM_VADE_TUTARI              0\n",
      "ARALIK_ODENEN_TUTAR            0\n",
      "ARALIK_VADE_TUTARI             0\n",
      "SENE_BASI_HESAP_DEGERI         0\n",
      "SENE_SONU_HESAP_DEGERI         0\n",
      "ARTIS_DURUMU                   0\n",
      "BASLANGIC_TARIHI_yil           0\n",
      "HAZIRAN_ODENEN_TUTAR           0\n",
      "NISAN_VADE_TUTARI              0\n",
      "MAYIS_ODENEN_TUTAR             0\n",
      "SIGORTA_TIP                    0\n",
      "KAPSAM_TIPI                    0\n",
      "KAPSAM_GRUBU                   0\n",
      "DAGITIM_KANALI                 0\n",
      "POLICE_SEHIR                   0\n",
      "DOGUM_TARIHI                   0\n",
      "MESLEK                         0\n",
      "MESLEK_KIRILIM                 0\n",
      "MUSTERI_SEGMENTI               0\n",
      "MEDENI_HAL                     0\n",
      "EGITIM_DURUM                   0\n",
      "OCAK_ODENEN_TUTAR              0\n",
      "OCAK_VADE_TUTARI               0\n",
      "SUBAT_ODENEN_TU                0\n",
      "SUBAT_VADE_TUTARI              0\n",
      "MART_ODENEN_TUTAR              0\n",
      "MART_VADE_TUTARI               0\n",
      "NISAN_ODENEN_TUTAR             0\n",
      "BASLANGIC_TARIHI_ay            0\n",
      "dtype: int64 \n",
      "\n",
      "Test Missing values:\n",
      " GELIR                     243115\n",
      "COCUK_SAYISI               45634\n",
      "OFFICE_ID                      0\n",
      "MAYIS_ODENEN_TUTAR             0\n",
      "HAZIRAN_ODENEN_TUTAR           0\n",
      "HAZIRAN_VADE_TUTARI            0\n",
      "TEMMUZ_ODENEN_TUTAR            0\n",
      "TEMMUZ_VADE_TUTARI             0\n",
      "AGUSTOS_ODENEN_TUTAR           0\n",
      "AGUSTOS_VADE_TUTARI            0\n",
      "EYLUL_ODENEN_TUTAR             0\n",
      "EYLUL_VADE_TUTARI              0\n",
      "EKIM_ODENEN_TUTAR              0\n",
      "EKIM_VADE_TUTARI               0\n",
      "KASIM_ODENEN_TUTAR             0\n",
      "KASIM_VADE_TUTARI              0\n",
      "ARALIK_ODENEN_TUTAR            0\n",
      "ARALIK_VADE_TUTARI             0\n",
      "SENE_BASI_HESAP_DEGERI         0\n",
      "SENE_SONU_HESAP_DEGERI         0\n",
      "BASLANGIC_TARIHI_yil           0\n",
      "MAYIS_VADE_TUTARI              0\n",
      "NISAN_VADE_TUTARI              0\n",
      "SIGORTA_TIP                    0\n",
      "MUSTERI_SEGMENTI               0\n",
      "KAPSAM_TIPI                    0\n",
      "KAPSAM_GRUBU                   0\n",
      "DAGITIM_KANALI                 0\n",
      "POLICE_SEHIR                   0\n",
      "DOGUM_TARIHI                   0\n",
      "MESLEK                         0\n",
      "MESLEK_KIRILIM                 0\n",
      "MEDENI_HAL                     0\n",
      "NISAN_ODENEN_TUTAR             0\n",
      "EGITIM_DURUM                   0\n",
      "OCAK_ODENEN_TUTAR              0\n",
      "OCAK_VADE_TUTARI               0\n",
      "SUBAT_ODENEN_TU                0\n",
      "SUBAT_VADE_TUTARI              0\n",
      "MART_ODENEN_TUTAR              0\n",
      "MART_VADE_TUTARI               0\n",
      "BASLANGIC_TARIHI_ay            0\n",
      "dtype: int64 \n",
      "\n"
     ]
    }
   ],
   "source": [
    "print(\"Train Missing values:\\n\", train.isnull().sum().sort_values(ascending=False), \"\\n\")\n",
    "print(\"Test Missing values:\\n\", test.isnull().sum().sort_values(ascending=False), \"\\n\")"
   ]
  },
  {
   "cell_type": "code",
   "execution_count": 53,
   "id": "0f86127d",
   "metadata": {
    "execution": {
     "iopub.execute_input": "2022-05-22T13:01:16.002287Z",
     "iopub.status.busy": "2022-05-22T13:01:16.001365Z",
     "iopub.status.idle": "2022-05-22T13:01:20.767847Z",
     "shell.execute_reply": "2022-05-22T13:01:20.767275Z"
    },
    "papermill": {
     "duration": 4.876984,
     "end_time": "2022-05-22T13:01:20.771348",
     "exception": false,
     "start_time": "2022-05-22T13:01:15.894364",
     "status": "completed"
    },
    "tags": []
   },
   "outputs": [
    {
     "data": {
      "text/plain": [
       "<AxesSubplot:>"
      ]
     },
     "execution_count": 53,
     "metadata": {},
     "output_type": "execute_result"
    },
    {
     "data": {
      "image/png": "[encoded data removed]",
      "text/plain": [
       "<Figure size 1080x648 with 2 Axes>"
      ]
     },
     "metadata": {
      "needs_background": "light"
     },
     "output_type": "display_data"
    }
   ],
   "source": [
    "corrdata = train.corr()\n",
    "ax,fig = plt.subplots(figsize=(15,9))\n",
    "sns.heatmap(corrdata,annot = False)"
   ]
  },
  {
   "cell_type": "code",
   "execution_count": 54,
   "id": "829b0613",
   "metadata": {
    "execution": {
     "iopub.execute_input": "2022-05-22T13:01:20.996004Z",
     "iopub.status.busy": "2022-05-22T13:01:20.995239Z",
     "iopub.status.idle": "2022-05-22T13:01:21.311032Z",
     "shell.execute_reply": "2022-05-22T13:01:21.310519Z"
    },
    "papermill": {
     "duration": 0.43069,
     "end_time": "2022-05-22T13:01:21.312684",
     "exception": false,
     "start_time": "2022-05-22T13:01:20.881994",
     "status": "completed"
    },
    "tags": []
   },
   "outputs": [
    {
     "data": {
      "text/plain": [
       "MUSTERI_SEGMENTI         -0.200382\n",
       "MESLEK                   -0.068649\n",
       "POLICE_SEHIR             -0.045683\n",
       "MEDENI_HAL               -0.027524\n",
       "MESLEK_KIRILIM           -0.020450\n",
       "DOGUM_TARIHI             -0.017826\n",
       "OFFICE_ID                -0.015007\n",
       "DAGITIM_KANALI           -0.012152\n",
       "BASLANGIC_TARIHI_ay      -0.006682\n",
       "COCUK_SAYISI              0.011693\n",
       "BASLANGIC_TARIHI_yil      0.039238\n",
       "GELIR                     0.040580\n",
       "KAPSAM_TIPI               0.053270\n",
       "OCAK_VADE_TUTARI          0.066717\n",
       "KAPSAM_GRUBU              0.067990\n",
       "TEMMUZ_VADE_TUTARI        0.077542\n",
       "AGUSTOS_VADE_TUTARI       0.079430\n",
       "MAYIS_VADE_TUTARI         0.080786\n",
       "EYLUL_VADE_TUTARI         0.080891\n",
       "HAZIRAN_VADE_TUTARI       0.082611\n",
       "SUBAT_VADE_TUTARI         0.099172\n",
       "NISAN_VADE_TUTARI         0.100413\n",
       "MART_VADE_TUTARI          0.100731\n",
       "EKIM_VADE_TUTARI          0.112279\n",
       "ARALIK_VADE_TUTARI        0.114866\n",
       "KASIM_VADE_TUTARI         0.115840\n",
       "SENE_BASI_HESAP_DEGERI    0.132710\n",
       "EGITIM_DURUM              0.133422\n",
       "SENE_SONU_HESAP_DEGERI    0.146853\n",
       "SIGORTA_TIP               0.171465\n",
       "OCAK_ODENEN_TUTAR         0.197846\n",
       "SUBAT_ODENEN_TU           0.200945\n",
       "MART_ODENEN_TUTAR         0.202898\n",
       "NISAN_ODENEN_TUTAR        0.203295\n",
       "MAYIS_ODENEN_TUTAR        0.205269\n",
       "HAZIRAN_ODENEN_TUTAR      0.205633\n",
       "TEMMUZ_ODENEN_TUTAR       0.209047\n",
       "AGUSTOS_ODENEN_TUTAR      0.210880\n",
       "EYLUL_ODENEN_TUTAR        0.212601\n",
       "EKIM_ODENEN_TUTAR         0.214123\n",
       "ARALIK_ODENEN_TUTAR       0.215119\n",
       "KASIM_ODENEN_TUTAR        0.216757\n",
       "ARTIS_DURUMU              1.000000\n",
       "dtype: float64"
      ]
     },
     "execution_count": 54,
     "metadata": {},
     "output_type": "execute_result"
    }
   ],
   "source": [
    "train.corrwith(train[\"ARTIS_DURUMU\"]).sort_values()"
   ]
  },
  {
   "cell_type": "code",
   "execution_count": 55,
   "id": "7824ebed",
   "metadata": {
    "execution": {
     "iopub.execute_input": "2022-05-22T13:01:21.532582Z",
     "iopub.status.busy": "2022-05-22T13:01:21.532080Z",
     "iopub.status.idle": "2022-05-22T13:01:21.571414Z",
     "shell.execute_reply": "2022-05-22T13:01:21.570656Z"
    },
    "papermill": {
     "duration": 0.151304,
     "end_time": "2022-05-22T13:01:21.573560",
     "exception": false,
     "start_time": "2022-05-22T13:01:21.422256",
     "status": "completed"
    },
    "tags": []
   },
   "outputs": [],
   "source": [
    "train['COCUK_SAYISI'] = train['COCUK_SAYISI'].fillna(train['COCUK_SAYISI'].mean())\n",
    "test['COCUK_SAYISI'] = test['COCUK_SAYISI'].fillna(test['COCUK_SAYISI'].mean())\n",
    "\n",
    "train['GELIR'] = train['GELIR'].fillna(train['GELIR'].median())\n",
    "test['GELIR'] = test['GELIR'].fillna(test['GELIR'].median())\n"
   ]
  },
  {
   "cell_type": "code",
   "execution_count": 56,
   "id": "06f58b39",
   "metadata": {
    "execution": {
     "iopub.execute_input": "2022-05-22T13:01:21.821645Z",
     "iopub.status.busy": "2022-05-22T13:01:21.821334Z",
     "iopub.status.idle": "2022-05-22T13:01:22.158759Z",
     "shell.execute_reply": "2022-05-22T13:01:22.157915Z"
    },
    "papermill": {
     "duration": 0.466686,
     "end_time": "2022-05-22T13:01:22.161164",
     "exception": false,
     "start_time": "2022-05-22T13:01:21.694478",
     "status": "completed"
    },
    "tags": []
   },
   "outputs": [],
   "source": [
    "\"\"\"\n",
    "train['OCAK'] = train['OCAK_ODENEN_TUTAR']-train['OCAK_VADE_TUTARI']\n",
    "train['SUBAT'] = train['SUBAT_ODENEN_TU']-train['SUBAT_VADE_TUTARI']\n",
    "train['MART'] = train['MART_ODENEN_TUTAR']-train['MART_VADE_TUTARI']\n",
    "train['NISAN'] = train['NISAN_ODENEN_TUTAR']-train['NISAN_VADE_TUTARI'] \n",
    "train['MAYIS'] = train['MAYIS_ODENEN_TUTAR']-train['MAYIS_VADE_TUTARI'] \n",
    "train['HAZIRAN'] = train['HAZIRAN_ODENEN_TUTAR']-train['HAZIRAN_VADE_TUTARI'] \n",
    "train['TEMMUZ'] = train['TEMMUZ_ODENEN_TUTAR']-train['TEMMUZ_VADE_TUTARI'] \n",
    "train['AGUSTOS'] = train['AGUSTOS_ODENEN_TUTAR']-train['AGUSTOS_VADE_TUTARI']\n",
    "train['EYLUL'] = train['EYLUL_ODENEN_TUTAR']-train['EYLUL_VADE_TUTARI'] \n",
    "train['EKIM'] = train['EKIM_ODENEN_TUTAR']-train['EKIM_VADE_TUTARI']\n",
    "train['KASIM'] = train['KASIM_ODENEN_TUTAR']-train['KASIM_VADE_TUTARI'] \n",
    "train['ARALIK'] = train['ARALIK_ODENEN_TUTAR']-train['ARALIK_VADE_TUTARI'] \n",
    "\n",
    "test['OCAK'] = test['OCAK_ODENEN_TUTAR']-test['OCAK_VADE_TUTARI']\n",
    "test['SUBAT'] = test['SUBAT_ODENEN_TU']-test['SUBAT_VADE_TUTARI']\n",
    "test['MART'] = test['MART_ODENEN_TUTAR']-test['MART_VADE_TUTARI']\n",
    "test['NISAN'] = test['NISAN_ODENEN_TUTAR']-test['NISAN_VADE_TUTARI'] \n",
    "test['MAYIS'] = test['MAYIS_ODENEN_TUTAR']-test['MAYIS_VADE_TUTARI'] \n",
    "test['HAZIRAN'] = test['HAZIRAN_ODENEN_TUTAR']-test['HAZIRAN_VADE_TUTARI'] \n",
    "test['TEMMUZ'] = test['TEMMUZ_ODENEN_TUTAR']-test['TEMMUZ_VADE_TUTARI'] \n",
    "test['AGUSTOS'] = test['AGUSTOS_ODENEN_TUTAR']-test['AGUSTOS_VADE_TUTARI']\n",
    "test['EYLUL'] = test['EYLUL_ODENEN_TUTAR']-test['EYLUL_VADE_TUTARI'] \n",
    "test['EKIM'] = test['EKIM_ODENEN_TUTAR']-test['EKIM_VADE_TUTARI']\n",
    "test['KASIM'] = test['KASIM_ODENEN_TUTAR']-test['KASIM_VADE_TUTARI'] \n",
    "test['ARALIK'] = test['ARALIK_ODENEN_TUTAR']-test['ARALIK_VADE_TUTARI'] \n",
    "\"\"\"\n",
    "\n",
    "test['ODENEN'] = test['OCAK_ODENEN_TUTAR']+test['SUBAT_ODENEN_TU']+test['MART_ODENEN_TUTAR']\n",
    "+test['NISAN_ODENEN_TUTAR']+test['MAYIS_ODENEN_TUTAR']+test['HAZIRAN_ODENEN_TUTAR']+test['TEMMUZ_ODENEN_TUTAR']\n",
    "+test['AGUSTOS_ODENEN_TUTAR']+test['EYLUL_ODENEN_TUTAR']+test['EKIM_ODENEN_TUTAR']+test['KASIM_ODENEN_TUTAR']\n",
    "+test['ARALIK_ODENEN_TUTAR']\n",
    "\n",
    "train['ODENEN'] = train['OCAK_ODENEN_TUTAR']+train['SUBAT_ODENEN_TU']+train['MART_ODENEN_TUTAR']\n",
    "+train['NISAN_ODENEN_TUTAR']+train['MAYIS_ODENEN_TUTAR']+train['HAZIRAN_ODENEN_TUTAR']+train['TEMMUZ_ODENEN_TUTAR']\n",
    "+train['AGUSTOS_ODENEN_TUTAR']+train['EYLUL_ODENEN_TUTAR']+train['EKIM_ODENEN_TUTAR']+train['KASIM_ODENEN_TUTAR']\n",
    "+train['ARALIK_ODENEN_TUTAR']\n",
    "\n",
    "test['VADE'] = test['OCAK_VADE_TUTARI']+test['SUBAT_VADE_TUTARI']+test['MART_VADE_TUTARI']\n",
    "+test['NISAN_VADE_TUTARI']+test['MAYIS_VADE_TUTARI']+test['HAZIRAN_VADE_TUTARI']+test['TEMMUZ_VADE_TUTARI']\n",
    "+test['AGUSTOS_VADE_TUTARI']+test['EYLUL_VADE_TUTARI']+test['EKIM_VADE_TUTARI']+test['KASIM_VADE_TUTARI']\n",
    "+test['ARALIK_VADE_TUTARI']\n",
    "\n",
    "train['VADE'] = train['OCAK_VADE_TUTARI']+train['SUBAT_VADE_TUTARI']+train['MART_VADE_TUTARI']\n",
    "+train['NISAN_VADE_TUTARI']+train['MAYIS_VADE_TUTARI']+train['HAZIRAN_VADE_TUTARI']+train['TEMMUZ_VADE_TUTARI']\n",
    "+train['AGUSTOS_VADE_TUTARI']+train['EYLUL_VADE_TUTARI']+train['EKIM_VADE_TUTARI']+train['KASIM_VADE_TUTARI']\n",
    "+train['ARALIK_VADE_TUTARI']\n",
    "\n",
    "train['ODENENVADEFARK'] = train['ODENEN']-train['VADE']\n",
    "test['ODENENVADEFARK'] = test['ODENEN']-test['VADE']\n",
    "\n",
    "\n",
    "train['OCAKARALIK_VADEFARK'] = train['OCAK_VADE_TUTARI']-train['ARALIK_VADE_TUTARI']\n",
    "test['OCAKARALIK_VADEFARK'] = test['OCAK_VADE_TUTARI']-test['ARALIK_VADE_TUTARI']\n",
    "\n",
    "train.drop(['OCAK_VADE_TUTARI','OCAK_ODENEN_TUTAR','SUBAT_VADE_TUTARI','SUBAT_ODENEN_TU','MART_VADE_TUTARI'\n",
    "            ,'MART_ODENEN_TUTAR','NISAN_VADE_TUTARI','NISAN_ODENEN_TUTAR','MAYIS_VADE_TUTARI','MAYIS_ODENEN_TUTAR'\n",
    "            ,'HAZIRAN_VADE_TUTARI','HAZIRAN_ODENEN_TUTAR','TEMMUZ_VADE_TUTARI','TEMMUZ_ODENEN_TUTAR','AGUSTOS_VADE_TUTARI'\n",
    "            ,'AGUSTOS_ODENEN_TUTAR','EYLUL_VADE_TUTARI','EYLUL_ODENEN_TUTAR','EKIM_VADE_TUTARI','EKIM_ODENEN_TUTAR'\n",
    "            ,'KASIM_VADE_TUTARI','KASIM_ODENEN_TUTAR','ARALIK_VADE_TUTARI','ARALIK_ODENEN_TUTAR'],axis=1,inplace=True)\n",
    "test.drop(['OCAK_VADE_TUTARI','OCAK_ODENEN_TUTAR','SUBAT_VADE_TUTARI','SUBAT_ODENEN_TU','MART_VADE_TUTARI'\n",
    "            ,'MART_ODENEN_TUTAR','NISAN_VADE_TUTARI','NISAN_ODENEN_TUTAR','MAYIS_VADE_TUTARI','MAYIS_ODENEN_TUTAR'\n",
    "            ,'HAZIRAN_VADE_TUTARI','HAZIRAN_ODENEN_TUTAR','TEMMUZ_VADE_TUTARI','TEMMUZ_ODENEN_TUTAR','AGUSTOS_VADE_TUTARI'\n",
    "            ,'AGUSTOS_ODENEN_TUTAR','EYLUL_VADE_TUTARI','EYLUL_ODENEN_TUTAR','EKIM_VADE_TUTARI','EKIM_ODENEN_TUTAR'\n",
    "            ,'KASIM_VADE_TUTARI','KASIM_ODENEN_TUTAR','ARALIK_VADE_TUTARI','ARALIK_ODENEN_TUTAR'],axis=1,inplace=True)\n"
   ]
  },
  {
   "cell_type": "code",
   "execution_count": 57,
   "id": "f9af2549",
   "metadata": {
    "execution": {
     "iopub.execute_input": "2022-05-22T13:01:22.381409Z",
     "iopub.status.busy": "2022-05-22T13:01:22.380913Z",
     "iopub.status.idle": "2022-05-22T13:01:22.383900Z",
     "shell.execute_reply": "2022-05-22T13:01:22.383411Z"
    },
    "papermill": {
     "duration": 0.115549,
     "end_time": "2022-05-22T13:01:22.385710",
     "exception": false,
     "start_time": "2022-05-22T13:01:22.270161",
     "status": "completed"
    },
    "tags": []
   },
   "outputs": [],
   "source": [
    "#Doğum tarihini sil yaşı ekle\n",
    "#train['YAS'] = 2020-train['DOGUM_TARIHI']\n",
    "#test['YAS'] = 2020-test['DOGUM_TARIHI']\n",
    "\n",
    "#train.drop(['DOGUM_TARIHI'],axis=1,inplace=True)\n",
    "#test.drop(['DOGUM_TARIHI'],axis=1,inplace=True)\n",
    "\n"
   ]
  },
  {
   "cell_type": "code",
   "execution_count": 58,
   "id": "a3fe764c",
   "metadata": {
    "execution": {
     "iopub.execute_input": "2022-05-22T13:01:22.607607Z",
     "iopub.status.busy": "2022-05-22T13:01:22.607159Z",
     "iopub.status.idle": "2022-05-22T13:01:22.609970Z",
     "shell.execute_reply": "2022-05-22T13:01:22.609469Z"
    },
    "papermill": {
     "duration": 0.115632,
     "end_time": "2022-05-22T13:01:22.611609",
     "exception": false,
     "start_time": "2022-05-22T13:01:22.495977",
     "status": "completed"
    },
    "tags": []
   },
   "outputs": [],
   "source": [
    "#from sklearn.preprocessing import MinMaxScaler\n",
    "#scaler = MinMaxScaler()\n",
    "#train['BASLANGIC_TARIHI_yil']=scaler.fit_transform(train[['BASLANGIC_TARIHI_yil']])"
   ]
  },
  {
   "cell_type": "code",
   "execution_count": 59,
   "id": "e8609e1c",
   "metadata": {
    "execution": {
     "iopub.execute_input": "2022-05-22T13:01:22.835768Z",
     "iopub.status.busy": "2022-05-22T13:01:22.835510Z",
     "iopub.status.idle": "2022-05-22T13:01:26.653310Z",
     "shell.execute_reply": "2022-05-22T13:01:26.651737Z"
    },
    "papermill": {
     "duration": 3.936554,
     "end_time": "2022-05-22T13:01:26.658501",
     "exception": false,
     "start_time": "2022-05-22T13:01:22.721947",
     "status": "completed"
    },
    "tags": []
   },
   "outputs": [
    {
     "data": {
      "text/plain": [
       "<AxesSubplot:>"
      ]
     },
     "execution_count": 59,
     "metadata": {},
     "output_type": "execute_result"
    },
    {
     "data": {
      "image/png": "[encoded data removed]",
      "text/plain": [
       "<Figure size 1080x648 with 2 Axes>"
      ]
     },
     "metadata": {
      "needs_background": "light"
     },
     "output_type": "display_data"
    }
   ],
   "source": [
    "corrdata = train.corr()\n",
    "ax,fig = plt.subplots(figsize=(15,9))\n",
    "sns.heatmap(corrdata,annot = True)"
   ]
  },
  {
   "cell_type": "code",
   "execution_count": 60,
   "id": "ec9da163",
   "metadata": {
    "execution": {
     "iopub.execute_input": "2022-05-22T13:01:26.899789Z",
     "iopub.status.busy": "2022-05-22T13:01:26.899013Z",
     "iopub.status.idle": "2022-05-22T13:01:26.953430Z",
     "shell.execute_reply": "2022-05-22T13:01:26.952581Z"
    },
    "papermill": {
     "duration": 0.177455,
     "end_time": "2022-05-22T13:01:26.955715",
     "exception": false,
     "start_time": "2022-05-22T13:01:26.778260",
     "status": "completed"
    },
    "tags": []
   },
   "outputs": [],
   "source": [
    "#KAPSAM_GRUBU has 0.73 corr with SIGORTA_TIP\n",
    "train.drop(['KAPSAM_GRUBU'],axis=1,inplace=True)\n",
    "test.drop(['KAPSAM_GRUBU'],axis=1,inplace=True)"
   ]
  },
  {
   "cell_type": "code",
   "execution_count": 61,
   "id": "4346f007",
   "metadata": {
    "execution": {
     "iopub.execute_input": "2022-05-22T13:01:27.195803Z",
     "iopub.status.busy": "2022-05-22T13:01:27.195031Z",
     "iopub.status.idle": "2022-05-22T13:01:27.202705Z",
     "shell.execute_reply": "2022-05-22T13:01:27.201958Z"
    },
    "papermill": {
     "duration": 0.129186,
     "end_time": "2022-05-22T13:01:27.204421",
     "exception": false,
     "start_time": "2022-05-22T13:01:27.075235",
     "status": "completed"
    },
    "tags": []
   },
   "outputs": [
    {
     "data": {
      "text/plain": [
       "\"\\ntrain['ILKVADE'] = train['OCAK']+train['SUBAT']+train['MART']+train['NISAN']\\ntest['ILKVADE'] = test['OCAK']+test['SUBAT']+test['MART']+test['NISAN']\\n\\ntrain['SONUCVADE'] = train['NISAN']+train['MAYIS']+train['HAZIRAN']+train['TEMMUZ']+train['AGUSTOS']+train['EYLUL']+train['EKIM']+train['KASIM']+train['ARALIK']\\ntest['SONUCVADE'] = test['NISAN']+test['MAYIS']+test['HAZIRAN']+test['TEMMUZ']+test['AGUSTOS']+test['EYLUL']+test['EKIM']+test['KASIM']+test['ARALIK']\\n\\ntrain.drop(['OCAK','SUBAT','MART','NISAN','MAYIS','HAZIRAN'\\n            ,'TEMMUZ','AGUSTOS','EYLUL','EKIM','KASIM'\\n            ,'ARALIK'],axis=1,inplace=True)\\ntest.drop(['OCAK','SUBAT','MART','NISAN','MAYIS','HAZIRAN'\\n            ,'TEMMUZ','AGUSTOS','EYLUL','EKIM','KASIM'\\n            ,'ARALIK'],axis=1,inplace=True)\\n\""
      ]
     },
     "execution_count": 61,
     "metadata": {},
     "output_type": "execute_result"
    }
   ],
   "source": [
    "\n",
    "\n",
    "\"\"\"\n",
    "train['SUBATMARTNISAN'] = train['SUBAT']+train['MART']+train['NISAN']\n",
    "test['SUBATMARTNISAN'] = test['SUBAT']+test['MART']+test['NISAN']\n",
    "\n",
    "train['YAZ'] = train['MAYIS']+train['HAZIRAN']+train['TEMMUZ']+train['AGUSTOS']+train['EYLUL']\n",
    "test['YAZ'] = test['MAYIS']+test['HAZIRAN']+test['TEMMUZ']+test['AGUSTOS']+test['EYLUL']\n",
    "\n",
    "train['EKIMKASIMARALIK'] = train['EKIM']+train['KASIM']+train['ARALIK']\n",
    "test['EKIMKASIMARALIK'] = test['EKIM']+test['KASIM']+test['ARALIK']\n",
    "\n",
    "train['BAHAR'] = train['SUBATMARTNISAN']+train['EKIMKASIMARALIK']\n",
    "test['BAHAR'] = test['EKIMKASIMARALIK']+test['SUBATMARTNISAN']\n",
    "\"\"\"\n",
    "\"\"\"\n",
    "train['ILKVADE'] = train['OCAK']+train['SUBAT']+train['MART']+train['NISAN']\n",
    "test['ILKVADE'] = test['OCAK']+test['SUBAT']+test['MART']+test['NISAN']\n",
    "\n",
    "train['SONUCVADE'] = train['NISAN']+train['MAYIS']+train['HAZIRAN']+train['TEMMUZ']+train['AGUSTOS']+train['EYLUL']+train['EKIM']+train['KASIM']+train['ARALIK']\n",
    "test['SONUCVADE'] = test['NISAN']+test['MAYIS']+test['HAZIRAN']+test['TEMMUZ']+test['AGUSTOS']+test['EYLUL']+test['EKIM']+test['KASIM']+test['ARALIK']\n",
    "\n",
    "train.drop(['OCAK','SUBAT','MART','NISAN','MAYIS','HAZIRAN'\n",
    "            ,'TEMMUZ','AGUSTOS','EYLUL','EKIM','KASIM'\n",
    "            ,'ARALIK'],axis=1,inplace=True)\n",
    "test.drop(['OCAK','SUBAT','MART','NISAN','MAYIS','HAZIRAN'\n",
    "            ,'TEMMUZ','AGUSTOS','EYLUL','EKIM','KASIM'\n",
    "            ,'ARALIK'],axis=1,inplace=True)\n",
    "\"\"\"\n",
    "\n",
    "\n",
    "\n",
    "\n",
    "\n",
    "\n"
   ]
  },
  {
   "cell_type": "code",
   "execution_count": 62,
   "id": "3a89574c",
   "metadata": {
    "execution": {
     "iopub.execute_input": "2022-05-22T13:01:27.444944Z",
     "iopub.status.busy": "2022-05-22T13:01:27.444697Z",
     "iopub.status.idle": "2022-05-22T13:01:27.524907Z",
     "shell.execute_reply": "2022-05-22T13:01:27.524166Z"
    },
    "papermill": {
     "duration": 0.203619,
     "end_time": "2022-05-22T13:01:27.527025",
     "exception": false,
     "start_time": "2022-05-22T13:01:27.323406",
     "status": "completed"
    },
    "tags": []
   },
   "outputs": [],
   "source": [
    "train['HESAPFARK'] = train['SENE_SONU_HESAP_DEGERI']-train['SENE_BASI_HESAP_DEGERI']\n",
    "test['HESAPFARK'] = test['SENE_SONU_HESAP_DEGERI']-test['SENE_BASI_HESAP_DEGERI']\n",
    "\n",
    "\n",
    "train.drop(['SENE_SONU_HESAP_DEGERI','SENE_BASI_HESAP_DEGERI'],axis=1,inplace=True)\n",
    "test.drop(['SENE_SONU_HESAP_DEGERI','SENE_BASI_HESAP_DEGERI'],axis=1,inplace=True)\n"
   ]
  },
  {
   "cell_type": "code",
   "execution_count": 63,
   "id": "ca938fec",
   "metadata": {
    "execution": {
     "iopub.execute_input": "2022-05-22T13:01:27.764854Z",
     "iopub.status.busy": "2022-05-22T13:01:27.764578Z",
     "iopub.status.idle": "2022-05-22T13:01:27.926266Z",
     "shell.execute_reply": "2022-05-22T13:01:27.925446Z"
    },
    "papermill": {
     "duration": 0.283049,
     "end_time": "2022-05-22T13:01:27.928193",
     "exception": false,
     "start_time": "2022-05-22T13:01:27.645144",
     "status": "completed"
    },
    "tags": []
   },
   "outputs": [
    {
     "data": {
      "text/plain": [
       "MUSTERI_SEGMENTI       -0.200382\n",
       "MESLEK                 -0.068649\n",
       "POLICE_SEHIR           -0.045683\n",
       "MEDENI_HAL             -0.027524\n",
       "OCAKARALIK_VADEFARK    -0.023389\n",
       "MESLEK_KIRILIM         -0.020450\n",
       "DOGUM_TARIHI           -0.017826\n",
       "OFFICE_ID              -0.015007\n",
       "DAGITIM_KANALI         -0.012152\n",
       "BASLANGIC_TARIHI_ay    -0.006682\n",
       "COCUK_SAYISI            0.010544\n",
       "GELIR                   0.037384\n",
       "BASLANGIC_TARIHI_yil    0.039238\n",
       "KAPSAM_TIPI             0.053270\n",
       "VADE                    0.093464\n",
       "ODENENVADEFARK          0.117383\n",
       "EGITIM_DURUM            0.133422\n",
       "HESAPFARK               0.165651\n",
       "SIGORTA_TIP             0.171465\n",
       "ODENEN                  0.201477\n",
       "ARTIS_DURUMU            1.000000\n",
       "dtype: float64"
      ]
     },
     "execution_count": 63,
     "metadata": {},
     "output_type": "execute_result"
    }
   ],
   "source": [
    "train.corrwith(train[\"ARTIS_DURUMU\"]).sort_values()"
   ]
  },
  {
   "cell_type": "code",
   "execution_count": 64,
   "id": "14af9087",
   "metadata": {
    "execution": {
     "iopub.execute_input": "2022-05-22T13:01:28.168378Z",
     "iopub.status.busy": "2022-05-22T13:01:28.168115Z",
     "iopub.status.idle": "2022-05-22T13:01:28.198408Z",
     "shell.execute_reply": "2022-05-22T13:01:28.197368Z"
    },
    "papermill": {
     "duration": 0.152378,
     "end_time": "2022-05-22T13:01:28.200184",
     "exception": false,
     "start_time": "2022-05-22T13:01:28.047806",
     "status": "completed"
    },
    "tags": []
   },
   "outputs": [],
   "source": [
    "train.drop(['DOGUM_TARIHI','COCUK_SAYISI','BASLANGIC_TARIHI_ay'\n",
    "            ,'DAGITIM_KANALI','GELIR','BASLANGIC_TARIHI_yil','MEDENI_HAL','VADE',\"MESLEK_KIRILIM\"],axis=1,inplace=True)\n",
    "test.drop(['DOGUM_TARIHI','COCUK_SAYISI','BASLANGIC_TARIHI_ay'\n",
    "            ,'DAGITIM_KANALI','GELIR','BASLANGIC_TARIHI_yil','MEDENI_HAL','VADE',\"MESLEK_KIRILIM\"],axis=1,inplace=True)"
   ]
  },
  {
   "cell_type": "code",
   "execution_count": 65,
   "id": "3f361aa6",
   "metadata": {
    "execution": {
     "iopub.execute_input": "2022-05-22T13:01:28.438077Z",
     "iopub.status.busy": "2022-05-22T13:01:28.437639Z",
     "iopub.status.idle": "2022-05-22T13:01:28.443929Z",
     "shell.execute_reply": "2022-05-22T13:01:28.443121Z"
    },
    "papermill": {
     "duration": 0.127787,
     "end_time": "2022-05-22T13:01:28.445793",
     "exception": false,
     "start_time": "2022-05-22T13:01:28.318006",
     "status": "completed"
    },
    "tags": []
   },
   "outputs": [
    {
     "data": {
      "text/plain": [
       "\"\\nimputeegitimtrain = train.drop(['MESLEK_KIRILIM','SOZLESME_KOKENI_NEW','POLICE_SEHIR','KAPSAM_TIPI','CEYREKMEANVADEFARK'\\n            ,'SOZLESME_KOKENI_TRANS_L','SOZLESME_KOKENI_TRANS_TF','SOZLESME_KOKENI_TRANS_C','ODENENVADEFARK'],axis=1)\\nimputeegitimtest = test.drop(['MESLEK_KIRILIM','SOZLESME_KOKENI_NEW','POLICE_SEHIR','KAPSAM_TIPI','CEYREKMEANVADEFARK'\\n            ,'SOZLESME_KOKENI_TRANS_L','SOZLESME_KOKENI_TRANS_TF','ODENENVADEFARK'],axis=1)\\n\\n\""
      ]
     },
     "execution_count": 65,
     "metadata": {},
     "output_type": "execute_result"
    }
   ],
   "source": [
    "\"\"\"\n",
    "imputeegitimtrain = train.drop(['MESLEK_KIRILIM','SOZLESME_KOKENI_NEW','POLICE_SEHIR','KAPSAM_TIPI','CEYREKMEANVADEFARK'\n",
    "            ,'SOZLESME_KOKENI_TRANS_L','SOZLESME_KOKENI_TRANS_TF','SOZLESME_KOKENI_TRANS_C','ODENENVADEFARK'],axis=1)\n",
    "imputeegitimtest = test.drop(['MESLEK_KIRILIM','SOZLESME_KOKENI_NEW','POLICE_SEHIR','KAPSAM_TIPI','CEYREKMEANVADEFARK'\n",
    "            ,'SOZLESME_KOKENI_TRANS_L','SOZLESME_KOKENI_TRANS_TF','ODENENVADEFARK'],axis=1)\n",
    "\n",
    "\"\"\""
   ]
  },
  {
   "cell_type": "code",
   "execution_count": 66,
   "id": "2f276cca",
   "metadata": {
    "execution": {
     "iopub.execute_input": "2022-05-22T13:01:28.685924Z",
     "iopub.status.busy": "2022-05-22T13:01:28.685668Z",
     "iopub.status.idle": "2022-05-22T13:01:28.690968Z",
     "shell.execute_reply": "2022-05-22T13:01:28.690225Z"
    },
    "papermill": {
     "duration": 0.128326,
     "end_time": "2022-05-22T13:01:28.692888",
     "exception": false,
     "start_time": "2022-05-22T13:01:28.564562",
     "status": "completed"
    },
    "tags": []
   },
   "outputs": [
    {
     "data": {
      "text/plain": [
       "'\\nfrom sklearn.impute import KNNImputer\\nimputer = KNNImputer(n_neighbors=3)\\nimputedegitimtrain = imputer.fit_transform(imputeegitimtrain)\\nimputedegitimtest= imputer.fit_transform(imputeegitimtest)\\n'"
      ]
     },
     "execution_count": 66,
     "metadata": {},
     "output_type": "execute_result"
    }
   ],
   "source": [
    "\"\"\"\n",
    "from sklearn.impute import KNNImputer\n",
    "imputer = KNNImputer(n_neighbors=3)\n",
    "imputedegitimtrain = imputer.fit_transform(imputeegitimtrain)\n",
    "imputedegitimtest= imputer.fit_transform(imputeegitimtest)\n",
    "\"\"\""
   ]
  },
  {
   "cell_type": "code",
   "execution_count": 67,
   "id": "12f29bcd",
   "metadata": {
    "execution": {
     "iopub.execute_input": "2022-05-22T13:01:28.934621Z",
     "iopub.status.busy": "2022-05-22T13:01:28.933982Z",
     "iopub.status.idle": "2022-05-22T13:01:28.940324Z",
     "shell.execute_reply": "2022-05-22T13:01:28.939531Z"
    },
    "papermill": {
     "duration": 0.129918,
     "end_time": "2022-05-22T13:01:28.942157",
     "exception": false,
     "start_time": "2022-05-22T13:01:28.812239",
     "status": "completed"
    },
    "tags": []
   },
   "outputs": [
    {
     "data": {
      "text/plain": [
       "\"\\ntrain.drop(['EGITIM_DURUM'],axis=1,inplace=True)\\ntest.drop(['EGITIM_DURUM'],axis=1,inplace=True)\\ntrainegitim = pd.DataFrame([imputedegitimtrain['EGITIM_DURUM']])\\ntestegitim = pd.DataFrame(imputedegitimtest['EGITIM_DURUM'])\\ntrain = pd.concat(trainegitim,axis=1)\\ntest = pd.concat(testegitim,axis=1)\\n\""
      ]
     },
     "execution_count": 67,
     "metadata": {},
     "output_type": "execute_result"
    }
   ],
   "source": [
    "\"\"\"\n",
    "train.drop(['EGITIM_DURUM'],axis=1,inplace=True)\n",
    "test.drop(['EGITIM_DURUM'],axis=1,inplace=True)\n",
    "trainegitim = pd.DataFrame([imputedegitimtrain['EGITIM_DURUM']])\n",
    "testegitim = pd.DataFrame(imputedegitimtest['EGITIM_DURUM'])\n",
    "train = pd.concat(trainegitim,axis=1)\n",
    "test = pd.concat(testegitim,axis=1)\n",
    "\"\"\""
   ]
  },
  {
   "cell_type": "code",
   "execution_count": 68,
   "id": "63015ca7",
   "metadata": {
    "execution": {
     "iopub.execute_input": "2022-05-22T13:01:29.184720Z",
     "iopub.status.busy": "2022-05-22T13:01:29.183981Z",
     "iopub.status.idle": "2022-05-22T13:01:29.188797Z",
     "shell.execute_reply": "2022-05-22T13:01:29.187938Z"
    },
    "papermill": {
     "duration": 0.128272,
     "end_time": "2022-05-22T13:01:29.190551",
     "exception": false,
     "start_time": "2022-05-22T13:01:29.062279",
     "status": "completed"
    },
    "tags": []
   },
   "outputs": [
    {
     "data": {
      "text/plain": [
       "\"\\ntrain.to_csv(imputedegitimtrain, encoding='utf-8', index=False)\\ntest.to_csv(imputedegitimtest, encoding='utf-8', index=False)\\n\""
      ]
     },
     "execution_count": 68,
     "metadata": {},
     "output_type": "execute_result"
    }
   ],
   "source": [
    "\"\"\"\n",
    "train.to_csv(imputedegitimtrain, encoding='utf-8', index=False)\n",
    "test.to_csv(imputedegitimtest, encoding='utf-8', index=False)\n",
    "\"\"\""
   ]
  },
  {
   "cell_type": "code",
   "execution_count": 69,
   "id": "add5d93a",
   "metadata": {
    "execution": {
     "iopub.execute_input": "2022-05-22T13:01:29.433391Z",
     "iopub.status.busy": "2022-05-22T13:01:29.432950Z",
     "iopub.status.idle": "2022-05-22T13:01:30.748103Z",
     "shell.execute_reply": "2022-05-22T13:01:30.747532Z"
    },
    "papermill": {
     "duration": 1.43944,
     "end_time": "2022-05-22T13:01:30.750944",
     "exception": false,
     "start_time": "2022-05-22T13:01:29.311504",
     "status": "completed"
    },
    "tags": []
   },
   "outputs": [
    {
     "data": {
      "text/plain": [
       "<AxesSubplot:>"
      ]
     },
     "execution_count": 69,
     "metadata": {},
     "output_type": "execute_result"
    },
    {
     "data": {
      "image/png": "[encoded data removed]",
      "text/plain": [
       "<Figure size 1080x648 with 2 Axes>"
      ]
     },
     "metadata": {
      "needs_background": "light"
     },
     "output_type": "display_data"
    }
   ],
   "source": [
    "corrdata = train.corr()\n",
    "ax,fig = plt.subplots(figsize=(15,9))\n",
    "sns.heatmap(corrdata,annot = True)"
   ]
  },
  {
   "cell_type": "code",
   "execution_count": 70,
   "id": "0286b26b",
   "metadata": {
    "execution": {
     "iopub.execute_input": "2022-05-22T13:01:31.005487Z",
     "iopub.status.busy": "2022-05-22T13:01:31.004961Z",
     "iopub.status.idle": "2022-05-22T13:01:31.097687Z",
     "shell.execute_reply": "2022-05-22T13:01:31.097113Z"
    },
    "papermill": {
     "duration": 0.221966,
     "end_time": "2022-05-22T13:01:31.099441",
     "exception": false,
     "start_time": "2022-05-22T13:01:30.877475",
     "status": "completed"
    },
    "tags": []
   },
   "outputs": [
    {
     "data": {
      "text/plain": [
       "MUSTERI_SEGMENTI      -0.200382\n",
       "MESLEK                -0.068649\n",
       "POLICE_SEHIR          -0.045683\n",
       "OCAKARALIK_VADEFARK   -0.023389\n",
       "OFFICE_ID             -0.015007\n",
       "KAPSAM_TIPI            0.053270\n",
       "ODENENVADEFARK         0.117383\n",
       "EGITIM_DURUM           0.133422\n",
       "HESAPFARK              0.165651\n",
       "SIGORTA_TIP            0.171465\n",
       "ODENEN                 0.201477\n",
       "ARTIS_DURUMU           1.000000\n",
       "dtype: float64"
      ]
     },
     "execution_count": 70,
     "metadata": {},
     "output_type": "execute_result"
    }
   ],
   "source": [
    "train.corrwith(train[\"ARTIS_DURUMU\"]).sort_values()"
   ]
  },
  {
   "cell_type": "code",
   "execution_count": 71,
   "id": "14a7cf2c",
   "metadata": {
    "execution": {
     "iopub.execute_input": "2022-05-22T13:01:31.351733Z",
     "iopub.status.busy": "2022-05-22T13:01:31.351235Z",
     "iopub.status.idle": "2022-05-22T13:01:31.373974Z",
     "shell.execute_reply": "2022-05-22T13:01:31.373466Z"
    },
    "papermill": {
     "duration": 0.151445,
     "end_time": "2022-05-22T13:01:31.377135",
     "exception": false,
     "start_time": "2022-05-22T13:01:31.225690",
     "status": "completed"
    },
    "tags": []
   },
   "outputs": [
    {
     "name": "stdout",
     "output_type": "stream",
     "text": [
      "<class 'pandas.core.frame.DataFrame'>\n",
      "Int64Index: 634032 entries, 0 to 634111\n",
      "Data columns (total 12 columns):\n",
      " #   Column               Non-Null Count   Dtype  \n",
      "---  ------               --------------   -----  \n",
      " 0   OFFICE_ID            634032 non-null  int64  \n",
      " 1   SIGORTA_TIP          634032 non-null  int64  \n",
      " 2   KAPSAM_TIPI          634032 non-null  int64  \n",
      " 3   POLICE_SEHIR         634032 non-null  int64  \n",
      " 4   MESLEK               634032 non-null  int64  \n",
      " 5   MUSTERI_SEGMENTI     634032 non-null  int64  \n",
      " 6   EGITIM_DURUM         634032 non-null  int64  \n",
      " 7   ARTIS_DURUMU         634032 non-null  int64  \n",
      " 8   ODENEN               634032 non-null  int64  \n",
      " 9   ODENENVADEFARK       634032 non-null  float64\n",
      " 10  OCAKARALIK_VADEFARK  634032 non-null  float64\n",
      " 11  HESAPFARK            634032 non-null  float64\n",
      "dtypes: float64(3), int64(9)\n",
      "memory usage: 79.0 MB\n"
     ]
    }
   ],
   "source": [
    "train.info()"
   ]
  },
  {
   "cell_type": "code",
   "execution_count": 72,
   "id": "f8063c75",
   "metadata": {
    "execution": {
     "iopub.execute_input": "2022-05-22T13:01:31.630540Z",
     "iopub.status.busy": "2022-05-22T13:01:31.630027Z",
     "iopub.status.idle": "2022-05-22T13:01:31.643710Z",
     "shell.execute_reply": "2022-05-22T13:01:31.642992Z"
    },
    "papermill": {
     "duration": 0.143356,
     "end_time": "2022-05-22T13:01:31.645399",
     "exception": false,
     "start_time": "2022-05-22T13:01:31.502043",
     "status": "completed"
    },
    "tags": []
   },
   "outputs": [
    {
     "data": {
      "text/html": [
       "<div>\n",
       "<style scoped>\n",
       "    .dataframe tbody tr th:only-of-type {\n",
       "        vertical-align: middle;\n",
       "    }\n",
       "\n",
       "    .dataframe tbody tr th {\n",
       "        vertical-align: top;\n",
       "    }\n",
       "\n",
       "    .dataframe thead th {\n",
       "        text-align: right;\n",
       "    }\n",
       "</style>\n",
       "<table border=\"1\" class=\"dataframe\">\n",
       "  <thead>\n",
       "    <tr style=\"text-align: right;\">\n",
       "      <th></th>\n",
       "      <th>OFFICE_ID</th>\n",
       "      <th>SIGORTA_TIP</th>\n",
       "      <th>KAPSAM_TIPI</th>\n",
       "      <th>POLICE_SEHIR</th>\n",
       "      <th>MESLEK</th>\n",
       "      <th>MUSTERI_SEGMENTI</th>\n",
       "      <th>EGITIM_DURUM</th>\n",
       "      <th>ARTIS_DURUMU</th>\n",
       "      <th>ODENEN</th>\n",
       "      <th>ODENENVADEFARK</th>\n",
       "      <th>OCAKARALIK_VADEFARK</th>\n",
       "      <th>HESAPFARK</th>\n",
       "    </tr>\n",
       "  </thead>\n",
       "  <tbody>\n",
       "    <tr>\n",
       "      <th>0</th>\n",
       "      <td>10099</td>\n",
       "      <td>3</td>\n",
       "      <td>176</td>\n",
       "      <td>29</td>\n",
       "      <td>31</td>\n",
       "      <td>2</td>\n",
       "      <td>4</td>\n",
       "      <td>0</td>\n",
       "      <td>660</td>\n",
       "      <td>0.0</td>\n",
       "      <td>0.0</td>\n",
       "      <td>10435.50</td>\n",
       "    </tr>\n",
       "    <tr>\n",
       "      <th>1</th>\n",
       "      <td>10100</td>\n",
       "      <td>3</td>\n",
       "      <td>229</td>\n",
       "      <td>16</td>\n",
       "      <td>32</td>\n",
       "      <td>3</td>\n",
       "      <td>2</td>\n",
       "      <td>0</td>\n",
       "      <td>480</td>\n",
       "      <td>0.0</td>\n",
       "      <td>0.0</td>\n",
       "      <td>4261.85</td>\n",
       "    </tr>\n",
       "    <tr>\n",
       "      <th>2</th>\n",
       "      <td>10042</td>\n",
       "      <td>1</td>\n",
       "      <td>127</td>\n",
       "      <td>16</td>\n",
       "      <td>32</td>\n",
       "      <td>6</td>\n",
       "      <td>2</td>\n",
       "      <td>0</td>\n",
       "      <td>792</td>\n",
       "      <td>0.0</td>\n",
       "      <td>24.0</td>\n",
       "      <td>3278.08</td>\n",
       "    </tr>\n",
       "    <tr>\n",
       "      <th>3</th>\n",
       "      <td>10056</td>\n",
       "      <td>3</td>\n",
       "      <td>238</td>\n",
       "      <td>62</td>\n",
       "      <td>31</td>\n",
       "      <td>2</td>\n",
       "      <td>4</td>\n",
       "      <td>0</td>\n",
       "      <td>430</td>\n",
       "      <td>0.0</td>\n",
       "      <td>-20.0</td>\n",
       "      <td>5790.22</td>\n",
       "    </tr>\n",
       "    <tr>\n",
       "      <th>4</th>\n",
       "      <td>10068</td>\n",
       "      <td>3</td>\n",
       "      <td>50</td>\n",
       "      <td>1</td>\n",
       "      <td>9</td>\n",
       "      <td>2</td>\n",
       "      <td>4</td>\n",
       "      <td>0</td>\n",
       "      <td>300</td>\n",
       "      <td>0.0</td>\n",
       "      <td>0.0</td>\n",
       "      <td>3775.32</td>\n",
       "    </tr>\n",
       "  </tbody>\n",
       "</table>\n",
       "</div>"
      ],
      "text/plain": [
       "   OFFICE_ID  SIGORTA_TIP  KAPSAM_TIPI  POLICE_SEHIR  MESLEK  \\\n",
       "0      10099            3          176            29      31   \n",
       "1      10100            3          229            16      32   \n",
       "2      10042            1          127            16      32   \n",
       "3      10056            3          238            62      31   \n",
       "4      10068            3           50             1       9   \n",
       "\n",
       "   MUSTERI_SEGMENTI  EGITIM_DURUM  ARTIS_DURUMU  ODENEN  ODENENVADEFARK  \\\n",
       "0                 2             4             0     660             0.0   \n",
       "1                 3             2             0     480             0.0   \n",
       "2                 6             2             0     792             0.0   \n",
       "3                 2             4             0     430             0.0   \n",
       "4                 2             4             0     300             0.0   \n",
       "\n",
       "   OCAKARALIK_VADEFARK  HESAPFARK  \n",
       "0                  0.0   10435.50  \n",
       "1                  0.0    4261.85  \n",
       "2                 24.0    3278.08  \n",
       "3                -20.0    5790.22  \n",
       "4                  0.0    3775.32  "
      ]
     },
     "execution_count": 72,
     "metadata": {},
     "output_type": "execute_result"
    }
   ],
   "source": [
    "train.head(5)"
   ]
  },
  {
   "cell_type": "code",
   "execution_count": 73,
   "id": "8ff8b283",
   "metadata": {
    "execution": {
     "iopub.execute_input": "2022-05-22T13:01:31.907778Z",
     "iopub.status.busy": "2022-05-22T13:01:31.907308Z",
     "iopub.status.idle": "2022-05-22T13:01:31.920656Z",
     "shell.execute_reply": "2022-05-22T13:01:31.920122Z"
    },
    "papermill": {
     "duration": 0.142995,
     "end_time": "2022-05-22T13:01:31.922269",
     "exception": false,
     "start_time": "2022-05-22T13:01:31.779274",
     "status": "completed"
    },
    "tags": []
   },
   "outputs": [
    {
     "data": {
      "text/html": [
       "<div>\n",
       "<style scoped>\n",
       "    .dataframe tbody tr th:only-of-type {\n",
       "        vertical-align: middle;\n",
       "    }\n",
       "\n",
       "    .dataframe tbody tr th {\n",
       "        vertical-align: top;\n",
       "    }\n",
       "\n",
       "    .dataframe thead th {\n",
       "        text-align: right;\n",
       "    }\n",
       "</style>\n",
       "<table border=\"1\" class=\"dataframe\">\n",
       "  <thead>\n",
       "    <tr style=\"text-align: right;\">\n",
       "      <th></th>\n",
       "      <th>OFFICE_ID</th>\n",
       "      <th>SIGORTA_TIP</th>\n",
       "      <th>KAPSAM_TIPI</th>\n",
       "      <th>POLICE_SEHIR</th>\n",
       "      <th>MESLEK</th>\n",
       "      <th>MUSTERI_SEGMENTI</th>\n",
       "      <th>EGITIM_DURUM</th>\n",
       "      <th>ODENEN</th>\n",
       "      <th>ODENENVADEFARK</th>\n",
       "      <th>OCAKARALIK_VADEFARK</th>\n",
       "      <th>HESAPFARK</th>\n",
       "    </tr>\n",
       "  </thead>\n",
       "  <tbody>\n",
       "    <tr>\n",
       "      <th>0</th>\n",
       "      <td>10056</td>\n",
       "      <td>1</td>\n",
       "      <td>124</td>\n",
       "      <td>62</td>\n",
       "      <td>31</td>\n",
       "      <td>5</td>\n",
       "      <td>2</td>\n",
       "      <td>660</td>\n",
       "      <td>0.0</td>\n",
       "      <td>0.0</td>\n",
       "      <td>5357.40</td>\n",
       "    </tr>\n",
       "    <tr>\n",
       "      <th>1</th>\n",
       "      <td>10006</td>\n",
       "      <td>1</td>\n",
       "      <td>124</td>\n",
       "      <td>56</td>\n",
       "      <td>31</td>\n",
       "      <td>5</td>\n",
       "      <td>2</td>\n",
       "      <td>780</td>\n",
       "      <td>0.0</td>\n",
       "      <td>0.0</td>\n",
       "      <td>3343.07</td>\n",
       "    </tr>\n",
       "    <tr>\n",
       "      <th>2</th>\n",
       "      <td>10006</td>\n",
       "      <td>1</td>\n",
       "      <td>124</td>\n",
       "      <td>1</td>\n",
       "      <td>31</td>\n",
       "      <td>4</td>\n",
       "      <td>0</td>\n",
       "      <td>630</td>\n",
       "      <td>0.0</td>\n",
       "      <td>0.0</td>\n",
       "      <td>3818.82</td>\n",
       "    </tr>\n",
       "    <tr>\n",
       "      <th>3</th>\n",
       "      <td>10006</td>\n",
       "      <td>1</td>\n",
       "      <td>124</td>\n",
       "      <td>9</td>\n",
       "      <td>9</td>\n",
       "      <td>5</td>\n",
       "      <td>4</td>\n",
       "      <td>630</td>\n",
       "      <td>0.0</td>\n",
       "      <td>0.0</td>\n",
       "      <td>3160.30</td>\n",
       "    </tr>\n",
       "    <tr>\n",
       "      <th>4</th>\n",
       "      <td>10090</td>\n",
       "      <td>1</td>\n",
       "      <td>109</td>\n",
       "      <td>24</td>\n",
       "      <td>31</td>\n",
       "      <td>6</td>\n",
       "      <td>1</td>\n",
       "      <td>0</td>\n",
       "      <td>-540.0</td>\n",
       "      <td>0.0</td>\n",
       "      <td>96.87</td>\n",
       "    </tr>\n",
       "  </tbody>\n",
       "</table>\n",
       "</div>"
      ],
      "text/plain": [
       "   OFFICE_ID  SIGORTA_TIP  KAPSAM_TIPI  POLICE_SEHIR  MESLEK  \\\n",
       "0      10056            1          124            62      31   \n",
       "1      10006            1          124            56      31   \n",
       "2      10006            1          124             1      31   \n",
       "3      10006            1          124             9       9   \n",
       "4      10090            1          109            24      31   \n",
       "\n",
       "   MUSTERI_SEGMENTI  EGITIM_DURUM  ODENEN  ODENENVADEFARK  \\\n",
       "0                 5             2     660             0.0   \n",
       "1                 5             2     780             0.0   \n",
       "2                 4             0     630             0.0   \n",
       "3                 5             4     630             0.0   \n",
       "4                 6             1       0          -540.0   \n",
       "\n",
       "   OCAKARALIK_VADEFARK  HESAPFARK  \n",
       "0                  0.0    5357.40  \n",
       "1                  0.0    3343.07  \n",
       "2                  0.0    3818.82  \n",
       "3                  0.0    3160.30  \n",
       "4                  0.0      96.87  "
      ]
     },
     "execution_count": 73,
     "metadata": {},
     "output_type": "execute_result"
    }
   ],
   "source": [
    "test.head(5)"
   ]
  },
  {
   "cell_type": "code",
   "execution_count": 74,
   "id": "714fe0c2",
   "metadata": {
    "execution": {
     "iopub.execute_input": "2022-05-22T13:01:32.180486Z",
     "iopub.status.busy": "2022-05-22T13:01:32.179985Z",
     "iopub.status.idle": "2022-05-22T13:01:32.434657Z",
     "shell.execute_reply": "2022-05-22T13:01:32.433954Z"
    },
    "papermill": {
     "duration": 0.388388,
     "end_time": "2022-05-22T13:01:32.437475",
     "exception": false,
     "start_time": "2022-05-22T13:01:32.049087",
     "status": "completed"
    },
    "tags": []
   },
   "outputs": [
    {
     "name": "stdout",
     "output_type": "stream",
     "text": [
      "Summary:\n",
      "            OFFICE_ID    SIGORTA_TIP    KAPSAM_TIPI   POLICE_SEHIR  \\\n",
      "count  634032.000000  634032.000000  634032.000000  634032.000000   \n",
      "mean    10331.370854       1.578395     100.517753      24.033136   \n",
      "std       394.575571       1.057767      53.168368      24.109295   \n",
      "min     10000.000000       1.000000       0.000000       0.000000   \n",
      "25%     10006.000000       1.000000      50.000000       2.000000   \n",
      "50%     10151.000000       1.000000     109.000000      13.000000   \n",
      "75%     10556.000000       3.000000     128.000000      46.000000   \n",
      "max     11756.000000       6.000000     238.000000      75.000000   \n",
      "\n",
      "              MESLEK  MUSTERI_SEGMENTI   EGITIM_DURUM   ARTIS_DURUMU  \\\n",
      "count  634032.000000     634032.000000  634032.000000  634032.000000   \n",
      "mean       22.937147          4.382001       2.207581       0.086944   \n",
      "std        10.748651          1.521242       1.425212       0.281753   \n",
      "min         0.000000          1.000000       0.000000       0.000000   \n",
      "25%        11.000000          3.000000       1.000000       0.000000   \n",
      "50%        31.000000          5.000000       2.000000       0.000000   \n",
      "75%        31.000000          6.000000       4.000000       0.000000   \n",
      "max        32.000000          6.000000       6.000000       1.000000   \n",
      "\n",
      "              ODENEN  ODENENVADEFARK  OCAKARALIK_VADEFARK     HESAPFARK  \n",
      "count  634032.000000   634032.000000        634032.000000  6.340320e+05  \n",
      "mean      613.216533     -332.224813            -7.128711  5.994482e+03  \n",
      "std      1022.233077      832.970988           396.606239  1.323810e+04  \n",
      "min         0.000000  -300000.000000        -35016.000000 -4.473703e+05  \n",
      "25%         0.000000     -570.000000             0.000000  8.055000e+01  \n",
      "50%       462.000000        0.000000             0.000000  2.827805e+03  \n",
      "75%       810.000000        0.000000             0.000000  6.297432e+03  \n",
      "max     60000.000000      268.000000        299700.000000  1.222496e+06   \n",
      "\n"
     ]
    }
   ],
   "source": [
    "print(\"Summary:\\n\", train.describe(), \"\\n\")"
   ]
  },
  {
   "cell_type": "code",
   "execution_count": 75,
   "id": "a1e8f9ff",
   "metadata": {
    "execution": {
     "iopub.execute_input": "2022-05-22T13:01:32.699173Z",
     "iopub.status.busy": "2022-05-22T13:01:32.698351Z",
     "iopub.status.idle": "2022-05-22T13:01:32.921659Z",
     "shell.execute_reply": "2022-05-22T13:01:32.920957Z"
    },
    "papermill": {
     "duration": 0.359186,
     "end_time": "2022-05-22T13:01:32.923596",
     "exception": false,
     "start_time": "2022-05-22T13:01:32.564410",
     "status": "completed"
    },
    "tags": []
   },
   "outputs": [
    {
     "data": {
      "text/plain": [
       "<AxesSubplot:xlabel='ARTIS_DURUMU', ylabel='count'>"
      ]
     },
     "execution_count": 75,
     "metadata": {},
     "output_type": "execute_result"
    },
    {
     "data": {
      "image/png": "[encoded data removed]",
      "text/plain": [
       "<Figure size 432x288 with 1 Axes>"
      ]
     },
     "metadata": {
      "needs_background": "light"
     },
     "output_type": "display_data"
    }
   ],
   "source": [
    "#dataset is inbalanced\n",
    "sns.countplot(train[\"ARTIS_DURUMU\"])"
   ]
  },
  {
   "cell_type": "code",
   "execution_count": 76,
   "id": "943cbeae",
   "metadata": {
    "execution": {
     "iopub.execute_input": "2022-05-22T13:01:33.180784Z",
     "iopub.status.busy": "2022-05-22T13:01:33.180298Z",
     "iopub.status.idle": "2022-05-22T13:01:33.202700Z",
     "shell.execute_reply": "2022-05-22T13:01:33.202122Z"
    },
    "papermill": {
     "duration": 0.153166,
     "end_time": "2022-05-22T13:01:33.204894",
     "exception": false,
     "start_time": "2022-05-22T13:01:33.051728",
     "status": "completed"
    },
    "tags": []
   },
   "outputs": [],
   "source": [
    "y = train[\"ARTIS_DURUMU\"]\n",
    "X = train.drop([\"ARTIS_DURUMU\"],axis=1)"
   ]
  },
  {
   "cell_type": "code",
   "execution_count": 77,
   "id": "ea6382ec",
   "metadata": {
    "execution": {
     "iopub.execute_input": "2022-05-22T13:01:33.461568Z",
     "iopub.status.busy": "2022-05-22T13:01:33.461036Z",
     "iopub.status.idle": "2022-05-22T13:01:34.608694Z",
     "shell.execute_reply": "2022-05-22T13:01:34.607777Z"
    },
    "papermill": {
     "duration": 1.278515,
     "end_time": "2022-05-22T13:01:34.610855",
     "exception": false,
     "start_time": "2022-05-22T13:01:33.332340",
     "status": "completed"
    },
    "tags": []
   },
   "outputs": [
    {
     "name": "stdout",
     "output_type": "stream",
     "text": [
      "Counter({0: 578907, 1: 55125})\n",
      "Counter({0: 578907, 1: 289453})\n"
     ]
    }
   ],
   "source": [
    "from collections import Counter\n",
    "\n",
    "from imblearn.over_sampling import RandomOverSampler\n",
    "from imblearn.under_sampling import RandomUnderSampler\n",
    "print(Counter(y))\n",
    "# define oversampling strategy\n",
    "over = RandomOverSampler(sampling_strategy=0.5)\n",
    "# fit and apply the transform\n",
    "X, y = over.fit_resample(X, y)\n",
    "# summarize class distribution\n",
    "print(Counter(y))\n"
   ]
  },
  {
   "cell_type": "code",
   "execution_count": 78,
   "id": "77c8f547",
   "metadata": {
    "execution": {
     "iopub.execute_input": "2022-05-22T13:01:34.869774Z",
     "iopub.status.busy": "2022-05-22T13:01:34.869307Z",
     "iopub.status.idle": "2022-05-22T13:02:31.966109Z",
     "shell.execute_reply": "2022-05-22T13:02:31.965209Z"
    },
    "papermill": {
     "duration": 57.362576,
     "end_time": "2022-05-22T13:02:32.102109",
     "exception": false,
     "start_time": "2022-05-22T13:01:34.739533",
     "status": "completed"
    },
    "tags": []
   },
   "outputs": [
    {
     "name": "stdout",
     "output_type": "stream",
     "text": [
      "[13:01:35] WARNING: ../src/learner.cc:627: \n",
      "Parameters: { \"scoring\" } might not be used.\n",
      "\n",
      "  This could be a false alarm, with some parameters getting used by language bindings but\n",
      "  then being mistakenly passed down to XGBoost core, or some parameter actually being used\n",
      "  but getting flagged wrongly here. Please open an issue if you find any such cases.\n",
      "\n",
      "\n"
     ]
    },
    {
     "data": {
      "text/plain": [
       "XGBClassifier(base_score=0.5, booster='gbtree', callbacks=None,\n",
       "              colsample_bylevel=1, colsample_bynode=1, colsample_bytree=1,\n",
       "              early_stopping_rounds=None, enable_categorical=False,\n",
       "              eval_metric=None, gamma=0, gpu_id=-1, grow_policy='depthwise',\n",
       "              importance_type=None, interaction_constraints='',\n",
       "              learning_rate=0.2, max_bin=256, max_cat_to_onehot=4,\n",
       "              max_delta_step=0, max_depth=6, max_leaves=0, min_child_weight=1,\n",
       "              missing=nan, monotone_constraints='()', n_estimators=100,\n",
       "              n_jobs=0, num_parallel_tree=1, predictor='auto', random_state=0,\n",
       "              reg_alpha=0, reg_lambda=1, ...)"
      ]
     },
     "execution_count": 78,
     "metadata": {},
     "output_type": "execute_result"
    }
   ],
   "source": [
    "from sklearn.ensemble import RandomForestClassifier\n",
    "from sklearn.linear_model import LogisticRegression\n",
    "from sklearn.naive_bayes import GaussianNB\n",
    "from sklearn.tree import DecisionTreeClassifier\n",
    "from xgboost import XGBClassifier\n",
    "from catboost import CatBoostClassifier\n",
    "from sklearn.metrics import f1_score\n",
    "\n",
    "fix_params = {'learning_rate': 0.2, 'n_estimators': 100, 'objective': 'binary:logistic'}\n",
    "model = XGBClassifier(**fix_params, scoring = 'f1')\n",
    "model.fit(X,y)\n"
   ]
  },
  {
   "cell_type": "code",
   "execution_count": 79,
   "id": "778640c0",
   "metadata": {
    "execution": {
     "iopub.execute_input": "2022-05-22T13:02:32.370355Z",
     "iopub.status.busy": "2022-05-22T13:02:32.370036Z",
     "iopub.status.idle": "2022-05-22T13:02:32.622865Z",
     "shell.execute_reply": "2022-05-22T13:02:32.622117Z"
    },
    "papermill": {
     "duration": 0.39005,
     "end_time": "2022-05-22T13:02:32.625249",
     "exception": false,
     "start_time": "2022-05-22T13:02:32.235199",
     "status": "completed"
    },
    "tags": []
   },
   "outputs": [],
   "source": [
    "predictions = model.predict(test)"
   ]
  },
  {
   "cell_type": "code",
   "execution_count": 80,
   "id": "84790722",
   "metadata": {
    "execution": {
     "iopub.execute_input": "2022-05-22T13:02:32.895322Z",
     "iopub.status.busy": "2022-05-22T13:02:32.894978Z",
     "iopub.status.idle": "2022-05-22T13:02:33.370901Z",
     "shell.execute_reply": "2022-05-22T13:02:33.369949Z"
    },
    "papermill": {
     "duration": 0.613358,
     "end_time": "2022-05-22T13:02:33.373566",
     "exception": false,
     "start_time": "2022-05-22T13:02:32.760208",
     "status": "completed"
    },
    "tags": []
   },
   "outputs": [],
   "source": [
    "submission = pd.read_csv('../input/anadolu-hayat-emeklilik-datathon-coderspace/samplesubmission.csv')\n",
    "submission['ARTIS_DURUMU'] = predictions\n",
    "submission.to_csv('submission.csv', index=False)"
   ]
  }
 ],
 "metadata": {
  "kernelspec": {
   "display_name": "Python 3",
   "language": "python",
   "name": "python3"
  },
  "language_info": {
   "codemirror_mode": {
    "name": "ipython",
    "version": 3
   },
   "file_extension": ".py",
   "mimetype": "text/x-python",
   "name": "python",
   "nbconvert_exporter": "python",
   "pygments_lexer": "ipython3",
   "version": "3.7.12"
  },
  "papermill": {
   "default_parameters": {},
   "duration": 170.329106,
   "end_time": "2022-05-22T13:02:34.528677",
   "environment_variables": {},
   "exception": null,
   "input_path": "__notebook__.ipynb",
   "output_path": "__notebook__.ipynb",
   "parameters": {},
   "start_time": "2022-05-22T12:59:44.199571",
   "version": "2.3.4"
  }
 },
 "nbformat": 4,
 "nbformat_minor": 5
}
